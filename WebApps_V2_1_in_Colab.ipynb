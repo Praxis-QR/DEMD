{
  "nbformat": 4,
  "nbformat_minor": 0,
  "metadata": {
    "colab": {
      "name": "WebApps V2.1 in Colab",
      "provenance": [],
      "collapsed_sections": [],
      "include_colab_link": true
    },
    "kernelspec": {
      "name": "python3",
      "display_name": "Python 3"
    },
    "gpuClass": "standard"
  },
  "cells": [
    {
      "cell_type": "markdown",
      "metadata": {
        "id": "view-in-github",
        "colab_type": "text"
      },
      "source": [
        "<a href=\"https://colab.research.google.com/github/Praxis-QR/DEMD/blob/main/WebApps_V2_1_in_Colab.ipynb\" target=\"_parent\"><img src=\"https://colab.research.google.com/assets/colab-badge.svg\" alt=\"Open In Colab\"/></a>"
      ]
    },
    {
      "cell_type": "markdown",
      "metadata": {
        "id": "fAcxEwXbZPVb"
      },
      "source": [
        "![alt text](https://4.bp.blogspot.com/-gbL5nZDkpFQ/XScFYwoTEII/AAAAAAAAAGY/CcVb_HDLwvs2Brv5T4vSsUcz7O4r2Q79ACK4BGAYYCw/s1600/kk3-header00-beta.png)<br>\n",
        "\n",
        "\n",
        "<hr>\n",
        "\n",
        "[Prithwis Mukerjee](http://www.linkedin.com/in/prithwis)<br>"
      ]
    },
    {
      "cell_type": "markdown",
      "metadata": {
        "id": "eQPJOQXTb2y4"
      },
      "source": [
        "#Introduction"
      ]
    },
    {
      "cell_type": "markdown",
      "metadata": {
        "id": "bSX3XxMLVvTR"
      },
      "source": [
        "This exercise is loosely modelled on the tutorial given in https://pythonspot.com/flask-web-app-with-python/ except that instead of working with a local machine where the TCPIP ports are easily accessible, we use Google Colab where such ports are not easily accessible. To overcome this problem we use ngrok tunnelling technology that creates a publicly accessible URL that can access TCPIP applications running on any Google Colab VM port <br>\n",
        "All files used in these exercises are availale at https://drive.google.com/drive/folders/1SzeS5AqnCNa9FTSeUHCGcJsClrGNlGVt?usp=sharing <br> <br>\n",
        "Other ways of achieving this are as follows \n",
        "\n",
        "\n",
        "*   flask-ngrok - https://pypi.org/project/flask-ngrok/\n",
        "*   pyngrok - https://pypi.org/project/pyngrok/\n",
        "<br>\n",
        "However the MOST SIMPLEST way to access a port in google colab is to follow the instructions given in <br>\n",
        " https://stackoverflow.com/questions/59741453/is-there-a-general-way-to-run-web-applications-on-google-colab <br>\n",
        "\n",
        "see https://colab.research.google.com/drive/1XIz5OE3CqvlqjyYPQxrO-zhlVa8ZhMA0?usp=sharing\n"
      ]
    },
    {
      "cell_type": "markdown",
      "metadata": {
        "id": "tOULZNaBZ9Hi"
      },
      "source": [
        "#ngrok configuration"
      ]
    },
    {
      "cell_type": "markdown",
      "metadata": {
        "id": "PsGoGUdaWVc1"
      },
      "source": [
        "ngrok needs an authentication token. this can be easily hardcoded into this notebook ( as shown in one of the cells below) To avoid hardcoding -- and revealing the same in a public notebook -- the token is stored in Google Drive and accessed by mounting the G-Drive on the Colab VM <br>\n",
        "See \n",
        "\n",
        "\n",
        "1.   https://ngrok.com/ - login \n",
        "2.   https://dashboard.ngrok.com/get-started/setup - get your authtoken\n",
        "\n"
      ]
    },
    {
      "cell_type": "code",
      "metadata": {
        "id": "-cPJEPTlZHWZ",
        "colab": {
          "base_uri": "https://localhost:8080/"
        },
        "outputId": "2120a097-2fe2-43eb-9724-9952c7c32367"
      },
      "source": [
        "from google.colab import drive\n",
        "drive.mount('/content/drive')\n",
        "#!ls /content/drive/'My Drive'/Praxis/'Course - DevOps'/'Advanced Colab'/\n",
        "#!ls /content/drive/'My Drive'/Praxis/WebCredentials\n",
        "!cp /content/drive/'My Drive'/Praxis/WebCredentials/ngrokToken.py ."
      ],
      "execution_count": 1,
      "outputs": [
        {
          "output_type": "stream",
          "name": "stdout",
          "text": [
            "Mounted at /content/drive\n"
          ]
        }
      ]
    },
    {
      "cell_type": "code",
      "source": [
        "#!cat ngrokToken.py"
      ],
      "metadata": {
        "id": "2eQCC4dGQyoC"
      },
      "execution_count": 3,
      "outputs": []
    },
    {
      "cell_type": "code",
      "metadata": {
        "id": "b9SSlpYOajyi"
      },
      "source": [
        "# credential file for Prithwis Mukerjee\n",
        "# this file needs to be uploaded into the VM\n",
        "\n",
        "from ngrokToken import ngrokToken\n",
        "\n",
        "#for the sake of privacy\n",
        "#the following credentials need to be stored in a text file called ngrokToken.py\n",
        "#in the format given below\n",
        "#in the Colab VM\n",
        "\n",
        "#otherwise, the values can be directly placed here\n",
        "\n",
        "#ngrokToken = '1kUOcwwwwwwwwRHsdVJRGMeTdddddddddddYbPZhxod'   # uncomment this line and place your own credentials here\n",
        "#token is available at https://dashboard.ngrok.com/get-started/setup\n",
        "\n",
        "\n",
        "#print(ngrokToken)\n",
        "#ngrokTokenCmd = './ngrok authtoken '+ngrokToken\n",
        "ngrokTokenCmd = 'ngrok authtoken '+ngrokToken\n"
      ],
      "execution_count": 4,
      "outputs": []
    },
    {
      "cell_type": "markdown",
      "metadata": {
        "id": "nh95VMHdn4JW"
      },
      "source": [
        "## Option 1 : Using NGROK using native commands <br>\n",
        "Deprecated"
      ]
    },
    {
      "cell_type": "code",
      "metadata": {
        "id": "wZ8PfUXqa8lY"
      },
      "source": [
        "#https://ngrok.com/download\n",
        "!wget -q https://bin.equinox.io/c/4VmDzA7iaHb/ngrok-stable-linux-amd64.zip"
      ],
      "execution_count": null,
      "outputs": []
    },
    {
      "cell_type": "code",
      "metadata": {
        "id": "xFfNwKkjbYCq"
      },
      "source": [
        "!unzip ngrok-stable-linux-amd64.zip"
      ],
      "execution_count": null,
      "outputs": []
    },
    {
      "cell_type": "code",
      "metadata": {
        "id": "1QsdOd_kcReo"
      },
      "source": [
        "#!./ngrok authtoken xxxxxxxxxxxxxxxxxxxxxxxxxxxxxxxx\n",
        "get_ipython().system_raw(ngrokTokenCmd)"
      ],
      "execution_count": null,
      "outputs": []
    },
    {
      "cell_type": "code",
      "metadata": {
        "id": "gQc5h1i_gfwz"
      },
      "source": [
        "#!apt-get install jq\n",
        "!apt install jq > /dev/null"
      ],
      "execution_count": null,
      "outputs": []
    },
    {
      "cell_type": "markdown",
      "metadata": {
        "id": "G7CmUsI_oT34"
      },
      "source": [
        "## Option 2 : Using Python wrapper for NGROK <br>\n",
        "this code adapted from https://towardsdatascience.com/quickly-share-ml-webapps-from-google-colab-using-ngrok-for-free-ae899ca2661a"
      ]
    },
    {
      "cell_type": "code",
      "metadata": {
        "id": "ZkGDRme4opqW",
        "colab": {
          "base_uri": "https://localhost:8080/"
        },
        "outputId": "1a6b57d8-b095-4051-de8d-6312b57cd0ae"
      },
      "source": [
        "!pip install pyngrok"
      ],
      "execution_count": 5,
      "outputs": [
        {
          "output_type": "stream",
          "name": "stdout",
          "text": [
            "Looking in indexes: https://pypi.org/simple, https://us-python.pkg.dev/colab-wheels/public/simple/\n",
            "Collecting pyngrok\n",
            "  Downloading pyngrok-5.1.0.tar.gz (745 kB)\n",
            "\u001b[K     |████████████████████████████████| 745 kB 5.1 MB/s \n",
            "\u001b[?25hRequirement already satisfied: PyYAML in /usr/local/lib/python3.7/dist-packages (from pyngrok) (3.13)\n",
            "Building wheels for collected packages: pyngrok\n",
            "  Building wheel for pyngrok (setup.py) ... \u001b[?25l\u001b[?25hdone\n",
            "  Created wheel for pyngrok: filename=pyngrok-5.1.0-py3-none-any.whl size=19007 sha256=068d28c24a51c32d9554c8064d785103b9161f8984dd7a12952c5c62d52c1ac5\n",
            "  Stored in directory: /root/.cache/pip/wheels/bf/e6/af/ccf6598ecefecd44104069371795cb9b3afbcd16987f6ccfb3\n",
            "Successfully built pyngrok\n",
            "Installing collected packages: pyngrok\n",
            "Successfully installed pyngrok-5.1.0\n"
          ]
        }
      ]
    },
    {
      "cell_type": "code",
      "metadata": {
        "id": "9AYyUZ89pJNW"
      },
      "source": [
        "from pyngrok import ngrok\n",
        "# you may place the token directly here\n",
        "#!ngrok authtoken xxxxxxxxxxxxxxxxxxxxxxxxxxxxxx\n",
        "get_ipython().system_raw(ngrokTokenCmd)"
      ],
      "execution_count": 6,
      "outputs": []
    },
    {
      "cell_type": "markdown",
      "metadata": {
        "id": "lzVGEgEbcxbg"
      },
      "source": [
        "#WebApp 01 - Hello World"
      ]
    },
    {
      "cell_type": "code",
      "metadata": {
        "id": "0XeeUv3Ddbw1"
      },
      "source": [
        "#get_ipython().system_raw('./ngrok http 5000 &')     # option 1\n",
        "public_url = ngrok.connect(5000)                        # option 2"
      ],
      "execution_count": 7,
      "outputs": []
    },
    {
      "cell_type": "code",
      "metadata": {
        "id": "VD36XbLUXl2l",
        "colab": {
          "base_uri": "https://localhost:8080/"
        },
        "outputId": "b171c440-51ed-4e9a-fa36-8981c8079209"
      },
      "source": [
        "#!curl -s http://localhost:4040/api/tunnels | jq .tunnels[0].public_url     # option 1\n",
        "#!curl -s http://localhost:4040/api/tunnels | jq .tunnels[0].config.addr    # option 2\n",
        "public_url"
      ],
      "execution_count": 8,
      "outputs": [
        {
          "output_type": "execute_result",
          "data": {
            "text/plain": [
              "<NgrokTunnel: \"http://7a34-35-193-209-179.ngrok.io\" -> \"http://localhost:5000\">"
            ]
          },
          "metadata": {},
          "execution_count": 8
        }
      ]
    },
    {
      "cell_type": "code",
      "metadata": {
        "id": "MywhFrKMc2hJ",
        "colab": {
          "base_uri": "https://localhost:8080/"
        },
        "outputId": "3e0a500c-e8a5-49dd-e243-0bf4c4a24c9f"
      },
      "source": [
        "# https://pythonspot.com/flask-web-app-with-python/\n",
        "\n",
        "from sys import argv\n",
        "from flask import Flask\n",
        "app = Flask(__name__)\n",
        "scriptName = argv[0]\n",
        "\n",
        "@app.route(\"/\")\n",
        "def hello():\n",
        "    retString = 'Praxis Web App 01 now running ... '+scriptName\n",
        "    return retString\n",
        " \n",
        "if __name__ == \"__main__\":\n",
        "    app.run(host=\"0.0.0.0\")"
      ],
      "execution_count": 9,
      "outputs": [
        {
          "output_type": "stream",
          "name": "stdout",
          "text": [
            " * Serving Flask app \"__main__\" (lazy loading)\n",
            " * Environment: production\n",
            "\u001b[31m   WARNING: This is a development server. Do not use it in a production deployment.\u001b[0m\n",
            "\u001b[2m   Use a production WSGI server instead.\u001b[0m\n",
            " * Debug mode: off\n"
          ]
        },
        {
          "output_type": "stream",
          "name": "stderr",
          "text": [
            " * Running on http://0.0.0.0:5000/ (Press CTRL+C to quit)\n",
            "127.0.0.1 - - [26/Jul/2022 11:33:37] \"\u001b[37mGET / HTTP/1.1\u001b[0m\" 200 -\n",
            "127.0.0.1 - - [26/Jul/2022 11:33:37] \"\u001b[33mGET /favicon.ico HTTP/1.1\u001b[0m\" 404 -\n"
          ]
        }
      ]
    },
    {
      "cell_type": "markdown",
      "metadata": {
        "id": "TZR5rhPujugQ"
      },
      "source": [
        "#WebApp 02 - html pages"
      ]
    },
    {
      "cell_type": "markdown",
      "metadata": {
        "id": "lgDAZRTSWyK2"
      },
      "source": [
        "Web apps need additionl files for HTML, images, data etc that need to be stored on appropriate directories. These files can either be created in a local machine and uploaded into the appropriate directory, or ( as is being done here) copied from files stored in G-Drive"
      ]
    },
    {
      "cell_type": "code",
      "metadata": {
        "id": "Me8szMxyj1ol"
      },
      "source": [
        "# Create new directory template\n",
        "!mkdir templates"
      ],
      "execution_count": 10,
      "outputs": []
    },
    {
      "cell_type": "code",
      "metadata": {
        "id": "UFVD8dZDkJYI",
        "colab": {
          "base_uri": "https://localhost:8080/"
        },
        "outputId": "7d421158-e32d-428a-b750-db68e8372b6d"
      },
      "source": [
        "# Originally stored in G-Drive\n",
        "#!ls /content/drive/'My Drive'/Praxis/'Course - DevOps'/DevOps/webapp/webapp02/templates\n",
        "#!cp /content/drive/'My Drive'/Praxis/'Course - DevOps'/DevOps/webapp/webapp02/templates/*.html templates\n",
        "# download these two files from GDrive\n",
        "#https://drive.google.com/file/d/1rJ3LLAv6M3kvLko0mIE38QrnjqCK3Up_/view?usp=sharing\n",
        "#https://drive.google.com/file/d/1-ncwBB5qKiZmQ0VOnCDiqLw2pDnqRddg/view?usp=sharing\n",
        "\n",
        "#!gdown https://drive.google.com/uc?id=1rJ3LLAv6M3kvLko0mIE38QrnjqCK3Up_\n",
        "#!gdown https://drive.google.com/uc?id=1-ncwBB5qKiZmQ0VOnCDiqLw2pDnqRddg\n",
        "\n",
        "# Now Stored and Pulled from GitHub\n",
        "!wget https://raw.githubusercontent.com/Praxis-bs/DEMD/main/templates/home.html\n",
        "!wget https://raw.githubusercontent.com/Praxis-bs/DEMD/main/templates/work.html\n"
      ],
      "execution_count": 11,
      "outputs": [
        {
          "output_type": "stream",
          "name": "stdout",
          "text": [
            "--2022-07-26 11:34:01--  https://raw.githubusercontent.com/Praxis-bs/DEMD/main/templates/home.html\n",
            "Resolving raw.githubusercontent.com (raw.githubusercontent.com)... 185.199.108.133, 185.199.109.133, 185.199.110.133, ...\n",
            "Connecting to raw.githubusercontent.com (raw.githubusercontent.com)|185.199.108.133|:443... connected.\n",
            "HTTP request sent, awaiting response... 200 OK\n",
            "Length: 95 [text/plain]\n",
            "Saving to: ‘home.html’\n",
            "\n",
            "\rhome.html             0%[                    ]       0  --.-KB/s               \rhome.html           100%[===================>]      95  --.-KB/s    in 0s      \n",
            "\n",
            "2022-07-26 11:34:02 (4.15 MB/s) - ‘home.html’ saved [95/95]\n",
            "\n",
            "--2022-07-26 11:34:02--  https://raw.githubusercontent.com/Praxis-bs/DEMD/main/templates/work.html\n",
            "Resolving raw.githubusercontent.com (raw.githubusercontent.com)... 185.199.109.133, 185.199.110.133, 185.199.111.133, ...\n",
            "Connecting to raw.githubusercontent.com (raw.githubusercontent.com)|185.199.109.133|:443... connected.\n",
            "HTTP request sent, awaiting response... 200 OK\n",
            "Length: 70 [text/plain]\n",
            "Saving to: ‘work.html’\n",
            "\n",
            "work.html           100%[===================>]      70  --.-KB/s    in 0s      \n",
            "\n",
            "2022-07-26 11:34:02 (4.57 MB/s) - ‘work.html’ saved [70/70]\n",
            "\n"
          ]
        }
      ]
    },
    {
      "cell_type": "code",
      "metadata": {
        "id": "BGh5vBZ1Mymn"
      },
      "source": [
        "!mv *.html templates/"
      ],
      "execution_count": 12,
      "outputs": []
    },
    {
      "cell_type": "code",
      "metadata": {
        "id": "ju5UADU0De9q",
        "colab": {
          "base_uri": "https://localhost:8080/"
        },
        "outputId": "8ae08d91-48df-4200-b89e-515f09e36ca9"
      },
      "source": [
        "!cat templates/home.html"
      ],
      "execution_count": 13,
      "outputs": [
        {
          "output_type": "stream",
          "name": "stdout",
          "text": [
            "<h1> Praxis Data Science </h1>\n",
            "<h2> home page </h2>\n",
            "\n",
            "we can put more data and information here\n"
          ]
        }
      ]
    },
    {
      "cell_type": "code",
      "metadata": {
        "id": "48fn0ycSl4NA",
        "colab": {
          "base_uri": "https://localhost:8080/"
        },
        "outputId": "72d955c6-74e5-4f54-b295-d95c323d0aca"
      },
      "source": [
        "#get_ipython().system_raw('./ngrok http 5000 &')\n",
        "public_url = ngrok.connect(5000)                        # option 2\n",
        "public_url\n"
      ],
      "execution_count": 17,
      "outputs": [
        {
          "output_type": "execute_result",
          "data": {
            "text/plain": [
              "<NgrokTunnel: \"http://9e8e-35-193-209-179.ngrok.io\" -> \"http://localhost:5000\">"
            ]
          },
          "metadata": {},
          "execution_count": 17
        }
      ]
    },
    {
      "cell_type": "code",
      "metadata": {
        "id": "W3R7mxZTY6RM",
        "colab": {
          "base_uri": "https://localhost:8080/"
        },
        "outputId": "f56235cf-92e4-4f22-bcf4-f56794f78acb"
      },
      "source": [
        "#!curl -s http://localhost:4040/api/tunnels | jq .tunnels[0].public_url\n",
        "#!curl -s http://localhost:4040/api/tunnels | jq .tunnels[0].config.addr"
      ],
      "execution_count": 15,
      "outputs": [
        {
          "output_type": "stream",
          "name": "stdout",
          "text": [
            "/bin/bash: jq: command not found\n",
            "/bin/bash: jq: command not found\n"
          ]
        }
      ]
    },
    {
      "cell_type": "code",
      "metadata": {
        "id": "iWWOvecLllng",
        "colab": {
          "base_uri": "https://localhost:8080/"
        },
        "outputId": "bff893e4-e890-4f1f-85b8-279d64363804"
      },
      "source": [
        "# https://pythonspot.com/flask-web-app-with-python/\n",
        "\n",
        "from sys import argv\n",
        "from flask import Flask, flash, redirect, render_template, request, session, abort\n",
        "\n",
        "app = Flask(__name__)\n",
        "scriptName = argv[0]\n",
        "\n",
        "@app.route(\"/\")\n",
        "def hello():\n",
        "    retString = 'WebApp02 now running ... '+scriptName\n",
        "    return retString\n",
        "\n",
        "@app.route('/home')\n",
        "def home():\n",
        "    return render_template('home.html')\n",
        "\n",
        "\n",
        "if __name__ == \"__main__\":\n",
        "    app.run(host=\"0.0.0.0\")"
      ],
      "execution_count": 18,
      "outputs": [
        {
          "output_type": "stream",
          "name": "stdout",
          "text": [
            " * Serving Flask app \"__main__\" (lazy loading)\n",
            " * Environment: production\n",
            "\u001b[31m   WARNING: This is a development server. Do not use it in a production deployment.\u001b[0m\n",
            "\u001b[2m   Use a production WSGI server instead.\u001b[0m\n",
            " * Debug mode: off\n"
          ]
        },
        {
          "output_type": "stream",
          "name": "stderr",
          "text": [
            " * Running on http://0.0.0.0:5000/ (Press CTRL+C to quit)\n",
            "127.0.0.1 - - [26/Jul/2022 11:36:59] \"\u001b[37mGET / HTTP/1.1\u001b[0m\" 200 -\n",
            "127.0.0.1 - - [26/Jul/2022 11:37:00] \"\u001b[33mGET /favicon.ico HTTP/1.1\u001b[0m\" 404 -\n"
          ]
        }
      ]
    },
    {
      "cell_type": "markdown",
      "metadata": {
        "id": "tw00lLMTmt9m"
      },
      "source": [
        "#WebApp 03 - HTML pages with image"
      ]
    },
    {
      "cell_type": "code",
      "metadata": {
        "id": "uOOorm-amzNO"
      },
      "source": [
        "# new directory for images\n",
        "!mkdir static"
      ],
      "execution_count": 19,
      "outputs": []
    },
    {
      "cell_type": "code",
      "metadata": {
        "id": "NujQtgzcp5h3",
        "colab": {
          "base_uri": "https://localhost:8080/"
        },
        "outputId": "11587d63-d584-4d22-fc24-198672bc63c6"
      },
      "source": [
        "#!cp /content/drive/'My Drive'/Praxis/'Course - DevOps'/DevOps/webapp/webapp03/static/kkpraxis.png static\n",
        "#https://drive.google.com/file/d/1dEcZxMotndHNglu14240GYBgLdIYaTcB/view?usp=sharing\n",
        "#!gdown https://drive.google.com/uc?id=1dEcZxMotndHNglu14240GYBgLdIYaTcB\n",
        "#!wget https://github.com/Praxis-bs/DEMD/raw/main/static/kkpraxis.png\n",
        "\n",
        "#!cp /content/drive/'My Drive'/Praxis/'Course - DevOps'/DevOps/webapp/webapp03/templates/work0*.html templates\n",
        "#https://drive.google.com/file/d/1cImOiQvpE61c6Wy074Ly1E_yBVaDr5-f/view?usp=sharing\n",
        "#https://drive.google.com/file/d/1ohWMGJyl79xpVJ64yO8qFlCpgH08v71t/view?usp=sharing\n",
        "#!gdown https://drive.google.com/uc?id=1cImOiQvpE61c6Wy074Ly1E_yBVaDr5-f\n",
        "#!gdown https://drive.google.com/uc?id=1ohWMGJyl79xpVJ64yO8qFlCpgH08v71t\n",
        "\n",
        "# Pulling from GitHub\n",
        "\n",
        "\n",
        "!wget https://github.com/Praxis-bs/DEMD/raw/main/static/kkpraxis.png\n",
        "!wget https://raw.githubusercontent.com/Praxis-bs/DEMD/main/templates/work01.html\n",
        "!wget https://raw.githubusercontent.com/Praxis-bs/DEMD/main/templates/work02.html\n"
      ],
      "execution_count": 20,
      "outputs": [
        {
          "output_type": "stream",
          "name": "stdout",
          "text": [
            "--2022-07-26 11:37:41--  https://github.com/Praxis-bs/DEMD/raw/main/static/kkpraxis.png\n",
            "Resolving github.com (github.com)... 140.82.112.4\n",
            "Connecting to github.com (github.com)|140.82.112.4|:443... connected.\n",
            "HTTP request sent, awaiting response... 301 Moved Permanently\n",
            "Location: https://github.com/Praxis-QR/DEMD/raw/main/static/kkpraxis.png [following]\n",
            "--2022-07-26 11:37:41--  https://github.com/Praxis-QR/DEMD/raw/main/static/kkpraxis.png\n",
            "Reusing existing connection to github.com:443.\n",
            "HTTP request sent, awaiting response... 302 Found\n",
            "Location: https://raw.githubusercontent.com/Praxis-QR/DEMD/main/static/kkpraxis.png [following]\n",
            "--2022-07-26 11:37:41--  https://raw.githubusercontent.com/Praxis-QR/DEMD/main/static/kkpraxis.png\n",
            "Resolving raw.githubusercontent.com (raw.githubusercontent.com)... 185.199.108.133, 185.199.109.133, 185.199.110.133, ...\n",
            "Connecting to raw.githubusercontent.com (raw.githubusercontent.com)|185.199.108.133|:443... connected.\n",
            "HTTP request sent, awaiting response... 200 OK\n",
            "Length: 33605 (33K) [image/png]\n",
            "Saving to: ‘kkpraxis.png’\n",
            "\n",
            "kkpraxis.png        100%[===================>]  32.82K  --.-KB/s    in 0.002s  \n",
            "\n",
            "2022-07-26 11:37:41 (13.3 MB/s) - ‘kkpraxis.png’ saved [33605/33605]\n",
            "\n",
            "--2022-07-26 11:37:41--  https://raw.githubusercontent.com/Praxis-bs/DEMD/main/templates/work01.html\n",
            "Resolving raw.githubusercontent.com (raw.githubusercontent.com)... 185.199.109.133, 185.199.108.133, 185.199.111.133, ...\n",
            "Connecting to raw.githubusercontent.com (raw.githubusercontent.com)|185.199.109.133|:443... connected.\n",
            "HTTP request sent, awaiting response... 200 OK\n",
            "Length: 145 [text/plain]\n",
            "Saving to: ‘work01.html’\n",
            "\n",
            "work01.html         100%[===================>]     145  --.-KB/s    in 0s      \n",
            "\n",
            "2022-07-26 11:37:41 (5.43 MB/s) - ‘work01.html’ saved [145/145]\n",
            "\n",
            "--2022-07-26 11:37:41--  https://raw.githubusercontent.com/Praxis-bs/DEMD/main/templates/work02.html\n",
            "Resolving raw.githubusercontent.com (raw.githubusercontent.com)... 185.199.108.133, 185.199.110.133, 185.199.111.133, ...\n",
            "Connecting to raw.githubusercontent.com (raw.githubusercontent.com)|185.199.108.133|:443... connected.\n",
            "HTTP request sent, awaiting response... 200 OK\n",
            "Length: 144 [text/plain]\n",
            "Saving to: ‘work02.html’\n",
            "\n",
            "work02.html         100%[===================>]     144  --.-KB/s    in 0s      \n",
            "\n",
            "2022-07-26 11:37:42 (6.03 MB/s) - ‘work02.html’ saved [144/144]\n",
            "\n"
          ]
        }
      ]
    },
    {
      "cell_type": "code",
      "metadata": {
        "id": "QxmkXC-2QSto"
      },
      "source": [
        "!mv kkpraxis.png static/\n",
        "!mv *.html templates/"
      ],
      "execution_count": 21,
      "outputs": []
    },
    {
      "cell_type": "code",
      "metadata": {
        "id": "vpN8EULMqWLL"
      },
      "source": [
        "get_ipython().system_raw('./ngrok http 5000 &')"
      ],
      "execution_count": null,
      "outputs": []
    },
    {
      "cell_type": "code",
      "metadata": {
        "id": "p3spUcMlZT0U"
      },
      "source": [
        "!curl -s http://localhost:4040/api/tunnels | jq .tunnels[0].public_url\n",
        "!curl -s http://localhost:4040/api/tunnels | jq .tunnels[0].config.addr"
      ],
      "execution_count": null,
      "outputs": []
    },
    {
      "cell_type": "code",
      "metadata": {
        "id": "imwY40BGqNDR"
      },
      "source": [
        "# https://pythonspot.com/flask-web-app-with-python/\n",
        "\n",
        "from sys import argv\n",
        "from flask import Flask, flash, redirect, render_template, request, session, abort\n",
        "\n",
        "app = Flask(__name__)\n",
        "scriptName = argv[0]\n",
        "\n",
        "@app.route(\"/\")\n",
        "def hello():\n",
        "    retString = 'WebApp 03 now running ... '+scriptName\n",
        "    return retString\n",
        "\n",
        "@app.route('/home')\n",
        "def home():\n",
        "    return render_template('home.html')\n",
        "\n",
        "@app.route('/datatext/<inputText>')\n",
        "def say_hello(inputText):\n",
        "    return render_template('work01.html',text_data=inputText)\n",
        "\n",
        "@app.route('/datanumber/<int:inputInt>')\n",
        "def data_input(inputInt):\n",
        "    newVar = 2 * inputInt\n",
        "    return render_template('work02.html',int_data=newVar)\n",
        "\n",
        "\n",
        "if __name__ == \"__main__\":\n",
        "    app.run(host=\"0.0.0.0\")"
      ],
      "execution_count": null,
      "outputs": []
    },
    {
      "cell_type": "markdown",
      "metadata": {
        "id": "ns8TQT6falwo"
      },
      "source": [
        "#Web App 04 - parsing input strings"
      ]
    },
    {
      "cell_type": "code",
      "metadata": {
        "id": "DC6Saqw9bBBJ"
      },
      "source": [
        "#!cp /content/drive/'My Drive'/Praxis/'Course - DevOps'/DevOps/webapp/webapp04/templates/work03.html templates\n",
        "#https://drive.google.com/file/d/1caWC5IoO7Qo6MJgNpxi706oMZOBPUm3i/view?usp=sharing\n",
        "#!gdown https://drive.google.com/uc?id=1caWC5IoO7Qo6MJgNpxi706oMZOBPUm3i\n",
        "\n",
        "# Pulling from github\n",
        "!wget https://raw.githubusercontent.com/Praxis-bs/DEMD/main/templates/work03.html"
      ],
      "execution_count": null,
      "outputs": []
    },
    {
      "cell_type": "code",
      "metadata": {
        "id": "Lw7Di1cjRe1v"
      },
      "source": [
        "!mv work03.html templates/"
      ],
      "execution_count": null,
      "outputs": []
    },
    {
      "cell_type": "code",
      "metadata": {
        "id": "eR2dW4ngbJcO"
      },
      "source": [
        "get_ipython().system_raw('./ngrok http 5000 &')"
      ],
      "execution_count": null,
      "outputs": []
    },
    {
      "cell_type": "code",
      "metadata": {
        "id": "LQPKxF6KbQUE"
      },
      "source": [
        "!curl -s http://localhost:4040/api/tunnels | jq .tunnels[0].public_url\n",
        "!curl -s http://localhost:4040/api/tunnels | jq .tunnels[0].config.addr"
      ],
      "execution_count": null,
      "outputs": []
    },
    {
      "cell_type": "code",
      "metadata": {
        "id": "oy9DlEJ7aq_k"
      },
      "source": [
        "# https://pythonspot.com/flask-web-app-with-python/\n",
        "\n",
        "from sys import argv\n",
        "from flask import Flask, flash, redirect, render_template, request, session, abort\n",
        "\n",
        "app = Flask(__name__)\n",
        "scriptName = argv[0]\n",
        "\n",
        "@app.route(\"/\")\n",
        "def hello():\n",
        "    retString = 'Web App 04 now running ... '+scriptName\n",
        "    return retString\n",
        "\n",
        "@app.route('/home')\n",
        "def home():\n",
        "    return render_template('home.html')\n",
        "\n",
        "@app.route('/datatext/<inputText>')\n",
        "def say_hello(inputText):\n",
        "    return render_template('work01.html',text_data=inputText)\n",
        "\n",
        "@app.route('/datanumber/<int:inputInt>')\n",
        "def data_input(inputInt):\n",
        "    newVar = 2 * inputInt\n",
        "    return render_template('work02.html',int_data=newVar)\n",
        "\n",
        "@app.route('/multidata/<inputString>')\n",
        "def multidata(inputString):\n",
        "    str1 = inputString\n",
        "    text_list = str1.split(\",\")\n",
        "    num_array = list(map(lambda x : float(x), text_list))\n",
        "    return render_template('work03.html',**locals())\n",
        "\n",
        "\n",
        "if __name__ == \"__main__\":\n",
        "    app.run(host=\"0.0.0.0\")"
      ],
      "execution_count": null,
      "outputs": []
    },
    {
      "cell_type": "markdown",
      "metadata": {
        "id": "-IpbS0WncVWa"
      },
      "source": [
        "#Web App 05 - Reading a datafile"
      ]
    },
    {
      "cell_type": "code",
      "metadata": {
        "id": "VUtjvNzfceIX"
      },
      "source": [
        "!mkdir datafiles"
      ],
      "execution_count": null,
      "outputs": []
    },
    {
      "cell_type": "code",
      "metadata": {
        "id": "ovpUXWO8cubM"
      },
      "source": [
        "#!cp /content/drive/'My Drive'/Praxis/'Course - DevOps'/DevOps/webapp/webapp05/datafiles/hobbit.txt datafiles\n",
        "#https://drive.google.com/file/d/15ZQBBvEpOtUqBv-OxgWJt5OI_xZymgCA/view?usp=sharing\n",
        "#!gdown https://drive.google.com/uc?id=15ZQBBvEpOtUqBv-OxgWJt5OI_xZymgCA\n",
        "\n",
        "#!cp /content/drive/'My Drive'/Praxis/'Course - DevOps'/DevOps/webapp/webapp05/templates/work04.html templates\n",
        "#https://drive.google.com/file/d/1MHRvUzRQ21AXbzaR4R58EdnhNAL8v-uJ/view?usp=sharing\n",
        "#!gdown https://drive.google.com/uc?id=1MHRvUzRQ21AXbzaR4R58EdnhNAL8v-uJ\n",
        "\n",
        "!wget https://raw.githubusercontent.com/Praxis-bs/DEMD/main/datafiles/hobbit.txt \n",
        "!wget https://raw.githubusercontent.com/Praxis-bs/DEMD/main/templates/work04.html"
      ],
      "execution_count": null,
      "outputs": []
    },
    {
      "cell_type": "code",
      "metadata": {
        "id": "MZKiDM6lVC4x"
      },
      "source": [
        "!mv hobbit.txt datafiles/\n",
        "!mv work04.html templates/"
      ],
      "execution_count": null,
      "outputs": []
    },
    {
      "cell_type": "code",
      "metadata": {
        "id": "H9VoqMq6c90F"
      },
      "source": [
        "get_ipython().system_raw('./ngrok http 5010 &')"
      ],
      "execution_count": null,
      "outputs": []
    },
    {
      "cell_type": "code",
      "metadata": {
        "id": "FDJaxKnzdvpN"
      },
      "source": [
        "!curl -s http://localhost:4040/api/tunnels | jq .tunnels[0].public_url\n",
        "!curl -s http://localhost:4040/api/tunnels | jq .tunnels[0].config.addr"
      ],
      "execution_count": null,
      "outputs": []
    },
    {
      "cell_type": "code",
      "metadata": {
        "id": "RHWdzMKQcapu"
      },
      "source": [
        "# https://pythonspot.com/flask-web-app-with-python/\n",
        "\n",
        "from sys import argv\n",
        "from flask import Flask, flash, redirect, render_template, request, session, abort\n",
        "\n",
        "app = Flask(__name__)\n",
        "scriptName = argv[0]\n",
        "\n",
        "@app.route(\"/\")\n",
        "def hello():\n",
        "    retString = 'now running ... '+scriptName\n",
        "    return retString\n",
        "\n",
        "@app.route('/home')\n",
        "def home():\n",
        "    return render_template('home.html')\n",
        "\n",
        "@app.route('/datatext/<inputText>')\n",
        "def say_hello(inputText):\n",
        "    return render_template('work01.html',text_data=inputText)\n",
        "\n",
        "@app.route('/datanumber/<int:inputInt>')\n",
        "def data_input(inputInt):\n",
        "    newVar = 2 * inputInt\n",
        "    return render_template('work02.html',int_data=newVar)\n",
        "\n",
        "@app.route('/multidata/<inputString>')\n",
        "def multidata(inputString):\n",
        "    str1 = inputString\n",
        "    text_list = str1.split(\",\")\n",
        "    num_array = list(map(lambda x : float(x), text_list))\n",
        "    return render_template('work03.html',**locals())\n",
        "\n",
        "@app.route('/readfile/<readfilename>')\n",
        "def readfile(readfilename):\n",
        "    filename = 'datafiles/'+readfilename\n",
        "    txt = open(filename)\n",
        "    filecontents = txt.read()\n",
        "    txt.close()\n",
        "    return render_template('work04.html',**locals())\n",
        "\n",
        "\n",
        "if __name__ == \"__main__\":\n",
        "    app.run(host=\"localhost\", port=5010)"
      ],
      "execution_count": null,
      "outputs": []
    },
    {
      "cell_type": "markdown",
      "metadata": {
        "id": "yAwq2LXXhBXt"
      },
      "source": [
        "#ML - Linear Regression <br>\n",
        "where we use a pre-built model to carry out a simple linear regression predictions"
      ]
    },
    {
      "cell_type": "code",
      "metadata": {
        "id": "aFKGuwRehKOM"
      },
      "source": [
        "#!cp /content/drive/'My Drive'/Praxis/'Course - DevOps'/DevOps/ml/applrw2/datafiles/lrw-model.pkl datafiles\n",
        "#https://drive.google.com/file/d/16_A8wVsMjtjCH1jMRKY3c0om-a9ldNnH/view?usp=sharing\n",
        "!gdown https://drive.google.com/uc?id=16_A8wVsMjtjCH1jMRKY3c0om-a9ldNnH\n",
        "\n",
        "#!cp /content/drive/'My Drive'/Praxis/'Course - DevOps'/DevOps/ml/applrw2/templates/home.html templates/home_lrw.html\n",
        "#https://drive.google.com/file/d/16tFiMoSskjZJnd-d4dolCdeVHH8i5atP/view?usp=sharing\n",
        "!gdown https://drive.google.com/uc?id=16tFiMoSskjZJnd-d4dolCdeVHH8i5atP\n",
        "\n",
        "#!cp /content/drive/'My Drive'/Praxis/'Course - DevOps'/DevOps/ml/applrw2/templates/predict1.html templates\n",
        "#https://drive.google.com/file/d/12r4V8T9-M2KEcEuyVX9JxThdBXwDiUwz/view?usp=sharing\n",
        "!gdown https://drive.google.com/uc?id=12r4V8T9-M2KEcEuyVX9JxThdBXwDiUwz"
      ],
      "execution_count": null,
      "outputs": []
    },
    {
      "cell_type": "code",
      "metadata": {
        "id": "3nQIismtW5Km"
      },
      "source": [
        "!mv *.pkl datafiles/\n",
        "!mv home.html templates/home_lrw.html\n",
        "!mv predict1.html templates/"
      ],
      "execution_count": null,
      "outputs": []
    },
    {
      "cell_type": "code",
      "metadata": {
        "id": "8jGcHAixivJn"
      },
      "source": [
        "get_ipython().system_raw('./ngrok http 5010 &')"
      ],
      "execution_count": null,
      "outputs": []
    },
    {
      "cell_type": "code",
      "metadata": {
        "id": "qyj-bdsxizAw"
      },
      "source": [
        "!curl -s http://localhost:4040/api/tunnels | jq .tunnels[0].public_url\n",
        "!curl -s http://localhost:4040/api/tunnels | jq .tunnels[0].config.addr"
      ],
      "execution_count": null,
      "outputs": []
    },
    {
      "cell_type": "code",
      "metadata": {
        "id": "FqNL8PJwidHl"
      },
      "source": [
        "# https://pythonspot.com/flask-web-app-with-python/\n",
        "# COLAB where model is trained, tested\n",
        "# Train : https://colab.research.google.com/drive/1G3VUKVUspcoDnLRobuUfsGTswpCMkU8W\n",
        "# Predict : https://colab.research.google.com/drive/1gF9DI4NT5tH_9lcbVth-kVEZ9sO7wnhU\n",
        "# docker build -t calcutta/de-applrw02 .\n",
        "# docker run --rm --name praxislrw -p 5002:5000 calcutta/de-applrw02\n",
        "\n",
        "from sys import argv\n",
        "from flask import Flask, flash, redirect, render_template, request, session, abort\n",
        "\n",
        "import pickle\n",
        "from sklearn import linear_model\n",
        "\n",
        "app = Flask(__name__)\n",
        "scriptName = argv[0]\n",
        "\n",
        "@app.route(\"/\")\n",
        "def hello():\n",
        "    retString = 'ML LRW now running ... '+scriptName\n",
        "    return retString\n",
        "\n",
        "@app.route('/home')\n",
        "def home():\n",
        "    return render_template('home_lrw.html')\n",
        "\n",
        "\n",
        "\n",
        "@app.route('/predict1/<featureString>')\n",
        "def multidata(featureString):\n",
        "    str1 = featureString\n",
        "    feature_list = featureString.split(\",\")\n",
        "    feature_array = list(map(lambda x : float(x), feature_list))\n",
        "\n",
        "    model = pickle.load(open(\"datafiles/lrw-model.pkl\",\"rb\"))\n",
        "\n",
        "    #our model rates the wine based on the input array\n",
        "    prediction = model.predict([feature_array]).tolist()\n",
        "\n",
        "    return render_template('predict1.html',**locals())\n",
        "\n",
        "\n",
        "if __name__ == \"__main__\":\n",
        "    app.run(host=\"localhost\", port=5010)"
      ],
      "execution_count": null,
      "outputs": []
    },
    {
      "cell_type": "markdown",
      "metadata": {
        "id": "2mEJhPGxyLmK"
      },
      "source": [
        "#ML - Image Classification <br>\n",
        "https://blog.hyperiondev.com/index.php/2018/02/01/deploy-machine-learning-model-flask-api/"
      ]
    },
    {
      "cell_type": "code",
      "metadata": {
        "id": "khd-GqUyyfWn"
      },
      "source": [
        "#!cp /content/drive/'My Drive'/Praxis/'Course - DevOps'/DevOps/ml/appimclass02/datafiles/*.pkl datafiles\n",
        "#https://drive.google.com/file/d/1o6Z02Q-KATgEXSGbQ8XK_H62Dv7BW4eW/view?usp=sharing\n",
        "!gdown https://drive.google.com/uc?id=1o6Z02Q-KATgEXSGbQ8XK_H62Dv7BW4eW\n",
        "\n",
        "#!cp /content/drive/'My Drive'/Praxis/'Course - DevOps'/DevOps/ml/appimclass02/templates/index.html templates \n",
        "#https://drive.google.com/file/d/1pNiq27_abII3mj8PFui1dn1mrKCLlPKd/view?usp=sharing\n",
        "!gdown https://drive.google.com/uc?id=1pNiq27_abII3mj8PFui1dn1mrKCLlPKd"
      ],
      "execution_count": null,
      "outputs": []
    },
    {
      "cell_type": "code",
      "metadata": {
        "id": "qJcpzR4_YdkE"
      },
      "source": [
        "!mv *.pkl datafiles/\n",
        "!mv index.html templates/"
      ],
      "execution_count": null,
      "outputs": []
    },
    {
      "cell_type": "code",
      "metadata": {
        "id": "VdBdWwMLzQR7"
      },
      "source": [
        "get_ipython().system_raw('./ngrok http 5010 &')"
      ],
      "execution_count": null,
      "outputs": []
    },
    {
      "cell_type": "code",
      "metadata": {
        "id": "W2Lgpc77zU6g"
      },
      "source": [
        "!curl -s http://localhost:4040/api/tunnels | jq .tunnels[0].public_url\n",
        "!curl -s http://localhost:4040/api/tunnels | jq .tunnels[0].config.addr"
      ],
      "execution_count": null,
      "outputs": []
    },
    {
      "cell_type": "code",
      "metadata": {
        "id": "PT6w6oHjyOxz"
      },
      "source": [
        "# https://pythonspot.com/flask-web-app-with-python/\n",
        "# https://blog.hyperiondev.com/index.php/2018/02/01/deploy-machine-learning-model-flask-api/\n",
        "# COLAB for train, test, model build https://colab.research.google.com/drive/1JuTezUiqM0Cj_m-FmmeBzw_88xZlYeK-\n",
        "# docker build -t calcutta/de-appimc02 .\n",
        "# docker run --rm --name praxisimc -p 5000:5000 calcutta/de-appimc02\n",
        "\n",
        "# test images available at https://github.com/elliebirbeck/model-deployment-flask/tree/master/test-imgs\n",
        "\n",
        "\n",
        "from sys import argv\n",
        "from flask import Flask, flash, redirect, render_template, request, session, abort, url_for\n",
        "\n",
        "import pickle\n",
        "from sklearn import linear_model\n",
        "#from sklearn.externals import joblib\n",
        "import joblib\n",
        "from sklearn.ensemble import *\n",
        "\n",
        "import numpy as np\n",
        "import imageio\n",
        "\n",
        "\n",
        "app = Flask(__name__)\n",
        "scriptName = argv[0]\n",
        "\n",
        "@app.route(\"/\")\n",
        "def hello():\n",
        "    retString = 'now running ... '+scriptName\n",
        "    return retString\n",
        "\n",
        "@app.route('/home')\n",
        "def home():\n",
        "    return render_template('index.html')\n",
        "\n",
        "@app.route('/predict', methods=['POST'])\n",
        "def make_prediction():\n",
        "    if request.method=='POST':\n",
        "        file = request.files['image']\n",
        "        if not file: \n",
        "            return render_template('index.html', label=\"No file\")\n",
        "        #f = 'datafiles/'+str(file.filename)\n",
        "        #file.save(f)\n",
        "        \n",
        "        img = imageio.imread(file)\n",
        "        img = img[:,:,:3]\n",
        "        img = img.reshape(1, -1)\n",
        "        prediction = model.predict(img)\n",
        "        label = str(np.squeeze(prediction))\n",
        "        if label=='10': \n",
        "            label='0'\n",
        "        return render_template('index.html', label=label, file=file)\n",
        "\n",
        "if __name__ == \"__main__\":\n",
        "    model = joblib.load('datafiles/imClass-model-18032020.pkl')\n",
        "    app.run(host=\"localhost\", port=5010)"
      ],
      "execution_count": null,
      "outputs": []
    },
    {
      "cell_type": "markdown",
      "metadata": {
        "id": "W3qK5YHXZWqT"
      },
      "source": [
        "#Chronobooks <br>\n",
        "![alt text](https://1.bp.blogspot.com/-lTiYBkU2qbU/X1er__fvnkI/AAAAAAAAjtE/GhDR3OEGJr4NG43fZPodrQD5kbxtnKebgCLcBGAsYHQ/s600/Footer2020-600x200.png)<hr>\n",
        "Chronotantra and Chronoyantra are two science fiction novels that explore the collapse of human civilisation on Earth and then its rebirth and reincarnation both on Earth as well as on the distant worlds of Mars, Titan and Enceladus. But is it the human civilisation that is being reborn? Or is it some other sentience that is revealing itself. \n",
        "If you have an interest in AI and found this material useful, you may consider buying these novels, in paperback or kindle, from [http://bit.ly/chronobooks](http://bit.ly/chronobooks)"
      ]
    }
  ]
}