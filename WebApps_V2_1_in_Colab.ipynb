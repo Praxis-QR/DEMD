{
  "nbformat": 4,
  "nbformat_minor": 0,
  "metadata": {
    "colab": {
      "name": "WebApps V2.1 in Colab",
      "provenance": [],
      "collapsed_sections": [],
      "include_colab_link": true
    },
    "kernelspec": {
      "name": "python3",
      "display_name": "Python 3"
    },
    "gpuClass": "standard"
  },
  "cells": [
    {
      "cell_type": "markdown",
      "metadata": {
        "id": "view-in-github",
        "colab_type": "text"
      },
      "source": [
        "<a href=\"https://colab.research.google.com/github/Praxis-QR/DEMD/blob/main/WebApps_V2_1_in_Colab.ipynb\" target=\"_parent\"><img src=\"https://colab.research.google.com/assets/colab-badge.svg\" alt=\"Open In Colab\"/></a>"
      ]
    },
    {
      "cell_type": "markdown",
      "metadata": {
        "id": "fAcxEwXbZPVb"
      },
      "source": [
        "![alt text](https://4.bp.blogspot.com/-gbL5nZDkpFQ/XScFYwoTEII/AAAAAAAAAGY/CcVb_HDLwvs2Brv5T4vSsUcz7O4r2Q79ACK4BGAYYCw/s1600/kk3-header00-beta.png)<br>\n",
        "\n",
        "\n",
        "<hr>\n",
        "\n",
        "[Prithwis Mukerjee](http://www.linkedin.com/in/prithwis)<br>"
      ]
    },
    {
      "cell_type": "markdown",
      "metadata": {
        "id": "eQPJOQXTb2y4"
      },
      "source": [
        "#Introduction"
      ]
    },
    {
      "cell_type": "markdown",
      "metadata": {
        "id": "bSX3XxMLVvTR"
      },
      "source": [
        "This exercise is loosely modelled on the tutorial given in https://pythonspot.com/flask-web-app-with-python/ except that instead of working with a local machine where the TCPIP ports are easily accessible, we use Google Colab where such ports are not easily accessible. To overcome this problem we use ngrok tunnelling technology that creates a publicly accessible URL that can access TCPIP applications running on any Google Colab VM port <br>\n",
        "All files used in these exercises are availale at https://drive.google.com/drive/folders/1SzeS5AqnCNa9FTSeUHCGcJsClrGNlGVt?usp=sharing <br> <br>\n",
        "Other ways of achieving this are as follows \n",
        "\n",
        "\n",
        "*   flask-ngrok - https://pypi.org/project/flask-ngrok/\n",
        "*   pyngrok - https://pypi.org/project/pyngrok/\n",
        "<br>\n",
        "However the MOST SIMPLEST way to access a port in google colab is to follow the instructions given in <br>\n",
        " https://stackoverflow.com/questions/59741453/is-there-a-general-way-to-run-web-applications-on-google-colab <br>\n",
        "\n",
        "see https://colab.research.google.com/drive/1XIz5OE3CqvlqjyYPQxrO-zhlVa8ZhMA0?usp=sharing\n"
      ]
    },
    {
      "cell_type": "markdown",
      "metadata": {
        "id": "tOULZNaBZ9Hi"
      },
      "source": [
        "#ngrok configuration"
      ]
    },
    {
      "cell_type": "markdown",
      "metadata": {
        "id": "PsGoGUdaWVc1"
      },
      "source": [
        "ngrok needs an authentication token. this can be easily hardcoded into this notebook ( as shown in one of the cells below) To avoid hardcoding -- and revealing the same in a public notebook -- the token is stored in Google Drive and accessed by mounting the G-Drive on the Colab VM <br>\n",
        "See \n",
        "\n",
        "\n",
        "1.   https://ngrok.com/ - login \n",
        "2.   https://dashboard.ngrok.com/get-started/setup - get your authtoken\n",
        "\n"
      ]
    },
    {
      "cell_type": "code",
      "metadata": {
        "id": "-cPJEPTlZHWZ",
        "colab": {
          "base_uri": "https://localhost:8080/"
        },
        "outputId": "e7a56890-58f1-46f2-cf49-f1bfea5649b9"
      },
      "source": [
        "# If the ngrokToken is stored in a private file in GDrive, use this route\n",
        "from google.colab import drive\n",
        "drive.mount('/content/drive')\n",
        "\n",
        "#!ls /content/drive/'My Drive'/Praxis/WebCredentials\n",
        "!cp /content/drive/'My Drive'/Praxis/WebCredentials/ngrokToken.py .\n",
        "# credential file for Prithwis Mukerjee\n",
        "# this file needs to be uploaded into the VM\n",
        "\n",
        "from ngrokToken import ngrokToken"
      ],
      "execution_count": 1,
      "outputs": [
        {
          "output_type": "stream",
          "name": "stdout",
          "text": [
            "Mounted at /content/drive\n"
          ]
        }
      ]
    },
    {
      "cell_type": "code",
      "source": [
        "#!cat ngrokToken.py"
      ],
      "metadata": {
        "id": "2eQCC4dGQyoC"
      },
      "execution_count": null,
      "outputs": []
    },
    {
      "cell_type": "code",
      "metadata": {
        "id": "b9SSlpYOajyi"
      },
      "source": [
        "#otherwise, the values can be directly placed here\n",
        "\n",
        "#ngrokToken = '1kUOcwwwwwwwwRHsdVJRGMeTdddddddddddYbPZhxod'   # uncomment this line and place your own credentials here\n",
        "#token is available at https://dashboard.ngrok.com/get-started/setup\n",
        "\n",
        "\n",
        "#print(ngrokToken)\n",
        "\n"
      ],
      "execution_count": null,
      "outputs": []
    },
    {
      "cell_type": "code",
      "source": [
        "#ngrokTokenCmd = './ngrok authtoken '+ngrokToken\n",
        "ngrokTokenCmd = 'ngrok authtoken '+ngrokToken"
      ],
      "metadata": {
        "id": "F302_AofA-_Z"
      },
      "execution_count": 2,
      "outputs": []
    },
    {
      "cell_type": "markdown",
      "metadata": {
        "id": "G7CmUsI_oT34"
      },
      "source": [
        "##Using Python wrapper for NGROK <br>\n",
        "this code adapted from https://towardsdatascience.com/quickly-share-ml-webapps-from-google-colab-using-ngrok-for-free-ae899ca2661a"
      ]
    },
    {
      "cell_type": "code",
      "metadata": {
        "id": "ZkGDRme4opqW",
        "colab": {
          "base_uri": "https://localhost:8080/"
        },
        "outputId": "1c74ee38-b5e6-4ecb-9840-4ed90ac66e10"
      },
      "source": [
        "!pip install pyngrok"
      ],
      "execution_count": 3,
      "outputs": [
        {
          "output_type": "stream",
          "name": "stdout",
          "text": [
            "Looking in indexes: https://pypi.org/simple, https://us-python.pkg.dev/colab-wheels/public/simple/\n",
            "Collecting pyngrok\n",
            "  Downloading pyngrok-5.1.0.tar.gz (745 kB)\n",
            "\u001b[K     |████████████████████████████████| 745 kB 29.6 MB/s \n",
            "\u001b[?25hRequirement already satisfied: PyYAML in /usr/local/lib/python3.7/dist-packages (from pyngrok) (3.13)\n",
            "Building wheels for collected packages: pyngrok\n",
            "  Building wheel for pyngrok (setup.py) ... \u001b[?25l\u001b[?25hdone\n",
            "  Created wheel for pyngrok: filename=pyngrok-5.1.0-py3-none-any.whl size=19007 sha256=54bdfb758b46b2d99edaaa899de5b25c6210a5a3377cc148825ebffa1835315a\n",
            "  Stored in directory: /root/.cache/pip/wheels/bf/e6/af/ccf6598ecefecd44104069371795cb9b3afbcd16987f6ccfb3\n",
            "Successfully built pyngrok\n",
            "Installing collected packages: pyngrok\n",
            "Successfully installed pyngrok-5.1.0\n"
          ]
        }
      ]
    },
    {
      "cell_type": "code",
      "metadata": {
        "id": "9AYyUZ89pJNW"
      },
      "source": [
        "from pyngrok import ngrok\n",
        "get_ipython().system_raw(ngrokTokenCmd)"
      ],
      "execution_count": 4,
      "outputs": []
    },
    {
      "cell_type": "markdown",
      "metadata": {
        "id": "lzVGEgEbcxbg"
      },
      "source": [
        "#WebApp 01 - Hello World"
      ]
    },
    {
      "cell_type": "code",
      "metadata": {
        "id": "0XeeUv3Ddbw1",
        "outputId": "323d26bb-4ef6-4282-bdba-203f6777db50",
        "colab": {
          "base_uri": "https://localhost:8080/"
        }
      },
      "source": [
        "#get_ipython().system_raw('./ngrok http 5000 &')     \n",
        "public_url = ngrok.connect(5000)                        # assuming that WebApps will run on port 5000\n",
        "public_url"
      ],
      "execution_count": 5,
      "outputs": [
        {
          "output_type": "execute_result",
          "data": {
            "text/plain": [
              "<NgrokTunnel: \"http://d141-35-245-24-207.ngrok.io\" -> \"http://localhost:5000\">"
            ]
          },
          "metadata": {},
          "execution_count": 5
        }
      ]
    },
    {
      "cell_type": "code",
      "metadata": {
        "id": "MywhFrKMc2hJ",
        "colab": {
          "base_uri": "https://localhost:8080/"
        },
        "outputId": "51ef6602-9e2e-48ca-f2a1-0d4308d55bfe"
      },
      "source": [
        "# this cell needs to be killed when you want to stop the WebApp\n",
        "# https://pythonspot.com/flask-web-app-with-python/\n",
        "\n",
        "from sys import argv\n",
        "from flask import Flask\n",
        "app = Flask(__name__)\n",
        "scriptName = argv[0]\n",
        "\n",
        "@app.route(\"/\")\n",
        "def hello():\n",
        "    retString = 'Praxis Web App 01 now running ... '+scriptName\n",
        "    return retString\n",
        " \n",
        "if __name__ == \"__main__\":\n",
        "    app.run(host=\"0.0.0.0\")"
      ],
      "execution_count": 6,
      "outputs": [
        {
          "output_type": "stream",
          "name": "stdout",
          "text": [
            " * Serving Flask app \"__main__\" (lazy loading)\n",
            " * Environment: production\n",
            "\u001b[31m   WARNING: This is a development server. Do not use it in a production deployment.\u001b[0m\n",
            "\u001b[2m   Use a production WSGI server instead.\u001b[0m\n",
            " * Debug mode: off\n"
          ]
        },
        {
          "output_type": "stream",
          "name": "stderr",
          "text": [
            " * Running on http://0.0.0.0:5000/ (Press CTRL+C to quit)\n",
            "127.0.0.1 - - [27/Jul/2022 00:20:08] \"\u001b[37mGET / HTTP/1.1\u001b[0m\" 200 -\n",
            "127.0.0.1 - - [27/Jul/2022 00:20:08] \"\u001b[33mGET /favicon.ico HTTP/1.1\u001b[0m\" 404 -\n"
          ]
        }
      ]
    },
    {
      "cell_type": "markdown",
      "metadata": {
        "id": "TZR5rhPujugQ"
      },
      "source": [
        "#WebApp 02 - html pages"
      ]
    },
    {
      "cell_type": "markdown",
      "metadata": {
        "id": "lgDAZRTSWyK2"
      },
      "source": [
        "Web apps need additionl files for HTML, images, data etc that need to be stored on appropriate directories. These files can either be created in a local machine and uploaded into the appropriate directory, or ( as is being done here) copied from files stored in Github"
      ]
    },
    {
      "cell_type": "code",
      "metadata": {
        "id": "Me8szMxyj1ol"
      },
      "source": [
        "# Create new directory template\n",
        "!mkdir templates"
      ],
      "execution_count": 7,
      "outputs": []
    },
    {
      "cell_type": "code",
      "metadata": {
        "id": "UFVD8dZDkJYI"
      },
      "source": [
        "# Originally stored in G-Drive\n",
        "#!gdown https://drive.google.com/uc?id=1rJ3LLAv6M3kvLko0mIE38QrnjqCK3Up_\n",
        "#!gdown https://drive.google.com/uc?id=1-ncwBB5qKiZmQ0VOnCDiqLw2pDnqRddg\n",
        "\n",
        "# Now Stored and Pulled from GitHub\n",
        "!wget -q https://raw.githubusercontent.com/Praxis-bs/DEMD/main/templates/home.html\n",
        "!wget -q https://raw.githubusercontent.com/Praxis-bs/DEMD/main/templates/work.html\n"
      ],
      "execution_count": 8,
      "outputs": []
    },
    {
      "cell_type": "code",
      "metadata": {
        "id": "BGh5vBZ1Mymn"
      },
      "source": [
        "!mv *.html templates/\n",
        "#!cat templates/home.html"
      ],
      "execution_count": 9,
      "outputs": []
    },
    {
      "cell_type": "code",
      "metadata": {
        "id": "48fn0ycSl4NA",
        "colab": {
          "base_uri": "https://localhost:8080/"
        },
        "outputId": "58808e92-4630-4a32-c37b-3b4fd2a378c7"
      },
      "source": [
        "#get_ipython().system_raw('./ngrok http 5000 &')\n",
        "public_url = ngrok.connect(5000)                        # option 2\n",
        "public_url\n"
      ],
      "execution_count": 10,
      "outputs": [
        {
          "output_type": "execute_result",
          "data": {
            "text/plain": [
              "<NgrokTunnel: \"http://8a06-35-245-24-207.ngrok.io\" -> \"http://localhost:5000\">"
            ]
          },
          "metadata": {},
          "execution_count": 10
        }
      ]
    },
    {
      "cell_type": "code",
      "metadata": {
        "id": "iWWOvecLllng",
        "colab": {
          "base_uri": "https://localhost:8080/"
        },
        "outputId": "725a7cac-d1e5-4885-bbc4-adfcc55ad3c8"
      },
      "source": [
        "# https://pythonspot.com/flask-web-app-with-python/\n",
        "\n",
        "from sys import argv\n",
        "from flask import Flask, flash, redirect, render_template, request, session, abort\n",
        "\n",
        "app = Flask(__name__)\n",
        "scriptName = argv[0]\n",
        "\n",
        "@app.route(\"/\")\n",
        "def hello():\n",
        "    retString = 'WebApp02 now running ... '+scriptName\n",
        "    return retString\n",
        "\n",
        "@app.route('/home')\n",
        "def home():\n",
        "    return render_template('home.html')\n",
        "\n",
        "\n",
        "if __name__ == \"__main__\":\n",
        "    app.run(host=\"0.0.0.0\")"
      ],
      "execution_count": 11,
      "outputs": [
        {
          "output_type": "stream",
          "name": "stdout",
          "text": [
            " * Serving Flask app \"__main__\" (lazy loading)\n",
            " * Environment: production\n",
            "\u001b[31m   WARNING: This is a development server. Do not use it in a production deployment.\u001b[0m\n",
            "\u001b[2m   Use a production WSGI server instead.\u001b[0m\n",
            " * Debug mode: off\n"
          ]
        },
        {
          "output_type": "stream",
          "name": "stderr",
          "text": [
            " * Running on http://0.0.0.0:5000/ (Press CTRL+C to quit)\n",
            "127.0.0.1 - - [27/Jul/2022 00:23:41] \"\u001b[37mGET / HTTP/1.1\u001b[0m\" 200 -\n",
            "127.0.0.1 - - [27/Jul/2022 00:23:42] \"\u001b[33mGET /favicon.ico HTTP/1.1\u001b[0m\" 404 -\n",
            "127.0.0.1 - - [27/Jul/2022 00:23:48] \"\u001b[37mGET /home HTTP/1.1\u001b[0m\" 200 -\n",
            "127.0.0.1 - - [27/Jul/2022 00:23:49] \"\u001b[33mGET /favicon.ico HTTP/1.1\u001b[0m\" 404 -\n"
          ]
        }
      ]
    },
    {
      "cell_type": "markdown",
      "metadata": {
        "id": "tw00lLMTmt9m"
      },
      "source": [
        "#WebApp 03 - HTML pages with image"
      ]
    },
    {
      "cell_type": "code",
      "metadata": {
        "id": "uOOorm-amzNO"
      },
      "source": [
        "# new directory for images\n",
        "!mkdir static"
      ],
      "execution_count": 12,
      "outputs": []
    },
    {
      "cell_type": "code",
      "metadata": {
        "id": "NujQtgzcp5h3"
      },
      "source": [
        "#!gdown https://drive.google.com/uc?id=1dEcZxMotndHNglu14240GYBgLdIYaTcB\n",
        "#!gdown https://drive.google.com/uc?id=1cImOiQvpE61c6Wy074Ly1E_yBVaDr5-f\n",
        "#!gdown https://drive.google.com/uc?id=1ohWMGJyl79xpVJ64yO8qFlCpgH08v71t\n",
        "\n",
        "# Pulling from GitHub\n",
        "\n",
        "\n",
        "!wget -q https://github.com/Praxis-bs/DEMD/raw/main/static/kkpraxis.png\n",
        "!wget -q https://raw.githubusercontent.com/Praxis-bs/DEMD/main/templates/work01.html\n",
        "!wget -q https://raw.githubusercontent.com/Praxis-bs/DEMD/main/templates/work02.html\n"
      ],
      "execution_count": 13,
      "outputs": []
    },
    {
      "cell_type": "code",
      "metadata": {
        "id": "QxmkXC-2QSto"
      },
      "source": [
        "!mv kkpraxis.png static/\n",
        "!mv *.html templates/"
      ],
      "execution_count": 14,
      "outputs": []
    },
    {
      "cell_type": "code",
      "metadata": {
        "id": "vpN8EULMqWLL",
        "outputId": "a7a02506-e3d3-46b3-9ebb-bbe06f057d8e",
        "colab": {
          "base_uri": "https://localhost:8080/"
        }
      },
      "source": [
        "public_url = ngrok.connect(5000)                        # option 2\n",
        "public_url\n"
      ],
      "execution_count": 15,
      "outputs": [
        {
          "output_type": "execute_result",
          "data": {
            "text/plain": [
              "<NgrokTunnel: \"http://189e-35-245-24-207.ngrok.io\" -> \"http://localhost:5000\">"
            ]
          },
          "metadata": {},
          "execution_count": 15
        }
      ]
    },
    {
      "cell_type": "code",
      "metadata": {
        "id": "imwY40BGqNDR",
        "outputId": "df2d4a03-bb25-46ff-b2b3-df21fbf4b8a0",
        "colab": {
          "base_uri": "https://localhost:8080/"
        }
      },
      "source": [
        "# https://pythonspot.com/flask-web-app-with-python/\n",
        "\n",
        "from sys import argv\n",
        "from flask import Flask, flash, redirect, render_template, request, session, abort\n",
        "\n",
        "app = Flask(__name__)\n",
        "scriptName = argv[0]\n",
        "\n",
        "@app.route(\"/\")\n",
        "def hello():\n",
        "    retString = 'WebApp 03 now running ... '+scriptName\n",
        "    return retString\n",
        "\n",
        "@app.route('/home')\n",
        "def home():\n",
        "    return render_template('home.html')\n",
        "\n",
        "@app.route('/datatext/<inputText>')\n",
        "def say_hello(inputText):\n",
        "    return render_template('work01.html',text_data=inputText)\n",
        "\n",
        "@app.route('/datanumber/<int:inputInt>')\n",
        "def data_input(inputInt):\n",
        "    newVar = 2 * inputInt\n",
        "    return render_template('work02.html',int_data=newVar)\n",
        "\n",
        "\n",
        "if __name__ == \"__main__\":\n",
        "    app.run(host=\"0.0.0.0\")"
      ],
      "execution_count": 16,
      "outputs": [
        {
          "output_type": "stream",
          "name": "stdout",
          "text": [
            " * Serving Flask app \"__main__\" (lazy loading)\n",
            " * Environment: production\n",
            "\u001b[31m   WARNING: This is a development server. Do not use it in a production deployment.\u001b[0m\n",
            "\u001b[2m   Use a production WSGI server instead.\u001b[0m\n",
            " * Debug mode: off\n"
          ]
        },
        {
          "output_type": "stream",
          "name": "stderr",
          "text": [
            " * Running on http://0.0.0.0:5000/ (Press CTRL+C to quit)\n",
            "127.0.0.1 - - [27/Jul/2022 00:27:01] \"\u001b[37mGET / HTTP/1.1\u001b[0m\" 200 -\n",
            "127.0.0.1 - - [27/Jul/2022 00:27:02] \"\u001b[33mGET /favicon.ico HTTP/1.1\u001b[0m\" 404 -\n",
            "127.0.0.1 - - [27/Jul/2022 00:27:21] \"\u001b[37mGET /datatext/sometext HTTP/1.1\u001b[0m\" 200 -\n",
            "127.0.0.1 - - [27/Jul/2022 00:27:22] \"\u001b[37mGET /static/kkpraxis.png HTTP/1.1\u001b[0m\" 200 -\n",
            "127.0.0.1 - - [27/Jul/2022 00:27:22] \"\u001b[33mGET /favicon.ico HTTP/1.1\u001b[0m\" 404 -\n",
            "127.0.0.1 - - [27/Jul/2022 00:27:32] \"\u001b[37mGET /datatext/some%20more%20text HTTP/1.1\u001b[0m\" 200 -\n",
            "127.0.0.1 - - [27/Jul/2022 00:27:54] \"\u001b[37mGET /datanumber/10 HTTP/1.1\u001b[0m\" 200 -\n",
            "127.0.0.1 - - [27/Jul/2022 00:28:01] \"\u001b[33mGET /datanumber/10.3 HTTP/1.1\u001b[0m\" 404 -\n"
          ]
        }
      ]
    },
    {
      "cell_type": "markdown",
      "metadata": {
        "id": "ns8TQT6falwo"
      },
      "source": [
        "#Web App 04 - parsing input strings"
      ]
    },
    {
      "cell_type": "code",
      "metadata": {
        "id": "DC6Saqw9bBBJ"
      },
      "source": [
        "#!gdown https://drive.google.com/uc?id=1caWC5IoO7Qo6MJgNpxi706oMZOBPUm3i\n",
        "\n",
        "# Pulling from github\n",
        "!wget -q https://raw.githubusercontent.com/Praxis-bs/DEMD/main/templates/work03.html"
      ],
      "execution_count": 18,
      "outputs": []
    },
    {
      "cell_type": "code",
      "metadata": {
        "id": "Lw7Di1cjRe1v"
      },
      "source": [
        "!mv work03.html templates/"
      ],
      "execution_count": 19,
      "outputs": []
    },
    {
      "cell_type": "code",
      "metadata": {
        "id": "eR2dW4ngbJcO",
        "outputId": "3831e0a7-ca5c-4455-a081-c63bb1b82c6b",
        "colab": {
          "base_uri": "https://localhost:8080/"
        }
      },
      "source": [
        "public_url = ngrok.connect(5000)                        # option 2\n",
        "public_url"
      ],
      "execution_count": 20,
      "outputs": [
        {
          "output_type": "execute_result",
          "data": {
            "text/plain": [
              "<NgrokTunnel: \"http://eaa5-35-245-24-207.ngrok.io\" -> \"http://localhost:5000\">"
            ]
          },
          "metadata": {},
          "execution_count": 20
        }
      ]
    },
    {
      "cell_type": "code",
      "metadata": {
        "id": "oy9DlEJ7aq_k",
        "outputId": "7e317461-fe7b-4a79-8c9c-0339b4865e6f",
        "colab": {
          "base_uri": "https://localhost:8080/"
        }
      },
      "source": [
        "# https://pythonspot.com/flask-web-app-with-python/\n",
        "\n",
        "from sys import argv\n",
        "from flask import Flask, flash, redirect, render_template, request, session, abort\n",
        "\n",
        "app = Flask(__name__)\n",
        "scriptName = argv[0]\n",
        "\n",
        "@app.route(\"/\")\n",
        "def hello():\n",
        "    retString = 'Web App 04 now running ... '+scriptName\n",
        "    return retString\n",
        "\n",
        "@app.route('/home')\n",
        "def home():\n",
        "    return render_template('home.html')\n",
        "\n",
        "@app.route('/datatext/<inputText>')\n",
        "def say_hello(inputText):\n",
        "    return render_template('work01.html',text_data=inputText)\n",
        "\n",
        "@app.route('/datanumber/<int:inputInt>')\n",
        "def data_input(inputInt):\n",
        "    newVar = 2 * inputInt\n",
        "    return render_template('work02.html',int_data=newVar)\n",
        "\n",
        "@app.route('/multidata/<inputString>')\n",
        "def multidata(inputString):\n",
        "    str1 = inputString\n",
        "    text_list = str1.split(\",\")\n",
        "    num_array = list(map(lambda x : float(x), text_list))\n",
        "    return render_template('work03.html',**locals())\n",
        "\n",
        "\n",
        "if __name__ == \"__main__\":\n",
        "    app.run(host=\"0.0.0.0\")"
      ],
      "execution_count": 21,
      "outputs": [
        {
          "output_type": "stream",
          "name": "stdout",
          "text": [
            " * Serving Flask app \"__main__\" (lazy loading)\n",
            " * Environment: production\n",
            "\u001b[31m   WARNING: This is a development server. Do not use it in a production deployment.\u001b[0m\n",
            "\u001b[2m   Use a production WSGI server instead.\u001b[0m\n",
            " * Debug mode: off\n"
          ]
        },
        {
          "output_type": "stream",
          "name": "stderr",
          "text": [
            " * Running on http://0.0.0.0:5000/ (Press CTRL+C to quit)\n",
            "127.0.0.1 - - [27/Jul/2022 00:30:54] \"\u001b[37mGET / HTTP/1.1\u001b[0m\" 200 -\n",
            "127.0.0.1 - - [27/Jul/2022 00:30:54] \"\u001b[33mGET /favicon.ico HTTP/1.1\u001b[0m\" 404 -\n",
            "[2022-07-27 00:31:29,381] ERROR in app: Exception on /multidata/the king beneath the mountain [GET]\n",
            "Traceback (most recent call last):\n",
            "  File \"/usr/local/lib/python3.7/dist-packages/flask/app.py\", line 2447, in wsgi_app\n",
            "    response = self.full_dispatch_request()\n",
            "  File \"/usr/local/lib/python3.7/dist-packages/flask/app.py\", line 1952, in full_dispatch_request\n",
            "    rv = self.handle_user_exception(e)\n",
            "  File \"/usr/local/lib/python3.7/dist-packages/flask/app.py\", line 1821, in handle_user_exception\n",
            "    reraise(exc_type, exc_value, tb)\n",
            "  File \"/usr/local/lib/python3.7/dist-packages/flask/_compat.py\", line 39, in reraise\n",
            "    raise value\n",
            "  File \"/usr/local/lib/python3.7/dist-packages/flask/app.py\", line 1950, in full_dispatch_request\n",
            "    rv = self.dispatch_request()\n",
            "  File \"/usr/local/lib/python3.7/dist-packages/flask/app.py\", line 1936, in dispatch_request\n",
            "    return self.view_functions[rule.endpoint](**req.view_args)\n",
            "  File \"<ipython-input-21-37011bcdb5a3>\", line 31, in multidata\n",
            "    num_array = list(map(lambda x : float(x), text_list))\n",
            "  File \"<ipython-input-21-37011bcdb5a3>\", line 31, in <lambda>\n",
            "    num_array = list(map(lambda x : float(x), text_list))\n",
            "ValueError: could not convert string to float: 'the king beneath the mountain'\n",
            "127.0.0.1 - - [27/Jul/2022 00:31:29] \"\u001b[35m\u001b[1mGET /multidata/the%20king%20beneath%20the%20mountain HTTP/1.1\u001b[0m\" 500 -\n",
            "127.0.0.1 - - [27/Jul/2022 00:31:29] \"\u001b[33mGET /favicon.ico HTTP/1.1\u001b[0m\" 404 -\n",
            "127.0.0.1 - - [27/Jul/2022 00:32:19] \"\u001b[37mGET /multidata/2.3,4.5,5.6 HTTP/1.1\u001b[0m\" 200 -\n",
            "127.0.0.1 - - [27/Jul/2022 00:32:20] \"\u001b[37mGET /static/kkpraxis.png HTTP/1.1\u001b[0m\" 200 -\n"
          ]
        }
      ]
    },
    {
      "cell_type": "markdown",
      "metadata": {
        "id": "-IpbS0WncVWa"
      },
      "source": [
        "#Web App 05 - Reading a datafile"
      ]
    },
    {
      "cell_type": "code",
      "metadata": {
        "id": "VUtjvNzfceIX"
      },
      "source": [
        "!mkdir datafiles"
      ],
      "execution_count": 22,
      "outputs": []
    },
    {
      "cell_type": "code",
      "metadata": {
        "id": "ovpUXWO8cubM"
      },
      "source": [
        "#!gdown https://drive.google.com/uc?id=15ZQBBvEpOtUqBv-OxgWJt5OI_xZymgCA\n",
        "#!gdown https://drive.google.com/uc?id=1MHRvUzRQ21AXbzaR4R58EdnhNAL8v-uJ\n",
        "\n",
        "!wget -q  https://raw.githubusercontent.com/Praxis-bs/DEMD/main/datafiles/hobbit.txt \n",
        "!wget -q  https://raw.githubusercontent.com/Praxis-bs/DEMD/main/templates/work04.html"
      ],
      "execution_count": 23,
      "outputs": []
    },
    {
      "cell_type": "code",
      "metadata": {
        "id": "MZKiDM6lVC4x"
      },
      "source": [
        "!mv hobbit.txt datafiles/\n",
        "!mv work04.html templates/"
      ],
      "execution_count": 24,
      "outputs": []
    },
    {
      "cell_type": "code",
      "metadata": {
        "id": "H9VoqMq6c90F",
        "outputId": "c80ab372-91b0-4893-b92a-bd4361088cf6",
        "colab": {
          "base_uri": "https://localhost:8080/"
        }
      },
      "source": [
        "public_url = ngrok.connect(5010)                        # option 2\n",
        "public_url"
      ],
      "execution_count": 27,
      "outputs": [
        {
          "output_type": "execute_result",
          "data": {
            "text/plain": [
              "<NgrokTunnel: \"http://bed9-35-245-24-207.ngrok.io\" -> \"http://localhost:5010\">"
            ]
          },
          "metadata": {},
          "execution_count": 27
        }
      ]
    },
    {
      "cell_type": "code",
      "metadata": {
        "id": "RHWdzMKQcapu",
        "outputId": "9b94f510-69c5-43c8-e72c-192ecc248769",
        "colab": {
          "base_uri": "https://localhost:8080/"
        }
      },
      "source": [
        "# https://pythonspot.com/flask-web-app-with-python/\n",
        "\n",
        "from sys import argv\n",
        "from flask import Flask, flash, redirect, render_template, request, session, abort\n",
        "\n",
        "app = Flask(__name__)\n",
        "scriptName = argv[0]\n",
        "\n",
        "@app.route(\"/\")\n",
        "def hello():\n",
        "    retString = 'now running ... '+scriptName\n",
        "    return retString\n",
        "\n",
        "@app.route('/home')\n",
        "def home():\n",
        "    return render_template('home.html')\n",
        "\n",
        "@app.route('/datatext/<inputText>')\n",
        "def say_hello(inputText):\n",
        "    return render_template('work01.html',text_data=inputText)\n",
        "\n",
        "@app.route('/datanumber/<int:inputInt>')\n",
        "def data_input(inputInt):\n",
        "    newVar = 2 * inputInt\n",
        "    return render_template('work02.html',int_data=newVar)\n",
        "\n",
        "@app.route('/multidata/<inputString>')\n",
        "def multidata(inputString):\n",
        "    str1 = inputString\n",
        "    text_list = str1.split(\",\")\n",
        "    num_array = list(map(lambda x : float(x), text_list))\n",
        "    return render_template('work03.html',**locals())\n",
        "\n",
        "@app.route('/readfile/<readfilename>')\n",
        "def readfile(readfilename):\n",
        "    filename = 'datafiles/'+readfilename\n",
        "    txt = open(filename)\n",
        "    filecontents = txt.read()\n",
        "    txt.close()\n",
        "    return render_template('work04.html',**locals())\n",
        "\n",
        "\n",
        "if __name__ == \"__main__\":\n",
        "    app.run(host=\"localhost\", port=5010)"
      ],
      "execution_count": 28,
      "outputs": [
        {
          "output_type": "stream",
          "name": "stdout",
          "text": [
            " * Serving Flask app \"__main__\" (lazy loading)\n",
            " * Environment: production\n",
            "\u001b[31m   WARNING: This is a development server. Do not use it in a production deployment.\u001b[0m\n",
            "\u001b[2m   Use a production WSGI server instead.\u001b[0m\n",
            " * Debug mode: off\n"
          ]
        },
        {
          "output_type": "stream",
          "name": "stderr",
          "text": [
            " * Running on http://localhost:5010/ (Press CTRL+C to quit)\n",
            "127.0.0.1 - - [27/Jul/2022 01:25:04] \"\u001b[37mGET / HTTP/1.1\u001b[0m\" 200 -\n",
            "127.0.0.1 - - [27/Jul/2022 01:25:05] \"\u001b[33mGET /favicon.ico HTTP/1.1\u001b[0m\" 404 -\n",
            "127.0.0.1 - - [27/Jul/2022 01:25:32] \"\u001b[37mGET /readfile/hobbit.txt HTTP/1.1\u001b[0m\" 200 -\n",
            "127.0.0.1 - - [27/Jul/2022 01:25:32] \"\u001b[37mGET /static/kkpraxis.png HTTP/1.1\u001b[0m\" 200 -\n",
            "127.0.0.1 - - [27/Jul/2022 01:25:33] \"\u001b[33mGET /favicon.ico HTTP/1.1\u001b[0m\" 404 -\n"
          ]
        }
      ]
    },
    {
      "cell_type": "markdown",
      "metadata": {
        "id": "yAwq2LXXhBXt"
      },
      "source": [
        "#ML - Linear Regression <br>\n",
        "where we use a pre-built model to carry out a simple linear regression predictions"
      ]
    },
    {
      "cell_type": "code",
      "metadata": {
        "id": "aFKGuwRehKOM",
        "outputId": "ae2e29c0-160e-486d-de84-2505dcccf952",
        "colab": {
          "base_uri": "https://localhost:8080/"
        }
      },
      "source": [
        "#!cp /content/drive/'My Drive'/Praxis/'Course - DevOps'/DevOps/ml/applrw2/datafiles/lrw-model.pkl datafiles\n",
        "#https://drive.google.com/file/d/16_A8wVsMjtjCH1jMRKY3c0om-a9ldNnH/view?usp=sharing\n",
        "!gdown https://drive.google.com/uc?id=16_A8wVsMjtjCH1jMRKY3c0om-a9ldNnH\n",
        "#https://drive.google.com/file/d/1h6O1XeeaJ_2RjXlszZAHiz8Zv5Wvqzoy/view?usp=sharing\n",
        "!gdown 16_A8wVsMjtjCH1jMRKY3c0om-a9ldNnH\n",
        "\n",
        "#!cp /content/drive/'My Drive'/Praxis/'Course - DevOps'/DevOps/ml/applrw2/templates/home.html templates/home_lrw.html\n",
        "#https://drive.google.com/file/d/16tFiMoSskjZJnd-d4dolCdeVHH8i5atP/view?usp=sharing\n",
        "!gdown https://drive.google.com/uc?id=16tFiMoSskjZJnd-d4dolCdeVHH8i5atP\n",
        "\n",
        "#!cp /content/drive/'My Drive'/Praxis/'Course - DevOps'/DevOps/ml/applrw2/templates/predict1.html templates\n",
        "#https://drive.google.com/file/d/12r4V8T9-M2KEcEuyVX9JxThdBXwDiUwz/view?usp=sharing\n",
        "!gdown https://drive.google.com/uc?id=12r4V8T9-M2KEcEuyVX9JxThdBXwDiUwz"
      ],
      "execution_count": 29,
      "outputs": [
        {
          "output_type": "stream",
          "name": "stdout",
          "text": [
            "Downloading...\n",
            "From: https://drive.google.com/uc?id=16_A8wVsMjtjCH1jMRKY3c0om-a9ldNnH\n",
            "To: /content/lrw-model.pkl\n",
            "100% 675/675 [00:00<00:00, 1.06MB/s]\n",
            "Downloading...\n",
            "From: https://drive.google.com/uc?id=16tFiMoSskjZJnd-d4dolCdeVHH8i5atP\n",
            "To: /content/home.html\n",
            "100% 297/297 [00:00<00:00, 368kB/s]\n",
            "Downloading...\n",
            "From: https://drive.google.com/uc?id=12r4V8T9-M2KEcEuyVX9JxThdBXwDiUwz\n",
            "To: /content/predict1.html\n",
            "100% 302/302 [00:00<00:00, 479kB/s]\n"
          ]
        }
      ]
    },
    {
      "cell_type": "code",
      "source": [
        "!gdown 1h6O1XeeaJ_2RjXlszZAHiz8Zv5Wvqzoy\n"
      ],
      "metadata": {
        "id": "7l2nPYQhUA69",
        "outputId": "e90c5b97-df85-45d7-9baf-b37f0e566fce",
        "colab": {
          "base_uri": "https://localhost:8080/"
        }
      },
      "execution_count": 34,
      "outputs": [
        {
          "output_type": "stream",
          "name": "stdout",
          "text": [
            "Downloading...\n",
            "From: https://drive.google.com/uc?id=1h6O1XeeaJ_2RjXlszZAHiz8Zv5Wvqzoy\n",
            "To: /content/lrw-model-270722.pkl\n",
            "\r  0% 0.00/1.04k [00:00<?, ?B/s]\r100% 1.04k/1.04k [00:00<00:00, 1.66MB/s]\n"
          ]
        }
      ]
    },
    {
      "cell_type": "code",
      "metadata": {
        "id": "3nQIismtW5Km",
        "outputId": "9e6c5420-c4c9-4173-c137-467bbad14e21",
        "colab": {
          "base_uri": "https://localhost:8080/"
        }
      },
      "source": [
        "!mv *.pkl datafiles/\n",
        "!mv home.html templates/home_lrw.html\n",
        "!mv predict1.html templates/"
      ],
      "execution_count": 35,
      "outputs": [
        {
          "output_type": "stream",
          "name": "stdout",
          "text": [
            "mv: cannot stat 'home.html': No such file or directory\n",
            "mv: cannot stat 'predict1.html': No such file or directory\n"
          ]
        }
      ]
    },
    {
      "cell_type": "code",
      "metadata": {
        "id": "8jGcHAixivJn",
        "outputId": "73b8b536-b168-4cff-c334-e425a3a9b42b",
        "colab": {
          "base_uri": "https://localhost:8080/"
        }
      },
      "source": [
        "public_url = ngrok.connect(5010)                        # option 2\n",
        "public_url"
      ],
      "execution_count": 38,
      "outputs": [
        {
          "output_type": "execute_result",
          "data": {
            "text/plain": [
              "<NgrokTunnel: \"http://e581-35-245-24-207.ngrok.io\" -> \"http://localhost:5010\">"
            ]
          },
          "metadata": {},
          "execution_count": 38
        }
      ]
    },
    {
      "cell_type": "code",
      "metadata": {
        "id": "FqNL8PJwidHl",
        "outputId": "4eb9435d-dd18-4144-94f4-9d29bb311323",
        "colab": {
          "base_uri": "https://localhost:8080/"
        }
      },
      "source": [
        "# https://pythonspot.com/flask-web-app-with-python/\n",
        "# COLAB where model is trained, tested\n",
        "# Train : https://github.com/Praxis-QR/DEMD/blob/main/Linear_Regression_Wine_Analysis_Train.ipynb\n",
        "# Predict : https://github.com/Praxis-QR/DEMD/blob/main/Linear_Regression_Wine_Analysis_Predict.ipynb\n",
        "# docker build -t calcutta/de-applrw02 .\n",
        "# docker run --rm --name praxislrw -p 5002:5000 calcutta/de-applrw02\n",
        "\n",
        "from sys import argv\n",
        "from flask import Flask, flash, redirect, render_template, request, session, abort\n",
        "\n",
        "import pickle\n",
        "from sklearn import linear_model\n",
        "\n",
        "app = Flask(__name__)\n",
        "scriptName = argv[0]\n",
        "\n",
        "@app.route(\"/\")\n",
        "def hello():\n",
        "    retString = 'ML LRW now running ... '+scriptName\n",
        "    return retString\n",
        "\n",
        "@app.route('/home')\n",
        "def home():\n",
        "    return render_template('home_lrw.html')\n",
        "\n",
        "\n",
        "\n",
        "@app.route('/predict1/<featureString>')\n",
        "def multidata(featureString):\n",
        "    str1 = featureString\n",
        "    feature_list = featureString.split(\",\")\n",
        "    feature_array = list(map(lambda x : float(x), feature_list))\n",
        "\n",
        "    model = pickle.load(open(\"datafiles/lrw-model-270722.pkl\",\"rb\"))\n",
        "\n",
        "    #our model rates the wine based on the input array\n",
        "    prediction = model.predict([feature_array]).tolist()\n",
        "\n",
        "    return render_template('predict1.html',**locals())\n",
        "\n",
        "\n",
        "if __name__ == \"__main__\":\n",
        "    app.run(host=\"localhost\", port=5010)"
      ],
      "execution_count": 39,
      "outputs": [
        {
          "output_type": "stream",
          "name": "stdout",
          "text": [
            " * Serving Flask app \"__main__\" (lazy loading)\n",
            " * Environment: production\n",
            "\u001b[31m   WARNING: This is a development server. Do not use it in a production deployment.\u001b[0m\n",
            "\u001b[2m   Use a production WSGI server instead.\u001b[0m\n",
            " * Debug mode: off\n"
          ]
        },
        {
          "output_type": "stream",
          "name": "stderr",
          "text": [
            " * Running on http://localhost:5010/ (Press CTRL+C to quit)\n",
            "INFO:werkzeug: * Running on http://localhost:5010/ (Press CTRL+C to quit)\n",
            "127.0.0.1 - - [27/Jul/2022 01:45:04] \"\u001b[37mGET / HTTP/1.1\u001b[0m\" 200 -\n",
            "INFO:werkzeug:127.0.0.1 - - [27/Jul/2022 01:45:04] \"\u001b[37mGET / HTTP/1.1\u001b[0m\" 200 -\n",
            "127.0.0.1 - - [27/Jul/2022 01:45:05] \"\u001b[33mGET /favicon.ico HTTP/1.1\u001b[0m\" 404 -\n",
            "INFO:werkzeug:127.0.0.1 - - [27/Jul/2022 01:45:05] \"\u001b[33mGET /favicon.ico HTTP/1.1\u001b[0m\" 404 -\n",
            "127.0.0.1 - - [27/Jul/2022 01:45:15] \"\u001b[37mGET /home HTTP/1.1\u001b[0m\" 200 -\n",
            "INFO:werkzeug:127.0.0.1 - - [27/Jul/2022 01:45:15] \"\u001b[37mGET /home HTTP/1.1\u001b[0m\" 200 -\n",
            "127.0.0.1 - - [27/Jul/2022 01:45:16] \"\u001b[37mGET /static/kkpraxis.png HTTP/1.1\u001b[0m\" 200 -\n",
            "INFO:werkzeug:127.0.0.1 - - [27/Jul/2022 01:45:16] \"\u001b[37mGET /static/kkpraxis.png HTTP/1.1\u001b[0m\" 200 -\n",
            "127.0.0.1 - - [27/Jul/2022 01:45:16] \"\u001b[33mGET /favicon.ico HTTP/1.1\u001b[0m\" 404 -\n",
            "INFO:werkzeug:127.0.0.1 - - [27/Jul/2022 01:45:16] \"\u001b[33mGET /favicon.ico HTTP/1.1\u001b[0m\" 404 -\n",
            "/usr/local/lib/python3.7/dist-packages/sklearn/base.py:451: UserWarning: X does not have valid feature names, but LinearRegression was fitted with feature names\n",
            "  \"X does not have valid feature names, but\"\n",
            "127.0.0.1 - - [27/Jul/2022 01:45:28] \"\u001b[37mGET /predict1/7.4,0.66,0,1.8,0.075,13,40,0.9978,3.51,0.56,9.4 HTTP/1.1\u001b[0m\" 200 -\n",
            "INFO:werkzeug:127.0.0.1 - - [27/Jul/2022 01:45:28] \"\u001b[37mGET /predict1/7.4,0.66,0,1.8,0.075,13,40,0.9978,3.51,0.56,9.4 HTTP/1.1\u001b[0m\" 200 -\n"
          ]
        }
      ]
    },
    {
      "cell_type": "markdown",
      "metadata": {
        "id": "2mEJhPGxyLmK"
      },
      "source": [
        "#ML - Image Classification <br>\n",
        "https://blog.hyperiondev.com/index.php/2018/02/01/deploy-machine-learning-model-flask-api/"
      ]
    },
    {
      "cell_type": "code",
      "metadata": {
        "id": "khd-GqUyyfWn",
        "outputId": "c5de399e-5752-4eb1-95df-76d341598bd4",
        "colab": {
          "base_uri": "https://localhost:8080/"
        }
      },
      "source": [
        "#!cp /content/drive/'My Drive'/Praxis/'Course - DevOps'/DevOps/ml/appimclass02/datafiles/*.pkl datafiles\n",
        "#https://drive.google.com/file/d/1o6Z02Q-KATgEXSGbQ8XK_H62Dv7BW4eW/view?usp=sharing\n",
        "#!gdown https://drive.google.com/uc?id=1o6Z02Q-KATgEXSGbQ8XK_H62Dv7BW4eW\n",
        "\n",
        "#https://drive.google.com/file/d/1nUS7uA0bveM5SbAwUN5cuqP0wtWcvgRv/view?usp=sharing\n",
        "!gdown 1nUS7uA0bveM5SbAwUN5cuqP0wtWcvgRv     # 'imClass-model-270722.pkl'\n",
        "\n",
        "#!cp /content/drive/'My Drive'/Praxis/'Course - DevOps'/DevOps/ml/appimclass02/templates/index.html templates \n",
        "#https://drive.google.com/file/d/1pNiq27_abII3mj8PFui1dn1mrKCLlPKd/view?usp=sharing\n",
        "!gdown https://drive.google.com/uc?id=1pNiq27_abII3mj8PFui1dn1mrKCLlPKd"
      ],
      "execution_count": 41,
      "outputs": [
        {
          "output_type": "stream",
          "name": "stdout",
          "text": [
            "Downloading...\n",
            "From: https://drive.google.com/uc?id=1nUS7uA0bveM5SbAwUN5cuqP0wtWcvgRv\n",
            "To: /content/imClass-model-270722.pkl\n",
            "100% 336M/336M [00:01<00:00, 257MB/s]\n",
            "Downloading...\n",
            "From: https://drive.google.com/uc?id=1pNiq27_abII3mj8PFui1dn1mrKCLlPKd\n",
            "To: /content/index.html\n",
            "100% 705/705 [00:00<00:00, 551kB/s]\n"
          ]
        }
      ]
    },
    {
      "cell_type": "code",
      "metadata": {
        "id": "qJcpzR4_YdkE"
      },
      "source": [
        "!mv *.pkl datafiles/\n",
        "!mv index.html templates/"
      ],
      "execution_count": 42,
      "outputs": []
    },
    {
      "cell_type": "code",
      "metadata": {
        "id": "VdBdWwMLzQR7",
        "outputId": "ccdde25e-ef3c-4947-9fe8-9bfe613619e8",
        "colab": {
          "base_uri": "https://localhost:8080/"
        }
      },
      "source": [
        "public_url = ngrok.connect(5010)                        # option 2\n",
        "public_url"
      ],
      "execution_count": 43,
      "outputs": [
        {
          "output_type": "execute_result",
          "data": {
            "text/plain": [
              "<NgrokTunnel: \"http://433a-35-245-24-207.ngrok.io\" -> \"http://localhost:5010\">"
            ]
          },
          "metadata": {},
          "execution_count": 43
        }
      ]
    },
    {
      "cell_type": "code",
      "metadata": {
        "id": "PT6w6oHjyOxz",
        "outputId": "c8b7cbc9-a96d-4a22-e9e6-779d726b52db",
        "colab": {
          "base_uri": "https://localhost:8080/"
        }
      },
      "source": [
        "# https://pythonspot.com/flask-web-app-with-python/\n",
        "# https://blog.hyperiondev.com/index.php/2018/02/01/deploy-machine-learning-model-flask-api/\n",
        "# COLAB for train, test, model build https://colab.research.google.com/drive/1JuTezUiqM0Cj_m-FmmeBzw_88xZlYeK-\n",
        "# docker build -t calcutta/de-appimc02 .\n",
        "# docker run --rm --name praxisimc -p 5000:5000 calcutta/de-appimc02\n",
        "\n",
        "# test images available at https://github.com/elliebirbeck/model-deployment-flask/tree/master/test-imgs\n",
        "\n",
        "\n",
        "from sys import argv\n",
        "from flask import Flask, flash, redirect, render_template, request, session, abort, url_for\n",
        "\n",
        "import pickle\n",
        "from sklearn import linear_model\n",
        "#from sklearn.externals import joblib\n",
        "import joblib\n",
        "from sklearn.ensemble import *\n",
        "\n",
        "import numpy as np\n",
        "import imageio\n",
        "\n",
        "\n",
        "app = Flask(__name__)\n",
        "scriptName = argv[0]\n",
        "\n",
        "@app.route(\"/\")\n",
        "def hello():\n",
        "    retString = 'now running ... '+scriptName\n",
        "    return retString\n",
        "\n",
        "@app.route('/home')\n",
        "def home():\n",
        "    return render_template('index.html')\n",
        "\n",
        "@app.route('/predict', methods=['POST'])\n",
        "def make_prediction():\n",
        "    if request.method=='POST':\n",
        "        file = request.files['image']\n",
        "        if not file: \n",
        "            return render_template('index.html', label=\"No file\")\n",
        "        #f = 'datafiles/'+str(file.filename)\n",
        "        #file.save(f)\n",
        "        \n",
        "        img = imageio.imread(file)\n",
        "        img = img[:,:,:3]\n",
        "        img = img.reshape(1, -1)\n",
        "        prediction = model.predict(img)\n",
        "        label = str(np.squeeze(prediction))\n",
        "        if label=='10': \n",
        "            label='0'\n",
        "        return render_template('index.html', label=label, file=file)\n",
        "\n",
        "if __name__ == \"__main__\":\n",
        "    model = joblib.load('datafiles/imClass-model-270722.pkl')\n",
        "    app.run(host=\"localhost\", port=5010)"
      ],
      "execution_count": 44,
      "outputs": [
        {
          "output_type": "stream",
          "name": "stdout",
          "text": [
            " * Serving Flask app \"__main__\" (lazy loading)\n",
            " * Environment: production\n",
            "\u001b[31m   WARNING: This is a development server. Do not use it in a production deployment.\u001b[0m\n",
            "\u001b[2m   Use a production WSGI server instead.\u001b[0m\n",
            " * Debug mode: off\n"
          ]
        },
        {
          "output_type": "stream",
          "name": "stderr",
          "text": [
            " * Running on http://localhost:5010/ (Press CTRL+C to quit)\n",
            "INFO:werkzeug: * Running on http://localhost:5010/ (Press CTRL+C to quit)\n",
            "127.0.0.1 - - [27/Jul/2022 02:31:36] \"\u001b[37mGET / HTTP/1.1\u001b[0m\" 200 -\n",
            "INFO:werkzeug:127.0.0.1 - - [27/Jul/2022 02:31:36] \"\u001b[37mGET / HTTP/1.1\u001b[0m\" 200 -\n",
            "127.0.0.1 - - [27/Jul/2022 02:31:36] \"\u001b[33mGET /favicon.ico HTTP/1.1\u001b[0m\" 404 -\n",
            "INFO:werkzeug:127.0.0.1 - - [27/Jul/2022 02:31:36] \"\u001b[33mGET /favicon.ico HTTP/1.1\u001b[0m\" 404 -\n",
            "127.0.0.1 - - [27/Jul/2022 02:31:43] \"\u001b[33mGET /index HTTP/1.1\u001b[0m\" 404 -\n",
            "INFO:werkzeug:127.0.0.1 - - [27/Jul/2022 02:31:43] \"\u001b[33mGET /index HTTP/1.1\u001b[0m\" 404 -\n",
            "127.0.0.1 - - [27/Jul/2022 02:31:43] \"\u001b[33mGET /favicon.ico HTTP/1.1\u001b[0m\" 404 -\n",
            "INFO:werkzeug:127.0.0.1 - - [27/Jul/2022 02:31:43] \"\u001b[33mGET /favicon.ico HTTP/1.1\u001b[0m\" 404 -\n",
            "127.0.0.1 - - [27/Jul/2022 02:31:56] \"\u001b[37mGET /home HTTP/1.1\u001b[0m\" 200 -\n",
            "INFO:werkzeug:127.0.0.1 - - [27/Jul/2022 02:31:56] \"\u001b[37mGET /home HTTP/1.1\u001b[0m\" 200 -\n",
            "127.0.0.1 - - [27/Jul/2022 02:31:57] \"\u001b[37mGET /static/kkpraxis.png HTTP/1.1\u001b[0m\" 200 -\n",
            "INFO:werkzeug:127.0.0.1 - - [27/Jul/2022 02:31:57] \"\u001b[37mGET /static/kkpraxis.png HTTP/1.1\u001b[0m\" 200 -\n",
            "127.0.0.1 - - [27/Jul/2022 02:33:10] \"\u001b[37mPOST /predict HTTP/1.1\u001b[0m\" 200 -\n",
            "INFO:werkzeug:127.0.0.1 - - [27/Jul/2022 02:33:10] \"\u001b[37mPOST /predict HTTP/1.1\u001b[0m\" 200 -\n"
          ]
        }
      ]
    },
    {
      "cell_type": "markdown",
      "metadata": {
        "id": "W3qK5YHXZWqT"
      },
      "source": [
        "#Chronobooks <br>\n",
        "![alt text](https://1.bp.blogspot.com/-lTiYBkU2qbU/X1er__fvnkI/AAAAAAAAjtE/GhDR3OEGJr4NG43fZPodrQD5kbxtnKebgCLcBGAsYHQ/s600/Footer2020-600x200.png)<hr>\n",
        "Chronotantra and Chronoyantra are two science fiction novels that explore the collapse of human civilisation on Earth and then its rebirth and reincarnation both on Earth as well as on the distant worlds of Mars, Titan and Enceladus. But is it the human civilisation that is being reborn? Or is it some other sentience that is revealing itself. \n",
        "If you have an interest in AI and found this material useful, you may consider buying these novels, in paperback or kindle, from [http://bit.ly/chronobooks](http://bit.ly/chronobooks)"
      ]
    }
  ]
}