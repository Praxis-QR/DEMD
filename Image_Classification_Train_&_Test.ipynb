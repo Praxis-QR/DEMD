{
  "nbformat": 4,
  "nbformat_minor": 0,
  "metadata": {
    "colab": {
      "name": "Image Classification Train & Test",
      "provenance": [],
      "collapsed_sections": [],
      "include_colab_link": true
    },
    "kernelspec": {
      "name": "python3",
      "display_name": "Python 3"
    },
    "accelerator": "GPU"
  },
  "cells": [
    {
      "cell_type": "markdown",
      "metadata": {
        "id": "view-in-github",
        "colab_type": "text"
      },
      "source": [
        "<a href=\"https://colab.research.google.com/github/Praxis-QR/DEMD/blob/main/Image_Classification_Train_%26_Test.ipynb\" target=\"_parent\"><img src=\"https://colab.research.google.com/assets/colab-badge.svg\" alt=\"Open In Colab\"/></a>"
      ]
    },
    {
      "cell_type": "markdown",
      "metadata": {
        "id": "-SCbnbqkYEz8"
      },
      "source": [
        "![alt text](https://4.bp.blogspot.com/-gbL5nZDkpFQ/XScFYwoTEII/AAAAAAAAAGY/CcVb_HDLwvs2Brv5T4vSsUcz7O4r2Q79ACK4BGAYYCw/s1600/kk3-header00-beta.png)<br>\n",
        "\n",
        "\n",
        "<hr>\n",
        "\n",
        "[Prithwis Mukerjee](http://www.linkedin.com/in/prithwis)<br>"
      ]
    },
    {
      "cell_type": "markdown",
      "metadata": {
        "id": "BBVMzzJJJy94"
      },
      "source": [
        "https://blog.hyperiondev.com/index.php/2019/02/18/machine-learning/"
      ]
    },
    {
      "cell_type": "markdown",
      "metadata": {
        "id": "X8-THJR7MAWo"
      },
      "source": [
        "#Get Data"
      ]
    },
    {
      "cell_type": "code",
      "metadata": {
        "id": "4c2rCFESJpAx"
      },
      "source": [
        "#get the data\n",
        "!wget -q http://ufldl.stanford.edu/housenumbers/train_32x32.mat"
      ],
      "execution_count": 1,
      "outputs": []
    },
    {
      "cell_type": "code",
      "metadata": {
        "id": "f9W2hQHtKahu"
      },
      "source": [
        "#!wget http://ufldl.stanford.edu/housenumbers/extra_32x32.mat\n",
        "# this data causes problems"
      ],
      "execution_count": null,
      "outputs": []
    },
    {
      "cell_type": "code",
      "metadata": {
        "id": "pD4KC5-tK7Gj"
      },
      "source": [
        "#Feature Processing\n",
        "import sklearn\n",
        "import scipy.io\n",
        "import numpy as np\n",
        "import matplotlib.pyplot as plt\n",
        "%matplotlib inline"
      ],
      "execution_count": 2,
      "outputs": []
    },
    {
      "cell_type": "code",
      "metadata": {
        "id": "cq-RtzdwLKFc"
      },
      "source": [
        "# load our dataset\n",
        "train_data = scipy.io.loadmat('train_32x32.mat')\n",
        "# extract the images and labels from the dictionary object\n",
        "X = train_data['X']\n",
        "y = train_data['y']"
      ],
      "execution_count": 3,
      "outputs": []
    },
    {
      "cell_type": "code",
      "metadata": {
        "id": "kQR9YXgLLVlL",
        "colab": {
          "base_uri": "https://localhost:8080/",
          "height": 283
        },
        "outputId": "b90105ba-1a9d-4f51-e0ab-e47a26d3d2cd"
      },
      "source": [
        "# view an image (e.g. 25) and print its corresponding label\n",
        "img_index = 25\n",
        "X[:,:,:,img_index]\n",
        "plt.imshow(X[:,:,:,img_index])\n",
        "#plt.show()\n",
        "#print(y[img_index])"
      ],
      "execution_count": 4,
      "outputs": [
        {
          "output_type": "execute_result",
          "data": {
            "text/plain": [
              "<matplotlib.image.AxesImage at 0x7f241260acd0>"
            ]
          },
          "metadata": {},
          "execution_count": 4
        },
        {
          "output_type": "display_data",
          "data": {
            "text/plain": [
              "<Figure size 432x288 with 1 Axes>"
            ],
            "image/png": "[encoded data removed]"
          },
          "metadata": {
            "needs_background": "light"
          }
        }
      ]
    },
    {
      "cell_type": "code",
      "metadata": {
        "id": "H0OTJKv1LjIG"
      },
      "source": [
        "from sklearn.utils import shuffle\n",
        "X = X.reshape(X.shape[0]*X.shape[1]*X.shape[2],X.shape[3]).T\n",
        "y = y.reshape(y.shape[0],)\n",
        "X, y = shuffle(X, y, random_state=42)"
      ],
      "execution_count": 5,
      "outputs": []
    },
    {
      "cell_type": "markdown",
      "metadata": {
        "id": "kyK6KHC6MEA-"
      },
      "source": [
        "#ML Train"
      ]
    },
    {
      "cell_type": "code",
      "metadata": {
        "id": "RbzUz3nZMGw4",
        "colab": {
          "base_uri": "https://localhost:8080/"
        },
        "outputId": "ae83aaf2-e5b2-4f9e-b10c-a2eac4c100cf"
      },
      "source": [
        "from sklearn.ensemble import RandomForestClassifier\n",
        "clf_01 = RandomForestClassifier()\n",
        "print(clf_01)"
      ],
      "execution_count": 6,
      "outputs": [
        {
          "output_type": "stream",
          "name": "stdout",
          "text": [
            "RandomForestClassifier()\n"
          ]
        }
      ]
    },
    {
      "cell_type": "code",
      "metadata": {
        "id": "WKOtefm0MVvc"
      },
      "source": [
        "from sklearn.model_selection import train_test_split\n",
        "X_train, X_test, y_train, y_test = train_test_split(X, y, test_size=0.2, random_state=42)\n"
      ],
      "execution_count": 7,
      "outputs": []
    },
    {
      "cell_type": "code",
      "metadata": {
        "id": "DKQfgnD0lQga",
        "colab": {
          "base_uri": "https://localhost:8080/"
        },
        "outputId": "a6051cb3-2530-490e-d87d-7b70be52f474"
      },
      "source": [
        "%%time\n",
        "#Model is built here ... takes some time nearly 4+ mins\n",
        "clf_01.fit(X_train, y_train)\n",
        "#instead we download from https://drive.google.com/file/d/16l-3moLo4S-f87C6Nw9JxPPuCuXvJrso/view?usp=sharing"
      ],
      "execution_count": 8,
      "outputs": [
        {
          "output_type": "stream",
          "name": "stdout",
          "text": [
            "CPU times: user 4min 27s, sys: 457 ms, total: 4min 28s\n",
            "Wall time: 4min 27s\n"
          ]
        },
        {
          "output_type": "execute_result",
          "data": {
            "text/plain": [
              "RandomForestClassifier()"
            ]
          },
          "metadata": {},
          "execution_count": 8
        }
      ]
    },
    {
      "cell_type": "markdown",
      "metadata": {
        "id": "vv8OH9LuDBhc"
      },
      "source": [
        "##Save"
      ]
    },
    {
      "cell_type": "code",
      "metadata": {
        "colab": {
          "base_uri": "https://localhost:8080/"
        },
        "id": "YA0fcIMC_8e7",
        "outputId": "e663d71e-f592-4ea9-cb0e-5113cb29b499"
      },
      "source": [
        "import joblib\n",
        "joblib.dump(clf_01, 'imClass-model-270722A.pkl')"
      ],
      "execution_count": 9,
      "outputs": [
        {
          "output_type": "execute_result",
          "data": {
            "text/plain": [
              "['imClass-model-270722A.pkl']"
            ]
          },
          "metadata": {},
          "execution_count": 9
        }
      ]
    },
    {
      "cell_type": "code",
      "metadata": {
        "id": "M64qflmVhibR",
        "colab": {
          "base_uri": "https://localhost:8080/"
        },
        "outputId": "fe4e07fa-a2d5-4a8a-e411-17323801e93e"
      },
      "source": [
        "from google.colab import drive\n",
        "drive.mount('/content/drive')\n",
        "#!ls /content/drive/MyDrive/Praxis/'Course - DevOps'/DevOps21/data/\n",
        "!cp imClass-model-270722A.pkl /content/drive/MyDrive/Praxis/'Course - DevOps'/DevOps21/data/"
      ],
      "execution_count": 10,
      "outputs": [
        {
          "output_type": "stream",
          "name": "stdout",
          "text": [
            "Mounted at /content/drive\n"
          ]
        }
      ]
    },
    {
      "cell_type": "code",
      "metadata": {
        "id": "4JN3rlIceSvx"
      },
      "source": [
        ""
      ],
      "execution_count": null,
      "outputs": []
    },
    {
      "cell_type": "markdown",
      "metadata": {
        "id": "IhFRDgs2P-P5"
      },
      "source": [
        "#ML Test"
      ]
    },
    {
      "cell_type": "code",
      "metadata": {
        "id": "5_zKqchwHbsA"
      },
      "source": [
        "clf_02 = joblib.load('imClass-model-270722A.pkl')"
      ],
      "execution_count": 11,
      "outputs": []
    },
    {
      "cell_type": "code",
      "metadata": {
        "id": "TLxffKXTO8YV",
        "colab": {
          "base_uri": "https://localhost:8080/"
        },
        "outputId": "31a36451-42c7-45a8-f2dd-736bf5c3de78"
      },
      "source": [
        "from sklearn.metrics import accuracy_score\n",
        "preds = clf_02.predict(X_test)\n",
        "print(\"Accuracy:\", accuracy_score(y_test,preds))"
      ],
      "execution_count": 12,
      "outputs": [
        {
          "output_type": "stream",
          "name": "stdout",
          "text": [
            "Accuracy: 0.7036582036582036\n"
          ]
        }
      ]
    },
    {
      "cell_type": "markdown",
      "metadata": {
        "id": "zoGiHIBtRkg4"
      },
      "source": [
        "#Test Individual Files \n",
        "https://github.com/elliebirbeck/model-deployment-flask/tree/master/test-imgs"
      ]
    },
    {
      "cell_type": "code",
      "metadata": {
        "id": "qHjupZOdS1vk"
      },
      "source": [
        "import numpy as np\n",
        "#from scipy import misc\n",
        "import imageio"
      ],
      "execution_count": null,
      "outputs": []
    },
    {
      "cell_type": "code",
      "metadata": {
        "colab": {
          "base_uri": "https://localhost:8080/"
        },
        "id": "ElzkK0ZyE900",
        "outputId": "3781d585-3173-44af-deed-7809630b266f"
      },
      "source": [
        "!wget https://github.com/elliebirbeck/model-deployment-flask/raw/master/test-imgs/test-5.png\n",
        "!wget https://github.com/elliebirbeck/model-deployment-flask/raw/master/test-imgs/test-7.png"
      ],
      "execution_count": null,
      "outputs": [
        {
          "output_type": "stream",
          "text": [
            "--2021-08-24 03:22:02--  https://github.com/elliebirbeck/model-deployment-flask/raw/master/test-imgs/test-5.png\n",
            "Resolving github.com (github.com)... 52.192.72.89\n",
            "Connecting to github.com (github.com)|52.192.72.89|:443... connected.\n",
            "HTTP request sent, awaiting response... 302 Found\n",
            "Location: https://raw.githubusercontent.com/elliebirbeck/model-deployment-flask/master/test-imgs/test-5.png [following]\n",
            "--2021-08-24 03:22:03--  https://raw.githubusercontent.com/elliebirbeck/model-deployment-flask/master/test-imgs/test-5.png\n",
            "Resolving raw.githubusercontent.com (raw.githubusercontent.com)... 185.199.111.133, 185.199.109.133, 185.199.110.133, ...\n",
            "Connecting to raw.githubusercontent.com (raw.githubusercontent.com)|185.199.111.133|:443... connected.\n",
            "HTTP request sent, awaiting response... 200 OK\n",
            "Length: 1948 (1.9K) [image/png]\n",
            "Saving to: ‘test-5.png’\n",
            "\n",
            "test-5.png          100%[===================>]   1.90K  --.-KB/s    in 0s      \n",
            "\n",
            "2021-08-24 03:22:03 (23.8 MB/s) - ‘test-5.png’ saved [1948/1948]\n",
            "\n",
            "--2021-08-24 03:22:03--  https://github.com/elliebirbeck/model-deployment-flask/raw/master/test-imgs/test-7.png\n",
            "Resolving github.com (github.com)... 52.192.72.89\n",
            "Connecting to github.com (github.com)|52.192.72.89|:443... connected.\n",
            "HTTP request sent, awaiting response... 302 Found\n",
            "Location: https://raw.githubusercontent.com/elliebirbeck/model-deployment-flask/master/test-imgs/test-7.png [following]\n",
            "--2021-08-24 03:22:04--  https://raw.githubusercontent.com/elliebirbeck/model-deployment-flask/master/test-imgs/test-7.png\n",
            "Resolving raw.githubusercontent.com (raw.githubusercontent.com)... 185.199.108.133, 185.199.110.133, 185.199.109.133, ...\n",
            "Connecting to raw.githubusercontent.com (raw.githubusercontent.com)|185.199.108.133|:443... connected.\n",
            "HTTP request sent, awaiting response... 200 OK\n",
            "Length: 1877 (1.8K) [image/png]\n",
            "Saving to: ‘test-7.png’\n",
            "\n",
            "test-7.png          100%[===================>]   1.83K  --.-KB/s    in 0s      \n",
            "\n",
            "2021-08-24 03:22:04 (23.7 MB/s) - ‘test-7.png’ saved [1877/1877]\n",
            "\n"
          ],
          "name": "stdout"
        }
      ]
    },
    {
      "cell_type": "code",
      "metadata": {
        "id": "ERndiACwQHFK"
      },
      "source": [
        "\n",
        "img0 = imageio.imread(\"test-7.png\")\n",
        "img1 = img0[:,:,:3]\n",
        "img2 = img1.reshape(1, -1)"
      ],
      "execution_count": null,
      "outputs": []
    },
    {
      "cell_type": "code",
      "metadata": {
        "id": "AFDymAb4Vwdi",
        "colab": {
          "base_uri": "https://localhost:8080/"
        },
        "outputId": "c3bd2cce-abb4-43b4-ffb5-5a7ff0e29247"
      },
      "source": [
        "img2"
      ],
      "execution_count": null,
      "outputs": [
        {
          "output_type": "execute_result",
          "data": {
            "text/plain": [
              "Array([[227, 233, 236, ..., 207, 216, 221]], dtype=uint8)"
            ]
          },
          "metadata": {},
          "execution_count": 20
        }
      ]
    },
    {
      "cell_type": "code",
      "metadata": {
        "id": "Zaa-qaPqTiLw",
        "colab": {
          "base_uri": "https://localhost:8080/",
          "height": 283
        },
        "outputId": "6f5e5d3e-2197-48e1-df17-c3bb499db126"
      },
      "source": [
        "#plt.imshow(X[:,:,:,img_index])\n",
        "plt.imshow(img0)"
      ],
      "execution_count": null,
      "outputs": [
        {
          "output_type": "execute_result",
          "data": {
            "text/plain": [
              "<matplotlib.image.AxesImage at 0x7ff846f14a10>"
            ]
          },
          "metadata": {},
          "execution_count": 27
        },
        {
          "output_type": "display_data",
          "data": {
            "image/png": "[encoded data removed]",
            "text/plain": [
              "<Figure size 432x288 with 1 Axes>"
            ]
          },
          "metadata": {
            "needs_background": "light"
          }
        }
      ]
    },
    {
      "cell_type": "code",
      "metadata": {
        "id": "u0jHJMLzVBo9"
      },
      "source": [
        "prediction = clf_02.predict(img2)"
      ],
      "execution_count": null,
      "outputs": []
    },
    {
      "cell_type": "code",
      "metadata": {
        "id": "UBjErI_LVS-S"
      },
      "source": [
        "label = str(np.squeeze(prediction))"
      ],
      "execution_count": null,
      "outputs": []
    },
    {
      "cell_type": "code",
      "metadata": {
        "id": "IWACAQtoVY5f",
        "colab": {
          "base_uri": "https://localhost:8080/",
          "height": 35
        },
        "outputId": "285546c7-fd9a-4ea0-f393-57f51e0f457b"
      },
      "source": [
        "label"
      ],
      "execution_count": null,
      "outputs": [
        {
          "output_type": "execute_result",
          "data": {
            "application/vnd.google.colaboratory.intrinsic+json": {
              "type": "string"
            },
            "text/plain": [
              "'2'"
            ]
          },
          "metadata": {},
          "execution_count": 23
        }
      ]
    },
    {
      "cell_type": "code",
      "metadata": {
        "id": "unDr-FnmXK7o",
        "colab": {
          "base_uri": "https://localhost:8080/"
        },
        "outputId": "00d21308-e6f4-4864-941d-49810c3cc7f3"
      },
      "source": [
        "print(str(np.squeeze(loadedModel.predict(img2))))"
      ],
      "execution_count": null,
      "outputs": [
        {
          "output_type": "stream",
          "text": [
            "2\n"
          ],
          "name": "stdout"
        }
      ]
    },
    {
      "cell_type": "code",
      "metadata": {
        "id": "tfXcLO11XiLj",
        "colab": {
          "base_uri": "https://localhost:8080/"
        },
        "outputId": "fa7fafcf-e81f-48bc-debd-cbb7f84bf8e5"
      },
      "source": [
        "#now to make it completely unreadable\n",
        "print(str(np.squeeze(loadedModel.predict(img0[:,:,:3].reshape(1, -1)))))"
      ],
      "execution_count": null,
      "outputs": [
        {
          "output_type": "stream",
          "text": [
            "2\n"
          ],
          "name": "stdout"
        }
      ]
    },
    {
      "cell_type": "code",
      "metadata": {
        "colab": {
          "base_uri": "https://localhost:8080/"
        },
        "id": "iSloBmd6L8eb",
        "outputId": "4da60f43-c48d-44a8-da51-ed92fbe07976"
      },
      "source": [
        "print(str(np.squeeze(loadedModel.predict(imageio.imread(\"test-7.png\")[:,:,:3].reshape(1, -1)))))"
      ],
      "execution_count": null,
      "outputs": [
        {
          "output_type": "stream",
          "text": [
            "2\n"
          ],
          "name": "stdout"
        }
      ]
    },
    {
      "cell_type": "code",
      "metadata": {
        "id": "DLsKiaSiYRK1",
        "colab": {
          "base_uri": "https://localhost:8080/"
        },
        "outputId": "499e5b82-f663-4293-a79e-c9a54c825541"
      },
      "source": [
        "print(str(np.squeeze(loadedModel.predict(imageio.imread(\"test-5.png\")[:,:,:3].reshape(1, -1)))))"
      ],
      "execution_count": null,
      "outputs": [
        {
          "output_type": "stream",
          "text": [
            "5\n"
          ],
          "name": "stdout"
        }
      ]
    },
    {
      "cell_type": "markdown",
      "metadata": {
        "id": "YvhqDWPOYM4V"
      },
      "source": [
        "#Chronobooks <br>\n",
        "![alt text](https://1.bp.blogspot.com/-lTiYBkU2qbU/X1er__fvnkI/AAAAAAAAjtE/GhDR3OEGJr4NG43fZPodrQD5kbxtnKebgCLcBGAsYHQ/s600/Footer2020-600x200.png)<hr>\n",
        "Chronotantra and Chronoyantra are two science fiction novels that explore the collapse of human civilisation on Earth and then its rebirth and reincarnation both on Earth as well as on the distant worlds of Mars, Titan and Enceladus. But is it the human civilisation that is being reborn? Or is it some other sentience that is revealing itself. \n",
        "If you have an interest in AI and found this material useful, you may consider buying these novels, in paperback or kindle, from [http://bit.ly/chronobooks](http://bit.ly/chronobooks)"
      ]
    }
  ]
}