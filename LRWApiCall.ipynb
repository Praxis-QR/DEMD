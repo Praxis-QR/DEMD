{
  "nbformat": 4,
  "nbformat_minor": 0,
  "metadata": {
    "colab": {
      "name": "LRWApiCall",
      "provenance": [],
      "authorship_tag": "ABX9TyPzwjdnlKobCOJlBEMNo2uG",
      "include_colab_link": true
    },
    "kernelspec": {
      "name": "python3",
      "display_name": "Python 3"
    },
    "language_info": {
      "name": "python"
    }
  },
  "cells": [
    {
      "cell_type": "markdown",
      "metadata": {
        "id": "view-in-github",
        "colab_type": "text"
      },
      "source": [
        "<a href=\"https://colab.research.google.com/github/Praxis-QR/DEMD/blob/main/LRWApiCall.ipynb\" target=\"_parent\"><img src=\"https://colab.research.google.com/assets/colab-badge.svg\" alt=\"Open In Colab\"/></a>"
      ]
    },
    {
      "cell_type": "code",
      "metadata": {
        "colab": {
          "base_uri": "https://localhost:8080/"
        },
        "id": "qPNi__TSq12k",
        "outputId": "6a8770ec-7a89-4d26-97e8-14b395c32e63"
      },
      "source": [
        "# import urllib library\n",
        "from urllib.request import urlopen\n",
        "  \n",
        "# import json\n",
        "import json\n",
        "# store the URL in url as \n",
        "# parameter for urlopen\n",
        "url = \"https://530c-34-86-178-145.ngrok.io/lrwapi/7.4,0.66,0,1.8,0.075,13,40,0.9978,3.51,0.56,9.4\"\n",
        "  \n",
        "# store the response of URL\n",
        "response = urlopen(url)\n",
        "  \n",
        "# storing the JSON response \n",
        "# from url in data\n",
        "data_json = json.loads(response.read())\n",
        "  \n",
        "# print the json response\n",
        "print(data_json)\n"
      ],
      "execution_count": 10,
      "outputs": [
        {
          "output_type": "stream",
          "name": "stdout",
          "text": [
            "{'Prediction': '5.065570349074925'}\n"
          ]
        }
      ]
    }
  ]
}