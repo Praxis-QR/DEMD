{
  "nbformat": 4,
  "nbformat_minor": 0,
  "metadata": {
    "kernelspec": {
      "display_name": "Python 3",
      "language": "python",
      "name": "python3"
    },
    "language_info": {
      "codemirror_mode": {
        "name": "ipython",
        "version": 3
      },
      "file_extension": ".py",
      "mimetype": "text/x-python",
      "name": "python",
      "nbconvert_exporter": "python",
      "pygments_lexer": "ipython3",
      "version": "3.6.3"
    },
    "colab": {
      "name": "Linear Regression - Wine Analysis Train",
      "provenance": [],
      "include_colab_link": true
    }
  },
  "cells": [
    {
      "cell_type": "markdown",
      "metadata": {
        "id": "view-in-github",
        "colab_type": "text"
      },
      "source": [
        "<a href=\"https://colab.research.google.com/github/Praxis-QR/DEMD/blob/main/Linear_Regression_Wine_Analysis_Train.ipynb\" target=\"_parent\"><img src=\"https://colab.research.google.com/assets/colab-badge.svg\" alt=\"Open In Colab\"/></a>"
      ]
    },
    {
      "cell_type": "markdown",
      "metadata": {
        "id": "5Oc2OYdRwNCQ"
      },
      "source": [
        "![alt text](https://4.bp.blogspot.com/-gbL5nZDkpFQ/XScFYwoTEII/AAAAAAAAAGY/CcVb_HDLwvs2Brv5T4vSsUcz7O4r2Q79ACK4BGAYYCw/s1600/kk3-header00-beta.png)<br>\n",
        "\n",
        "\n",
        "<hr>\n",
        "\n",
        "[Prithwis Mukerjee](http://www.linkedin.com/in/prithwis)<br>"
      ]
    },
    {
      "cell_type": "markdown",
      "metadata": {
        "id": "rQCFRWXjxgKB"
      },
      "source": [
        "# Linear Regression - Wine Analysis Train, Build Model\n",
        "based on https://medium.freecodecamp.org/a-beginners-guide-to-training-and-deploying-machine-learning-models-using-python-48a313502e5a"
      ]
    },
    {
      "cell_type": "code",
      "metadata": {
        "id": "3OhRuef82DW4",
        "outputId": "b06d3bb2-24b3-4332-f9a3-d1200fd83ee8",
        "colab": {
          "base_uri": "https://localhost:8080/"
        }
      },
      "source": [
        "# data from https://archive.ics.uci.edu/ml/datasets/Wine+Quality\n",
        "#get the data\n",
        "# https://drive.google.com/file/d/12nDbLOE6JYZcQNriao-e9GwrQCS2ctfR/view?usp=sharing\n",
        "#!gdown https://drive.google.com/uc?id=12nDbLOE6JYZcQNriao-e9GwrQCS2ctfR\n",
        "!wget https://raw.githubusercontent.com/Praxis-bs/DEMD/main/data/winequality-red.csv"
      ],
      "execution_count": 1,
      "outputs": [
        {
          "output_type": "stream",
          "name": "stdout",
          "text": [
            "--2022-07-27 01:31:55--  https://raw.githubusercontent.com/Praxis-bs/DEMD/main/data/winequality-red.csv\n",
            "Resolving raw.githubusercontent.com (raw.githubusercontent.com)... 185.199.108.133, 185.199.109.133, 185.199.110.133, ...\n",
            "Connecting to raw.githubusercontent.com (raw.githubusercontent.com)|185.199.108.133|:443... connected.\n",
            "HTTP request sent, awaiting response... 200 OK\n",
            "Length: 84199 (82K) [text/plain]\n",
            "Saving to: ‘winequality-red.csv’\n",
            "\n",
            "winequality-red.csv 100%[===================>]  82.23K  --.-KB/s    in 0.01s   \n",
            "\n",
            "2022-07-27 01:31:56 (6.17 MB/s) - ‘winequality-red.csv’ saved [84199/84199]\n",
            "\n"
          ]
        }
      ]
    },
    {
      "cell_type": "code",
      "metadata": {
        "id": "r377lGEWxgKM"
      },
      "source": [
        "import pandas as pd\n",
        "import numpy as np\n",
        "import pickle\n",
        "\n",
        "from sklearn import linear_model"
      ],
      "execution_count": 2,
      "outputs": []
    },
    {
      "cell_type": "code",
      "metadata": {
        "id": "iR9-T5lkxgKM"
      },
      "source": [
        "#loading and separating our wine dataset into labels and features\n",
        "df = pd.read_csv('winequality-red.csv', delimiter=\";\")\n",
        "label = df['quality']\n",
        "features = df.drop('quality', axis=1)"
      ],
      "execution_count": 3,
      "outputs": []
    },
    {
      "cell_type": "code",
      "metadata": {
        "id": "Tv2d-8ao2Tf5"
      },
      "source": [
        "#df"
      ],
      "execution_count": null,
      "outputs": []
    },
    {
      "cell_type": "code",
      "metadata": {
        "id": "2J2maWVcxgKN",
        "colab": {
          "base_uri": "https://localhost:8080/"
        },
        "outputId": "4ee9d81b-0df8-4369-c78c-0377efb498c8"
      },
      "source": [
        "#defining our linear regression estimator and training it with our wine data\n",
        "regr = linear_model.LinearRegression()\n",
        "regr.fit(features, label)"
      ],
      "execution_count": 4,
      "outputs": [
        {
          "output_type": "execute_result",
          "data": {
            "text/plain": [
              "LinearRegression()"
            ]
          },
          "metadata": {},
          "execution_count": 4
        }
      ]
    },
    {
      "cell_type": "code",
      "metadata": {
        "id": "y7e4pezhxgKO",
        "colab": {
          "base_uri": "https://localhost:8080/"
        },
        "outputId": "76e796e8-4a71-4c61-c532-54bdf7917a46"
      },
      "source": [
        "#using our trained model to predict a fake wine\n",
        "#each number represents a feature like pH, acidity, etc.\n",
        "print (regr.predict([[7.4,0.66,0,1.8,0.075,13,40,0.9978,3.51,0.56,9.4]]).tolist())"
      ],
      "execution_count": 5,
      "outputs": [
        {
          "output_type": "stream",
          "name": "stdout",
          "text": [
            "[5.065570349074928]\n"
          ]
        },
        {
          "output_type": "stream",
          "name": "stderr",
          "text": [
            "/usr/local/lib/python3.7/dist-packages/sklearn/base.py:451: UserWarning: X does not have valid feature names, but LinearRegression was fitted with feature names\n",
            "  \"X does not have valid feature names, but\"\n"
          ]
        }
      ]
    },
    {
      "cell_type": "code",
      "metadata": {
        "colab": {
          "base_uri": "https://localhost:8080/"
        },
        "id": "zxsjiY4vz0tA",
        "outputId": "f0578a72-ea41-47c1-a6cb-2f409583ec0d"
      },
      "source": [
        "from google.colab import drive\n",
        "drive.mount('/content/drive')"
      ],
      "execution_count": 6,
      "outputs": [
        {
          "output_type": "stream",
          "name": "stdout",
          "text": [
            "Mounted at /content/drive\n"
          ]
        }
      ]
    },
    {
      "cell_type": "code",
      "metadata": {
        "colab": {
          "base_uri": "https://localhost:8080/"
        },
        "id": "ZjHZqmGN0AFu",
        "outputId": "4162e7fd-c8bf-489b-cb4e-09f82cbd98e0"
      },
      "source": [
        "!ls /content/drive/MyDrive/Praxis/'Course - DevOps'/DevOps21/data"
      ],
      "execution_count": 7,
      "outputs": [
        {
          "output_type": "stream",
          "name": "stdout",
          "text": [
            "imClass-model-010321.pkl  imClass-model-240821.pkl  winequality-red.csv\n",
            "imClass-model-100221.pkl  lrw-model.pkl\n"
          ]
        }
      ]
    },
    {
      "cell_type": "code",
      "metadata": {
        "id": "XVwS9oISxgKP"
      },
      "source": [
        "#serializing our model to a file called model.pkl\n",
        "pickle.dump(regr, open(\"lrw-model-270722.pkl\",\"wb\"))"
      ],
      "execution_count": 8,
      "outputs": []
    },
    {
      "cell_type": "code",
      "metadata": {
        "id": "YcZll1suxgKQ"
      },
      "source": [
        "!cp lrw-model-270722.pkl /content/drive/MyDrive/Praxis/'Course - DevOps'/DevOps21/data/"
      ],
      "execution_count": 9,
      "outputs": []
    },
    {
      "cell_type": "markdown",
      "metadata": {
        "id": "vEerbbadA6yB"
      },
      "source": [
        "#Chronobooks <br>\n",
        "![alt text](https://1.bp.blogspot.com/-lTiYBkU2qbU/X1er__fvnkI/AAAAAAAAjtE/GhDR3OEGJr4NG43fZPodrQD5kbxtnKebgCLcBGAsYHQ/s600/Footer2020-600x200.png)<hr>\n",
        "Chronotantra and Chronoyantra are two science fiction novels that explore the collapse of human civilisation on Earth and then its rebirth and reincarnation both on Earth as well as on the distant worlds of Mars, Titan and Enceladus. But is it the human civilisation that is being reborn? Or is it some other sentience that is revealing itself. \n",
        "If you have an interest in AI and found this material useful, you may consider buying these novels, in paperback or kindle, from [http://bit.ly/chronobooks](http://bit.ly/chronobooks)"
      ]
    }
  ]
}