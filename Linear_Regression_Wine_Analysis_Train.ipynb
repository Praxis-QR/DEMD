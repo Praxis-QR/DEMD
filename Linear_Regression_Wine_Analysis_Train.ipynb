{
  "nbformat": 4,
  "nbformat_minor": 0,
  "metadata": {
    "kernelspec": {
      "display_name": "Python 3",
      "language": "python",
      "name": "python3"
    },
    "language_info": {
      "codemirror_mode": {
        "name": "ipython",
        "version": 3
      },
      "file_extension": ".py",
      "mimetype": "text/x-python",
      "name": "python",
      "nbconvert_exporter": "python",
      "pygments_lexer": "ipython3",
      "version": "3.6.3"
    },
    "colab": {
      "name": "Linear Regression - Wine Analysis Train",
      "provenance": [],
      "include_colab_link": true
    }
  },
  "cells": [
    {
      "cell_type": "markdown",
      "metadata": {
        "id": "view-in-github",
        "colab_type": "text"
      },
      "source": [
        "<a href=\"https://colab.research.google.com/github/Praxis-bs/DEMD/blob/main/Linear_Regression_Wine_Analysis_Train.ipynb\" target=\"_parent\"><img src=\"https://colab.research.google.com/assets/colab-badge.svg\" alt=\"Open In Colab\"/></a>"
      ]
    },
    {
      "cell_type": "markdown",
      "metadata": {
        "id": "rQCFRWXjxgKB"
      },
      "source": [
        "# Linear Regression - Wine Analysis"
      ]
    },
    {
      "cell_type": "markdown",
      "metadata": {
        "id": "5Oc2OYdRwNCQ"
      },
      "source": [
        "![alt text](https://4.bp.blogspot.com/-gbL5nZDkpFQ/XScFYwoTEII/AAAAAAAAAGY/CcVb_HDLwvs2Brv5T4vSsUcz7O4r2Q79ACK4BGAYYCw/s1600/kk3-header00-beta.png)<br>\n",
        "\n",
        "\n",
        "<hr>\n",
        "\n",
        "[Prithwis Mukerjee](http://www.linkedin.com/in/prithwis)<br>"
      ]
    },
    {
      "cell_type": "code",
      "metadata": {
        "id": "auYiW2cRxgKK"
      },
      "source": [
        "#based on https://medium.freecodecamp.org/a-beginners-guide-to-training-and-deploying-machine-learning-models-using-python-48a313502e5a\n",
        "# data from https://archive.ics.uci.edu/ml/datasets/Wine+Quality"
      ],
      "execution_count": null,
      "outputs": []
    },
    {
      "cell_type": "code",
      "metadata": {
        "id": "r377lGEWxgKM"
      },
      "source": [
        "import pandas as pd\n",
        "import numpy as np\n",
        "import pickle\n",
        "\n",
        "from sklearn import linear_model"
      ],
      "execution_count": null,
      "outputs": []
    },
    {
      "cell_type": "code",
      "metadata": {
        "colab": {
          "base_uri": "https://localhost:8080/"
        },
        "id": "XtTrWecazZ58",
        "outputId": "93c42ed0-cad8-46fe-c20e-ef00b91c54f8"
      },
      "source": [
        "#get the data\n",
        "# https://drive.google.com/file/d/12nDbLOE6JYZcQNriao-e9GwrQCS2ctfR/view?usp=sharing\n",
        "!gdown https://drive.google.com/uc?id=12nDbLOE6JYZcQNriao-e9GwrQCS2ctfR"
      ],
      "execution_count": null,
      "outputs": [
        {
          "output_type": "stream",
          "text": [
            "Downloading...\n",
            "From: https://drive.google.com/uc?id=12nDbLOE6JYZcQNriao-e9GwrQCS2ctfR\n",
            "To: /content/winequality-red.csv\n",
            "\r  0% 0.00/84.2k [00:00<?, ?B/s]\r100% 84.2k/84.2k [00:00<00:00, 5.42MB/s]\n"
          ],
          "name": "stdout"
        }
      ]
    },
    {
      "cell_type": "code",
      "metadata": {
        "id": "iR9-T5lkxgKM"
      },
      "source": [
        "#loading and separating our wine dataset into labels and features\n",
        "df = pd.read_csv('winequality-red.csv', delimiter=\";\")\n",
        "label = df['quality']\n",
        "features = df.drop('quality', axis=1)"
      ],
      "execution_count": null,
      "outputs": []
    },
    {
      "cell_type": "code",
      "metadata": {
        "id": "2J2maWVcxgKN",
        "colab": {
          "base_uri": "https://localhost:8080/"
        },
        "outputId": "3d403ef6-c2fc-4cce-977b-8fbdfe9b1c29"
      },
      "source": [
        "#defining our linear regression estimator and training it with our wine data\n",
        "regr = linear_model.LinearRegression()\n",
        "regr.fit(features, label)"
      ],
      "execution_count": null,
      "outputs": [
        {
          "output_type": "execute_result",
          "data": {
            "text/plain": [
              "LinearRegression(copy_X=True, fit_intercept=True, n_jobs=None, normalize=False)"
            ]
          },
          "metadata": {},
          "execution_count": 4
        }
      ]
    },
    {
      "cell_type": "code",
      "metadata": {
        "id": "y7e4pezhxgKO",
        "colab": {
          "base_uri": "https://localhost:8080/"
        },
        "outputId": "3f247cb8-129a-4271-b0c2-bd4c73a9af67"
      },
      "source": [
        "#using our trained model to predict a fake wine\n",
        "#each number represents a feature like pH, acidity, etc.\n",
        "print (regr.predict([[7.4,0.66,0,1.8,0.075,13,40,0.9978,3.51,0.56,9.4]]).tolist())"
      ],
      "execution_count": null,
      "outputs": [
        {
          "output_type": "stream",
          "text": [
            "[5.0655703490749175]\n"
          ],
          "name": "stdout"
        }
      ]
    },
    {
      "cell_type": "code",
      "metadata": {
        "colab": {
          "base_uri": "https://localhost:8080/"
        },
        "id": "zxsjiY4vz0tA",
        "outputId": "ac231eac-989e-4fd0-c07b-2533b446946c"
      },
      "source": [
        "from google.colab import drive\n",
        "drive.mount('/content/drive')"
      ],
      "execution_count": null,
      "outputs": [
        {
          "output_type": "stream",
          "text": [
            "Mounted at /content/drive\n"
          ],
          "name": "stdout"
        }
      ]
    },
    {
      "cell_type": "code",
      "metadata": {
        "colab": {
          "base_uri": "https://localhost:8080/"
        },
        "id": "ZjHZqmGN0AFu",
        "outputId": "b109eb29-d600-42b8-ea93-b0c75c566a07"
      },
      "source": [
        "!ls /content/drive/MyDrive/Praxis/'Course - DevOps'/DevOps21/data"
      ],
      "execution_count": null,
      "outputs": [
        {
          "output_type": "stream",
          "text": [
            "imClass-model-010321.pkl  lrw-model.pkl\n",
            "imClass-model-100221.pkl  winequality-red.csv\n"
          ],
          "name": "stdout"
        }
      ]
    },
    {
      "cell_type": "code",
      "metadata": {
        "id": "XVwS9oISxgKP"
      },
      "source": [
        "#serializing our model to a file called model.pkl\n",
        "pickle.dump(regr, open(\"lrw-model.pkl\",\"wb\"))"
      ],
      "execution_count": null,
      "outputs": []
    },
    {
      "cell_type": "code",
      "metadata": {
        "id": "YcZll1suxgKQ"
      },
      "source": [
        "!cp lrw-model.pkl /content/drive/MyDrive/Praxis/'Course - DevOps'/DevOps21/data/"
      ],
      "execution_count": null,
      "outputs": []
    }
  ]
}