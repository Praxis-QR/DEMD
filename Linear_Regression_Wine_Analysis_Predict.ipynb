{
  "nbformat": 4,
  "nbformat_minor": 0,
  "metadata": {
    "kernelspec": {
      "display_name": "Python 3",
      "language": "python",
      "name": "python3"
    },
    "language_info": {
      "codemirror_mode": {
        "name": "ipython",
        "version": 3
      },
      "file_extension": ".py",
      "mimetype": "text/x-python",
      "name": "python",
      "nbconvert_exporter": "python",
      "pygments_lexer": "ipython3",
      "version": "3.6.3"
    },
    "colab": {
      "name": "Linear Regression Wine Analysis Predict",
      "provenance": [],
      "include_colab_link": true
    }
  },
  "cells": [
    {
      "cell_type": "markdown",
      "metadata": {
        "id": "view-in-github",
        "colab_type": "text"
      },
      "source": [
        "<a href=\"https://colab.research.google.com/github/Praxis-bs/DEMD/blob/main/Linear_Regression_Wine_Analysis_Predict.ipynb\" target=\"_parent\"><img src=\"https://colab.research.google.com/assets/colab-badge.svg\" alt=\"Open In Colab\"/></a>"
      ]
    },
    {
      "cell_type": "markdown",
      "metadata": {
        "id": "ikOWiOLJGEfQ"
      },
      "source": [
        "![alt text](https://4.bp.blogspot.com/-gbL5nZDkpFQ/XScFYwoTEII/AAAAAAAAAGY/CcVb_HDLwvs2Brv5T4vSsUcz7O4r2Q79ACK4BGAYYCw/s1600/kk3-header00-beta.png)<br>\n",
        "\n",
        "\n",
        "<hr>\n",
        "\n",
        "[Prithwis Mukerjee](http://www.linkedin.com/in/prithwis)<br>"
      ]
    },
    {
      "cell_type": "markdown",
      "metadata": {
        "id": "ndjcQmR_GK52"
      },
      "source": [
        "#Linear Regression - Wine Analysis - Predict\n",
        "based on https://medium.freecodecamp.org/a-beginners-guide-to-training-and-deploying-machine-learning-models-using-python-48a313502e5a <br>\n",
        "This notebook needs the [Training Notebook](https://github.com/Praxis-bs/DEMD/blob/64989c5b5de8f59637c123bd8867a02be873cf7d/Linear_Regression_Wine_Analysis_Train.ipynb)"
      ]
    },
    {
      "cell_type": "code",
      "metadata": {
        "id": "ejVRNvtW068x"
      },
      "source": [
        "import pickle\n",
        "from sklearn import linear_model"
      ],
      "execution_count": 1,
      "outputs": []
    },
    {
      "cell_type": "code",
      "metadata": {
        "colab": {
          "base_uri": "https://localhost:8080/"
        },
        "id": "8iyzk6t91rfa",
        "outputId": "f5f440e9-6e69-416b-f478-4d696fae62ec"
      },
      "source": [
        "#get the model\n",
        "# https://drive.google.com/file/d/1IsVRzeoP9E-C9O0-e2zESbwNHjbOcZId/view?usp=sharing\n",
        "!gdown https://drive.google.com/uc?id=1IsVRzeoP9E-C9O0-e2zESbwNHjbOcZId"
      ],
      "execution_count": 2,
      "outputs": [
        {
          "output_type": "stream",
          "text": [
            "Downloading...\n",
            "From: https://drive.google.com/uc?id=1IsVRzeoP9E-C9O0-e2zESbwNHjbOcZId\n",
            "To: /content/lrw-model.pkl\n",
            "\r  0% 0.00/679 [00:00<?, ?B/s]\r100% 679/679 [00:00<00:00, 554kB/s]\n"
          ],
          "name": "stdout"
        }
      ]
    },
    {
      "cell_type": "code",
      "metadata": {
        "id": "urho2_Ql0683"
      },
      "source": [
        "model = pickle.load(open(\"lrw-model.pkl\",\"rb\"))"
      ],
      "execution_count": 3,
      "outputs": []
    },
    {
      "cell_type": "code",
      "metadata": {
        "id": "MUf3_b7U0684"
      },
      "source": [
        "feature_array = [7.4,0.66,0,1.8,0.075,13,40,0.9978,3.51,0.56,9.4]"
      ],
      "execution_count": 4,
      "outputs": []
    },
    {
      "cell_type": "code",
      "metadata": {
        "id": "3iHVItln0684",
        "colab": {
          "base_uri": "https://localhost:8080/"
        },
        "outputId": "bc24f143-bc46-4ea9-9f26-e4bed9acb686"
      },
      "source": [
        "#our model rates the wine based on the input array\n",
        "prediction = model.predict([feature_array]).tolist()\n",
        "print(prediction)"
      ],
      "execution_count": 5,
      "outputs": [
        {
          "output_type": "stream",
          "text": [
            "[5.0655703490749175]\n"
          ],
          "name": "stdout"
        }
      ]
    },
    {
      "cell_type": "markdown",
      "metadata": {
        "id": "_00MgHT9G6RG"
      },
      "source": [
        "#Chronobooks <br>\n",
        "![alt text](https://1.bp.blogspot.com/-lTiYBkU2qbU/X1er__fvnkI/AAAAAAAAjtE/GhDR3OEGJr4NG43fZPodrQD5kbxtnKebgCLcBGAsYHQ/s600/Footer2020-600x200.png)<hr>\n",
        "Chronotantra and Chronoyantra are two science fiction novels that explore the collapse of human civilisation on Earth and then its rebirth and reincarnation both on Earth as well as on the distant worlds of Mars, Titan and Enceladus. But is it the human civilisation that is being reborn? Or is it some other sentience that is revealing itself. \n",
        "If you have an interest in AI and found this material useful, you may consider buying these novels, in paperback or kindle, from [http://bit.ly/chronobooks](http://bit.ly/chronobooks)"
      ]
    }
  ]
}