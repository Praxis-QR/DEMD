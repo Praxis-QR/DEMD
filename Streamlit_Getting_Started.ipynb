{
  "nbformat": 4,
  "nbformat_minor": 0,
  "metadata": {
    "colab": {
      "name": "Streamlit - Getting Started",
      "provenance": [],
      "toc_visible": true,
      "authorship_tag": "ABX9TyN+QdwmG8GNWU/BOtdXmDQC",
      "include_colab_link": true
    },
    "kernelspec": {
      "name": "python3",
      "display_name": "Python 3"
    },
    "language_info": {
      "name": "python"
    }
  },
  "cells": [
    {
      "cell_type": "markdown",
      "metadata": {
        "id": "view-in-github",
        "colab_type": "text"
      },
      "source": [
        "<a href=\"https://colab.research.google.com/github/Praxis-QR/DEMD/blob/main/Streamlit_Getting_Started.ipynb\" target=\"_parent\"><img src=\"https://colab.research.google.com/assets/colab-badge.svg\" alt=\"Open In Colab\"/></a>"
      ]
    },
    {
      "cell_type": "markdown",
      "metadata": {
        "id": "U98F0_n-K7YZ"
      },
      "source": [
        "![alt text](https://4.bp.blogspot.com/-gbL5nZDkpFQ/XScFYwoTEII/AAAAAAAAAGY/CcVb_HDLwvs2Brv5T4vSsUcz7O4r2Q79ACK4BGAYYCw/s1600/kk3-header00-beta.png)<br>\n",
        "\n",
        "\n",
        "<hr>\n",
        "\n",
        "[Prithwis Mukerjee](http://www.linkedin.com/in/prithwis)<br>"
      ]
    },
    {
      "cell_type": "markdown",
      "metadata": {
        "id": "oEsKlQY2K-bL"
      },
      "source": [
        "# Streamlit - Getting Started <br>\n",
        "Based on the [Tutorial by Murallie Thuwarakesh](https://www.kdnuggets.com/2021/09/create-stunning-web-apps-data-science-projects.html) <br>\n",
        "\n",
        "a second [tutorial from Ayush Mishra](https://towardsdatascience.com/deploying-your-ml-model-using-streamlit-and-ngrok-c2eea3fd9763) can also be referred to for another example <br>\n",
        "for which the code is available in [this github repository](https://github.com/AM1CODES/PythonWeek-GraduateAdmission/blob/12ecfaa8a580080bf4601d6c140b72cec066ed79/app.ipynb)"
      ]
    },
    {
      "cell_type": "code",
      "metadata": {
        "colab": {
          "base_uri": "https://localhost:8080/"
        },
        "id": "UUkOymup4S7E",
        "outputId": "a0926a8b-e172-40a7-f0d2-ab87351dbe53"
      },
      "source": [
        "!pip install streamlit > /dev/null\n",
        "# ignore errors\n",
        "# restart runtime after execution"
      ],
      "execution_count": 1,
      "outputs": [
        {
          "output_type": "stream",
          "name": "stdout",
          "text": [
            "\u001b[31mERROR: pip's dependency resolver does not currently take into account all the packages that are installed. This behaviour is the source of the following dependency conflicts.\n",
            "jupyter-console 5.2.0 requires prompt-toolkit<2.0.0,>=1.0.0, but you have prompt-toolkit 3.0.20 which is incompatible.\n",
            "google-colab 1.0.0 requires ipykernel~=4.10, but you have ipykernel 6.3.1 which is incompatible.\n",
            "google-colab 1.0.0 requires ipython~=5.5.0, but you have ipython 7.27.0 which is incompatible.\u001b[0m\n"
          ]
        }
      ]
    },
    {
      "cell_type": "markdown",
      "metadata": {
        "id": "gHmaWDEK5G3n"
      },
      "source": [
        "#NGROK Tunnels"
      ]
    },
    {
      "cell_type": "code",
      "metadata": {
        "colab": {
          "base_uri": "https://localhost:8080/"
        },
        "id": "561KWjTa5JY3",
        "outputId": "bda63f3d-a834-422f-c900-2f3b73fbc5e6"
      },
      "source": [
        "from google.colab import drive\n",
        "drive.mount('/content/drive')"
      ],
      "execution_count": 1,
      "outputs": [
        {
          "output_type": "stream",
          "name": "stdout",
          "text": [
            "Mounted at /content/drive\n"
          ]
        }
      ]
    },
    {
      "cell_type": "code",
      "metadata": {
        "id": "hWS0NzYQ5cFY"
      },
      "source": [
        "# credential file for Prithwis Mukerjee\n",
        "# this file needs to be uploaded into the VM\n",
        "!cp /content/drive/'My Drive'/Praxis/WebCredentials/ngrokToken.py .\n",
        "\n",
        "\n",
        "from ngrokToken import ngrokToken\n",
        "\n",
        "#for the sake of privacy\n",
        "#the following credentials need to be stored in a text file called ngrokToken.py\n",
        "#in the format given below\n",
        "#in the Colab VM\n",
        "\n",
        "#otherwise, the values can be directly placed here\n",
        "\n",
        "#ngrokToken = '1kUOcwwwwwwwwRHsdVJRGMeTdddddddddddYbPZhxod'   # uncomment this line and place your own credentials here\n",
        "#token is available at https://dashboard.ngrok.com/get-started/setup\n",
        "\n",
        "\n",
        "#print(ngrokToken)\n",
        "ngrokTokenCmd = './ngrok authtoken '+ngrokToken"
      ],
      "execution_count": 2,
      "outputs": []
    },
    {
      "cell_type": "code",
      "metadata": {
        "colab": {
          "base_uri": "https://localhost:8080/"
        },
        "id": "PmQf7FJO5uU0",
        "outputId": "8fbbbf0b-f45f-4383-affa-7336a6d9f13e"
      },
      "source": [
        "#https://ngrok.com/download\n",
        "!wget -q https://bin.equinox.io/c/4VmDzA7iaHb/ngrok-stable-linux-amd64.zip\n",
        "!unzip ngrok-stable-linux-amd64.zip"
      ],
      "execution_count": 3,
      "outputs": [
        {
          "output_type": "stream",
          "name": "stdout",
          "text": [
            "Archive:  ngrok-stable-linux-amd64.zip\n",
            "  inflating: ngrok                   \n"
          ]
        }
      ]
    },
    {
      "cell_type": "code",
      "metadata": {
        "colab": {
          "base_uri": "https://localhost:8080/"
        },
        "id": "JXmdRhtc6NsI",
        "outputId": "dfac21c2-89e8-46a7-c705-5cb912e33d6d"
      },
      "source": [
        "!apt install jq > /dev/null"
      ],
      "execution_count": 4,
      "outputs": [
        {
          "output_type": "stream",
          "name": "stdout",
          "text": [
            "\n",
            "WARNING: apt does not have a stable CLI interface. Use with caution in scripts.\n",
            "\n"
          ]
        }
      ]
    },
    {
      "cell_type": "code",
      "metadata": {
        "colab": {
          "base_uri": "https://localhost:8080/"
        },
        "id": "pZ5n350w6FTo",
        "outputId": "a09963d5-0479-4a85-8587-797f7fb611be"
      },
      "source": [
        "#!./ngrok authtoken '1kUOcM8UMOor3RHsdVJRGMeTl6q_4dCwfYYui1gQcYbPZhxod'\n",
        "get_ipython().system_raw(ngrokTokenCmd)"
      ],
      "execution_count": 5,
      "outputs": [
        {
          "output_type": "stream",
          "name": "stdout",
          "text": [
            "Authtoken saved to configuration file: /root/.ngrok2/ngrok.yml\n"
          ]
        }
      ]
    },
    {
      "cell_type": "markdown",
      "metadata": {
        "id": "C7B_YWgNIheW"
      },
      "source": [
        "# Demo Application"
      ]
    },
    {
      "cell_type": "code",
      "metadata": {
        "id": "oy6I-5jMDicy"
      },
      "source": [
        "get_ipython().system_raw('./ngrok http 8501 &')"
      ],
      "execution_count": 6,
      "outputs": []
    },
    {
      "cell_type": "code",
      "metadata": {
        "colab": {
          "base_uri": "https://localhost:8080/"
        },
        "id": "TQtfmiA2EMDr",
        "outputId": "5aef3e4b-f00a-47f1-860c-b80b001385a3"
      },
      "source": [
        "!curl -s http://localhost:4040/api/tunnels | jq .tunnels[0].public_url\n",
        "!curl -s http://localhost:4040/api/tunnels | jq .tunnels[0].config.addr"
      ],
      "execution_count": 7,
      "outputs": [
        {
          "output_type": "stream",
          "name": "stdout",
          "text": [
            "\u001b[0;32m\"https://5126-34-86-58-173.ngrok.io\"\u001b[0m\n",
            "\u001b[0;32m\"http://localhost:8501\"\u001b[0m\n"
          ]
        }
      ]
    },
    {
      "cell_type": "code",
      "metadata": {
        "colab": {
          "base_uri": "https://localhost:8080/"
        },
        "id": "Rct7XA0H4tlJ",
        "outputId": "b580c761-49d8-46ee-cee9-361de8feaed7"
      },
      "source": [
        "!streamlit hello"
      ],
      "execution_count": 8,
      "outputs": [
        {
          "output_type": "stream",
          "name": "stdout",
          "text": [
            "2021-09-08 11:20:09.196 Did not auto detect external IP.\n",
            "Please go to https://docs.streamlit.io/ for debugging hints.\n",
            "\u001b[0m\n",
            "\u001b[34m\u001b[1m  Welcome to Streamlit. Check out our demo in your browser.\u001b[0m\n",
            "\u001b[0m\n",
            "\u001b[34m  Network URL: \u001b[0m\u001b[1mhttp://172.28.0.2:8501\u001b[0m\n",
            "\u001b[0m\n",
            "  Ready to create your own Python apps super quickly?\u001b[0m\n",
            "  Head over to \u001b[0m\u001b[1mhttps://docs.streamlit.io\u001b[0m\n",
            "\u001b[0m\n",
            "  May you create awesome apps!\u001b[0m\n",
            "\u001b[0m\n",
            "\u001b[0m\n",
            "2021-09-08 11:20:58.446 NumExpr defaulting to 2 threads.\n",
            "\u001b[34m  Stopping...\u001b[0m\n",
            "\u001b[34m  Stopping...\u001b[0m\n"
          ]
        }
      ]
    },
    {
      "cell_type": "markdown",
      "metadata": {
        "id": "vXK0WQnKLuyK"
      },
      "source": [
        "# Quickstart APP"
      ]
    },
    {
      "cell_type": "code",
      "metadata": {
        "colab": {
          "base_uri": "https://localhost:8080/"
        },
        "id": "GHcM9CvPLuEs",
        "outputId": "d63129a9-dfa7-4bd7-bc00-3e3487abc7b6"
      },
      "source": [
        "%%writefile quickstart.py\n",
        "# Imports\n",
        "# -----------------------------------------------------------\n",
        "import streamlit as st\n",
        "import pandas as pd\n",
        "# -----------------------------------------------------------\n",
        "\n",
        "# Helper functions\n",
        "# -----------------------------------------------------------\n",
        "# Load data from external source\n",
        "df = pd.read_csv(\n",
        "    \"https://raw.githubusercontent.com/ThuwarakeshM/PracticalML-KMeans-Election/master/voters_demo_sample.csv\"\n",
        ")\n",
        "# -----------------------------------------------------------\n",
        "\n",
        "# Sidebar\n",
        "# -----------------------------------------------------------\n",
        "\n",
        "# -----------------------------------------------------------\n",
        "\n",
        "\n",
        "# Main\n",
        "# -----------------------------------------------------------\n",
        "# Create a title for your app\n",
        "st.title(\"Interactive K-Means Clustering\")\n",
        "\n",
        "# A description\n",
        "st.write(\"Here is the dataset used in this analysis:\")\n",
        "\n",
        "# Display the dataframe\n",
        "st.write(df)\n",
        "# -----------------------------------------------------------"
      ],
      "execution_count": 9,
      "outputs": [
        {
          "output_type": "stream",
          "name": "stdout",
          "text": [
            "Writing quickstart.py\n"
          ]
        }
      ]
    },
    {
      "cell_type": "code",
      "metadata": {
        "colab": {
          "base_uri": "https://localhost:8080/"
        },
        "id": "v9WRJfurMIdR",
        "outputId": "c475b3cd-5eb8-4bd5-b00c-60fcd2ec5f40"
      },
      "source": [
        "get_ipython().system_raw('./ngrok http 8501 &')"
      ],
      "execution_count": 11,
      "outputs": [
        {
          "output_type": "stream",
          "name": "stdout",
          "text": [
            "Your account 'Prithwis Mukerjee' is limited to 1 simultaneous ngrok client session.\n",
            "Active ngrok client sessions in region 'us':\n",
            "  - ts_1xr6sqS5hjvYmT4pAI8cf9z2LPL (34.86.58.173)\r\n",
            "\r\n",
            "ERR_NGROK_108\r\n",
            "\n"
          ]
        }
      ]
    },
    {
      "cell_type": "code",
      "metadata": {
        "colab": {
          "base_uri": "https://localhost:8080/"
        },
        "id": "yQkp8qIhM4Ar",
        "outputId": "907e8d55-b3e3-4fc7-fb61-63af9ec6f754"
      },
      "source": [
        "!curl -s http://localhost:4040/api/tunnels | jq .tunnels[0].public_url\n",
        "!curl -s http://localhost:4040/api/tunnels | jq .tunnels[0].config.addr"
      ],
      "execution_count": 12,
      "outputs": [
        {
          "output_type": "stream",
          "name": "stdout",
          "text": [
            "\u001b[0;32m\"http://6936-34-86-58-173.ngrok.io\"\u001b[0m\n",
            "\u001b[0;32m\"http://localhost:8501\"\u001b[0m\n"
          ]
        }
      ]
    },
    {
      "cell_type": "code",
      "metadata": {
        "colab": {
          "base_uri": "https://localhost:8080/"
        },
        "id": "dMqm8KIBMwim",
        "outputId": "b15885d8-aa91-4308-81be-e9b1a6874ecc"
      },
      "source": [
        "!streamlit run quickstart.py"
      ],
      "execution_count": 15,
      "outputs": [
        {
          "output_type": "stream",
          "name": "stdout",
          "text": [
            "2021-09-08 11:39:17.789 Did not auto detect external IP.\n",
            "Please go to https://docs.streamlit.io/ for debugging hints.\n",
            "\u001b[0m\n",
            "\u001b[34m\u001b[1m  You can now view your Streamlit app in your browser.\u001b[0m\n",
            "\u001b[0m\n",
            "\u001b[34m  Network URL: \u001b[0m\u001b[1mhttp://172.28.0.2:8501\u001b[0m\n",
            "\u001b[0m\n",
            "\u001b[34m  Stopping...\u001b[0m\n"
          ]
        }
      ]
    },
    {
      "cell_type": "markdown",
      "metadata": {
        "id": "ivINqiUBNW1W"
      },
      "source": [
        "# Quickstart 2"
      ]
    },
    {
      "cell_type": "code",
      "metadata": {
        "colab": {
          "base_uri": "https://localhost:8080/"
        },
        "id": "bFPIDy9rNc11",
        "outputId": "e7207e95-089d-459e-837b-f570a21230f6"
      },
      "source": [
        "%%writefile quickstart2.py\n",
        "# Imports\n",
        "# -----------------------------------------------------------\n",
        "import streamlit as st\n",
        "import pandas as pd\n",
        "# -----------------------------------------------------------\n",
        "\n",
        "# Helper functions\n",
        "# -----------------------------------------------------------\n",
        "# Load data from external source\n",
        "df = pd.read_csv(\n",
        "    \"https://raw.githubusercontent.com/ThuwarakeshM/PracticalML-KMeans-Election/master/voters_demo_sample.csv\"\n",
        ")\n",
        "# -----------------------------------------------------------\n",
        "\n",
        "# Sidebar\n",
        "# -----------------------------------------------------------\n",
        "\n",
        "# -----------------------------------------------------------\n",
        "\n",
        "\n",
        "# Main\n",
        "# -----------------------------------------------------------\n",
        "# Create a title for your app\n",
        "st.title(\"Interactive K-Means Clustering\")\n",
        "\n",
        "# A description\n",
        "st.write(\"Here is the dataset used in this analysis:\")\n",
        "\n",
        "# Display the dataframe\n",
        "df_display = st.checkbox(\"Display Raw Data\", value=True)\n",
        "\n",
        "if df_display:\n",
        "    st.write(df)"
      ],
      "execution_count": 16,
      "outputs": [
        {
          "output_type": "stream",
          "name": "stdout",
          "text": [
            "Writing quickstart2.py\n"
          ]
        }
      ]
    },
    {
      "cell_type": "code",
      "metadata": {
        "id": "eKGd-p2yORGX"
      },
      "source": [
        "get_ipython().system_raw('./ngrok http 8501 &')"
      ],
      "execution_count": 20,
      "outputs": []
    },
    {
      "cell_type": "code",
      "metadata": {
        "colab": {
          "base_uri": "https://localhost:8080/"
        },
        "id": "g9KBRqSgOVNX",
        "outputId": "a635dcc5-ca19-49fe-ccc2-0dddcd92f2e9"
      },
      "source": [
        "!curl -s http://localhost:4040/api/tunnels | jq .tunnels[0].public_url\n",
        "!curl -s http://localhost:4040/api/tunnels | jq .tunnels[0].config.addr"
      ],
      "execution_count": 21,
      "outputs": [
        {
          "output_type": "stream",
          "name": "stdout",
          "text": [
            "\u001b[0;32m\"https://ddd8-34-86-58-173.ngrok.io\"\u001b[0m\n",
            "\u001b[0;32m\"http://localhost:8501\"\u001b[0m\n"
          ]
        }
      ]
    },
    {
      "cell_type": "code",
      "metadata": {
        "colab": {
          "base_uri": "https://localhost:8080/"
        },
        "id": "uMPiizvTOYfH",
        "outputId": "896c77bd-efa4-404d-c356-bb0eb29600b1"
      },
      "source": [
        "!streamlit run quickstart2.py"
      ],
      "execution_count": 22,
      "outputs": [
        {
          "output_type": "stream",
          "name": "stdout",
          "text": [
            "2021-09-08 11:45:57.252 Did not auto detect external IP.\n",
            "Please go to https://docs.streamlit.io/ for debugging hints.\n",
            "\u001b[0m\n",
            "\u001b[34m\u001b[1m  You can now view your Streamlit app in your browser.\u001b[0m\n",
            "\u001b[0m\n",
            "\u001b[34m  Network URL: \u001b[0m\u001b[1mhttp://172.28.0.2:8501\u001b[0m\n",
            "\u001b[0m\n",
            "\u001b[34m  Stopping...\u001b[0m\n"
          ]
        }
      ]
    },
    {
      "cell_type": "markdown",
      "metadata": {
        "id": "1huj1MYePCD7"
      },
      "source": [
        "# Quickstart 3 "
      ]
    },
    {
      "cell_type": "code",
      "metadata": {
        "colab": {
          "base_uri": "https://localhost:8080/"
        },
        "id": "D58fWO3ZPGd2",
        "outputId": "6874396d-e8d1-42f8-d2d0-f51f53cb03f7"
      },
      "source": [
        "%%writefile quickstart3.py\n",
        "# Imports\n",
        "# -----------------------------------------------------------\n",
        "import streamlit as st\n",
        "import pandas as pd\n",
        "# -----------------------------------------------------------\n",
        "\n",
        "# Helper functions\n",
        "# -----------------------------------------------------------\n",
        "# Load data from external source\n",
        "df = pd.read_csv(\n",
        "    \"https://raw.githubusercontent.com/ThuwarakeshM/PracticalML-KMeans-Election/master/voters_demo_sample.csv\"\n",
        ")\n",
        "# -----------------------------------------------------------\n",
        "\n",
        "# Sidebar\n",
        "# -----------------------------------------------------------\n",
        "# -----------------------------------------------------------\n",
        "sidebar = st.sidebar\n",
        "df_display = sidebar.checkbox(\"Display Raw Data\", value=True)\n",
        "\n",
        "n_clusters = sidebar.slider(\n",
        "    \"Select Number of Clusters\",\n",
        "    min_value=2,\n",
        "    max_value=10,\n",
        ")\n",
        "# -----------------------------------------------------------\n",
        "\n",
        "\n",
        "# Main\n",
        "# -----------------------------------------------------------\n",
        "# Create a title for your app\n",
        "st.title(\"Interactive K-Means Clustering\")\n",
        "\n",
        "# A description\n",
        "st.write(\"Here is the dataset used in this analysis:\")\n",
        "\n",
        "# Display the dataframe\n",
        "#df_display = st.checkbox(\"Display Raw Data\", value=True)\n",
        "\n",
        "if df_display:\n",
        "    st.write(df)"
      ],
      "execution_count": 27,
      "outputs": [
        {
          "output_type": "stream",
          "name": "stdout",
          "text": [
            "Overwriting quickstart3.py\n"
          ]
        }
      ]
    },
    {
      "cell_type": "code",
      "metadata": {
        "id": "qGYg-1WpPTZr"
      },
      "source": [
        "get_ipython().system_raw('./ngrok http 8501 &')"
      ],
      "execution_count": 31,
      "outputs": []
    },
    {
      "cell_type": "code",
      "metadata": {
        "colab": {
          "base_uri": "https://localhost:8080/"
        },
        "id": "-YzvHwWfPW4n",
        "outputId": "cde0e320-8371-4e75-b113-c5a8202ea6cc"
      },
      "source": [
        "!curl -s http://localhost:4040/api/tunnels | jq .tunnels[0].public_url\n",
        "!curl -s http://localhost:4040/api/tunnels | jq .tunnels[0].config.addr"
      ],
      "execution_count": 32,
      "outputs": [
        {
          "output_type": "stream",
          "name": "stdout",
          "text": [
            "\u001b[0;32m\"https://4f12-34-86-58-173.ngrok.io\"\u001b[0m\n",
            "\u001b[0;32m\"http://localhost:8501\"\u001b[0m\n"
          ]
        }
      ]
    },
    {
      "cell_type": "code",
      "metadata": {
        "colab": {
          "base_uri": "https://localhost:8080/"
        },
        "id": "fceFIL-tPZz8",
        "outputId": "c2b73b54-c21b-44bb-f521-3ac8ab769cf0"
      },
      "source": [
        "!streamlit run quickstart3.py"
      ],
      "execution_count": 33,
      "outputs": [
        {
          "output_type": "stream",
          "name": "stdout",
          "text": [
            "2021-09-08 11:54:15.337 Did not auto detect external IP.\n",
            "Please go to https://docs.streamlit.io/ for debugging hints.\n",
            "\u001b[0m\n",
            "\u001b[34m\u001b[1m  You can now view your Streamlit app in your browser.\u001b[0m\n",
            "\u001b[0m\n",
            "\u001b[34m  Network URL: \u001b[0m\u001b[1mhttp://172.28.0.2:8501\u001b[0m\n",
            "\u001b[0m\n",
            "\u001b[34m  Stopping...\u001b[0m\n",
            "\u001b[34m  Stopping...\u001b[0m\n"
          ]
        }
      ]
    },
    {
      "cell_type": "markdown",
      "metadata": {
        "id": "vBWtZzhgQ_YI"
      },
      "source": [
        "# Quickstart 4"
      ]
    },
    {
      "cell_type": "code",
      "metadata": {
        "colab": {
          "base_uri": "https://localhost:8080/"
        },
        "id": "XzcF_2e_RDvA",
        "outputId": "31f8ca28-be92-42f9-8014-57a2b663c487"
      },
      "source": [
        "%%writefile quickstart4.py\n",
        "# Imports\n",
        "# -----------------------------------------------------------\n",
        "import streamlit as st\n",
        "import pandas as pd\n",
        "from sklearn.cluster import KMeans\n",
        "import matplotlib.pyplot as plt\n",
        "import seaborn as sns\n",
        "# -----------------------------------------------------------\n",
        "\n",
        "sns.set_theme()\n",
        "\n",
        "# Helper functions\n",
        "# -----------------------------------------------------------\n",
        "# Load data from external source\n",
        "df = pd.read_csv(\n",
        "    \"https://raw.githubusercontent.com/ThuwarakeshM/PracticalML-KMeans-Election/master/voters_demo_sample.csv\"\n",
        ")\n",
        "# -----------------------------------------------------------\n",
        "def run_kmeans(df, n_clusters=2):\n",
        "    kmeans = KMeans(n_clusters, random_state=0).fit(df[[\"Age\", \"Income\"]])\n",
        "\n",
        "    fig, ax = plt.subplots(figsize=(16, 9))\n",
        "\n",
        "    #Create scatterplot\n",
        "    ax = sns.scatterplot(\n",
        "        ax=ax,\n",
        "        x=df.Age,\n",
        "        y=df.Income,\n",
        "        hue=kmeans.labels_,\n",
        "        palette=sns.color_palette(\"colorblind\", n_colors=n_clusters),\n",
        "        legend=None,\n",
        "    )\n",
        "\n",
        "    return fig\n",
        "# -----------------------------------------------------------\n",
        "# Sidebar\n",
        "# -----------------------------------------------------------\n",
        "# -----------------------------------------------------------\n",
        "sidebar = st.sidebar\n",
        "df_display = sidebar.checkbox(\"Display Raw Data\", value=True)\n",
        "\n",
        "n_clusters = sidebar.slider(\n",
        "    \"Select Number of Clusters\",\n",
        "    min_value=2,\n",
        "    max_value=10,\n",
        ")\n",
        "# -----------------------------------------------------------\n",
        "\n",
        "\n",
        "# Main\n",
        "# -----------------------------------------------------------\n",
        "# Create a title for your app\n",
        "st.title(\"Interactive K-Means Clustering\")\n",
        "\n",
        "# A description\n",
        "st.write(\"Here is the dataset used in this analysis:\")\n",
        "\n",
        "# Display the dataframe\n",
        "#df_display = st.checkbox(\"Display Raw Data\", value=True)\n",
        "\n",
        "if df_display:\n",
        "    st.write(df)\n",
        "\n",
        "# Show cluster scatter plot\n",
        "st.write(run_kmeans(df, n_clusters=n_clusters))"
      ],
      "execution_count": 34,
      "outputs": [
        {
          "output_type": "stream",
          "name": "stdout",
          "text": [
            "Writing quickstart4.py\n"
          ]
        }
      ]
    },
    {
      "cell_type": "code",
      "metadata": {
        "id": "LTksDhu5R32f"
      },
      "source": [
        "get_ipython().system_raw('./ngrok http 8501 &')"
      ],
      "execution_count": 35,
      "outputs": []
    },
    {
      "cell_type": "code",
      "metadata": {
        "colab": {
          "base_uri": "https://localhost:8080/"
        },
        "id": "B_1yIe6_R8jT",
        "outputId": "0015965c-3776-44e5-fe69-f8de4da8eb35"
      },
      "source": [
        "!curl -s http://localhost:4040/api/tunnels | jq .tunnels[0].public_url\n",
        "!curl -s http://localhost:4040/api/tunnels | jq .tunnels[0].config.addr"
      ],
      "execution_count": 36,
      "outputs": [
        {
          "output_type": "stream",
          "name": "stdout",
          "text": [
            "\u001b[0;32m\"https://179f-34-86-58-173.ngrok.io\"\u001b[0m\n",
            "\u001b[0;32m\"http://localhost:8501\"\u001b[0m\n"
          ]
        }
      ]
    },
    {
      "cell_type": "code",
      "metadata": {
        "colab": {
          "base_uri": "https://localhost:8080/"
        },
        "id": "S_8R6IkwSDij",
        "outputId": "cb527dfb-e439-4649-9f05-e1fe120e5bce"
      },
      "source": [
        "!streamlit run quickstart4.py"
      ],
      "execution_count": 37,
      "outputs": [
        {
          "output_type": "stream",
          "name": "stdout",
          "text": [
            "2021-09-08 12:01:20.812 Did not auto detect external IP.\n",
            "Please go to https://docs.streamlit.io/ for debugging hints.\n",
            "\u001b[0m\n",
            "\u001b[34m\u001b[1m  You can now view your Streamlit app in your browser.\u001b[0m\n",
            "\u001b[0m\n",
            "\u001b[34m  Network URL: \u001b[0m\u001b[1mhttp://172.28.0.2:8501\u001b[0m\n",
            "\u001b[0m\n",
            "2021-09-08 12:01:22.058 NumExpr defaulting to 2 threads.\n",
            "\u001b[34m  Stopping...\u001b[0m\n"
          ]
        }
      ]
    },
    {
      "cell_type": "markdown",
      "metadata": {
        "id": "AClF5qKZTqpB"
      },
      "source": [
        "#Quickstart 5"
      ]
    },
    {
      "cell_type": "code",
      "metadata": {
        "colab": {
          "base_uri": "https://localhost:8080/"
        },
        "id": "MxqlI39rTuNE",
        "outputId": "8a8d5507-0a3f-4da6-9916-fb4c817ea076"
      },
      "source": [
        "%%writefile quickstart5.py\n",
        "# Imports\n",
        "# -----------------------------------------------------------\n",
        "import streamlit as st\n",
        "import pandas as pd\n",
        "from sklearn.cluster import KMeans\n",
        "import matplotlib.pyplot as plt\n",
        "import seaborn as sns\n",
        "# -----------------------------------------------------------\n",
        "\n",
        "sns.set_theme()\n",
        "\n",
        "# Helper functions\n",
        "# -----------------------------------------------------------\n",
        "# Load data from external source\n",
        "@st.cache\n",
        "def load_data():\n",
        "    df = pd.read_csv(\n",
        "        \"https://raw.githubusercontent.com/ThuwarakeshM/PracticalML-KMeans-Election/master/voters_demo_sample.csv\"\n",
        "    )\n",
        "    return df\n",
        "\n",
        "df = load_data()\n",
        "# -----------------------------------------------------------\n",
        "def run_kmeans(df, n_clusters=2):\n",
        "    kmeans = KMeans(n_clusters, random_state=0).fit(df[[\"Age\", \"Income\"]])\n",
        "\n",
        "    fig, ax = plt.subplots(figsize=(16, 9))\n",
        "\n",
        "    #Create scatterplot\n",
        "    ax = sns.scatterplot(\n",
        "        ax=ax,\n",
        "        x=df.Age,\n",
        "        y=df.Income,\n",
        "        hue=kmeans.labels_,\n",
        "        palette=sns.color_palette(\"colorblind\", n_colors=n_clusters),\n",
        "        legend=None,\n",
        "    )\n",
        "\n",
        "    return fig\n",
        "# -----------------------------------------------------------\n",
        "# Sidebar\n",
        "# -----------------------------------------------------------\n",
        "# -----------------------------------------------------------\n",
        "sidebar = st.sidebar\n",
        "df_display = sidebar.checkbox(\"Display Raw Data\", value=True)\n",
        "\n",
        "n_clusters = sidebar.slider(\n",
        "    \"Select Number of Clusters\",\n",
        "    min_value=2,\n",
        "    max_value=10,\n",
        ")\n",
        "# -----------------------------------------------------------\n",
        "\n",
        "\n",
        "# Main\n",
        "# -----------------------------------------------------------\n",
        "# Create a title for your app\n",
        "st.title(\"Interactive K-Means Clustering\")\n",
        "\n",
        "# A description\n",
        "st.write(\"Here is the dataset used in this analysis:\")\n",
        "\n",
        "# Display the dataframe\n",
        "#df_display = st.checkbox(\"Display Raw Data\", value=True)\n",
        "\n",
        "if df_display:\n",
        "    st.write(df)\n",
        "\n",
        "# Show cluster scatter plot\n",
        "st.write(run_kmeans(df, n_clusters=n_clusters))"
      ],
      "execution_count": 38,
      "outputs": [
        {
          "output_type": "stream",
          "name": "stdout",
          "text": [
            "Writing quickstart5.py\n"
          ]
        }
      ]
    },
    {
      "cell_type": "code",
      "metadata": {
        "id": "M-TU87gbVENs"
      },
      "source": [
        "get_ipython().system_raw('./ngrok http 8501 &')"
      ],
      "execution_count": 39,
      "outputs": []
    },
    {
      "cell_type": "code",
      "metadata": {
        "colab": {
          "base_uri": "https://localhost:8080/"
        },
        "id": "30JkxKxQVJ8d",
        "outputId": "2dfb504f-b2b9-45e7-f14d-9f3023b195f3"
      },
      "source": [
        "!curl -s http://localhost:4040/api/tunnels | jq .tunnels[0].public_url\n",
        "!curl -s http://localhost:4040/api/tunnels | jq .tunnels[0].config.addr"
      ],
      "execution_count": 40,
      "outputs": [
        {
          "output_type": "stream",
          "name": "stdout",
          "text": [
            "\u001b[0;32m\"https://adf4-34-86-58-173.ngrok.io\"\u001b[0m\n",
            "\u001b[0;32m\"http://localhost:8501\"\u001b[0m\n"
          ]
        }
      ]
    },
    {
      "cell_type": "code",
      "metadata": {
        "colab": {
          "base_uri": "https://localhost:8080/"
        },
        "id": "mOn3XiclVNa0",
        "outputId": "1028035d-a133-44fa-99d0-00becb851a53"
      },
      "source": [
        "!streamlit run quickstart5.py"
      ],
      "execution_count": 41,
      "outputs": [
        {
          "output_type": "stream",
          "name": "stdout",
          "text": [
            "\u001b[0m\n",
            "\u001b[34m\u001b[1m  You can now view your Streamlit app in your browser.\u001b[0m\n",
            "\u001b[0m\n",
            "\u001b[34m  Network URL: \u001b[0m\u001b[1mhttp://172.28.0.2:8501\u001b[0m\n",
            "\u001b[34m  External URL: \u001b[0m\u001b[1mhttp://34.86.58.173:8501\u001b[0m\n",
            "\u001b[0m\n",
            "2021-09-08 12:15:08.140 NumExpr defaulting to 2 threads.\n",
            "\u001b[34m  Stopping...\u001b[0m\n",
            "\u001b[34m  Stopping...\u001b[0m\n"
          ]
        }
      ]
    },
    {
      "cell_type": "markdown",
      "metadata": {
        "id": "KzJSScXWVrFn"
      },
      "source": [
        "#Chronobooks <br>\n",
        "![alt text](https://1.bp.blogspot.com/-lTiYBkU2qbU/X1er__fvnkI/AAAAAAAAjtE/GhDR3OEGJr4NG43fZPodrQD5kbxtnKebgCLcBGAsYHQ/s600/Footer2020-600x200.png)<hr>\n",
        "Chronotantra and Chronoyantra are two science fiction novels that explore the collapse of human civilisation on Earth and then its rebirth and reincarnation both on Earth as well as on the distant worlds of Mars, Titan and Enceladus. But is it the human civilisation that is being reborn? Or is it some other sentience that is revealing itself. \n",
        "If you have an interest in AI and found this material useful, you may consider buying these novels, in paperback or kindle, from [http://bit.ly/chronobooks](http://bit.ly/chronobooks)"
      ]
    }
  ]
}