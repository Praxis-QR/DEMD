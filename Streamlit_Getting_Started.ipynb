{
  "nbformat": 4,
  "nbformat_minor": 0,
  "metadata": {
    "colab": {
      "name": "Streamlit - Getting Started",
      "provenance": [],
      "authorship_tag": "ABX9TyN3usIZR0uV9unpaxqfd3bs",
      "include_colab_link": true
    },
    "kernelspec": {
      "name": "python3",
      "display_name": "Python 3"
    },
    "language_info": {
      "name": "python"
    }
  },
  "cells": [
    {
      "cell_type": "markdown",
      "metadata": {
        "id": "view-in-github",
        "colab_type": "text"
      },
      "source": [
        "<a href=\"https://colab.research.google.com/github/Praxis-QR/DEMD/blob/main/Streamlit_Getting_Started.ipynb\" target=\"_parent\"><img src=\"https://colab.research.google.com/assets/colab-badge.svg\" alt=\"Open In Colab\"/></a>"
      ]
    },
    {
      "cell_type": "markdown",
      "metadata": {
        "id": "U98F0_n-K7YZ"
      },
      "source": [
        "![alt text](https://4.bp.blogspot.com/-gbL5nZDkpFQ/XScFYwoTEII/AAAAAAAAAGY/CcVb_HDLwvs2Brv5T4vSsUcz7O4r2Q79ACK4BGAYYCw/s1600/kk3-header00-beta.png)<br>\n",
        "\n",
        "\n",
        "<hr>\n",
        "\n",
        "[Prithwis Mukerjee](http://www.linkedin.com/in/prithwis)<br>"
      ]
    },
    {
      "cell_type": "markdown",
      "metadata": {
        "id": "oEsKlQY2K-bL"
      },
      "source": [
        "# Streamlit - Getting Started <br>\n",
        "Based on the [Tutorial by Murallie Thuwarakesh](https://www.kdnuggets.com/2021/09/create-stunning-web-apps-data-science-projects.html) <br>\n",
        "\n",
        "a second [tutorial from Ayush Mishra](https://towardsdatascience.com/deploying-your-ml-model-using-streamlit-and-ngrok-c2eea3fd9763) can also be referred to for another example <br>\n",
        "for which the code is available in [this github repository](https://github.com/AM1CODES/PythonWeek-GraduateAdmission/blob/12ecfaa8a580080bf4601d6c140b72cec066ed79/app.ipynb)"
      ]
    },
    {
      "cell_type": "code",
      "metadata": {
        "colab": {
          "base_uri": "https://localhost:8080/"
        },
        "id": "UUkOymup4S7E",
        "outputId": "04d75944-cc61-40b5-9168-01261ac10092"
      },
      "source": [
        "!pip install streamlit > /dev/null\n",
        "# ignore errors\n",
        "# restart runtime after execution"
      ],
      "execution_count": 1,
      "outputs": [
        {
          "output_type": "stream",
          "name": "stdout",
          "text": [
            "\u001b[31mERROR: pip's dependency resolver does not currently take into account all the packages that are installed. This behaviour is the source of the following dependency conflicts.\n",
            "jupyter-console 5.2.0 requires prompt-toolkit<2.0.0,>=1.0.0, but you have prompt-toolkit 3.0.20 which is incompatible.\n",
            "google-colab 1.0.0 requires ipykernel~=4.10, but you have ipykernel 6.4.1 which is incompatible.\n",
            "google-colab 1.0.0 requires ipython~=5.5.0, but you have ipython 7.27.0 which is incompatible.\u001b[0m\n"
          ]
        }
      ]
    },
    {
      "cell_type": "markdown",
      "metadata": {
        "id": "gHmaWDEK5G3n"
      },
      "source": [
        "#NGROK Tunnels"
      ]
    },
    {
      "cell_type": "code",
      "metadata": {
        "colab": {
          "base_uri": "https://localhost:8080/"
        },
        "id": "561KWjTa5JY3",
        "outputId": "cc161ebe-09fd-4db2-df32-1d22d0c4b405"
      },
      "source": [
        "from google.colab import drive\n",
        "drive.mount('/content/drive')"
      ],
      "execution_count": 1,
      "outputs": [
        {
          "output_type": "stream",
          "name": "stdout",
          "text": [
            "Mounted at /content/drive\n"
          ]
        }
      ]
    },
    {
      "cell_type": "code",
      "metadata": {
        "id": "hWS0NzYQ5cFY"
      },
      "source": [
        "# credential file for Prithwis Mukerjee\n",
        "# this file needs to be uploaded into the VM\n",
        "!cp /content/drive/'My Drive'/Praxis/WebCredentials/ngrokToken.py .\n",
        "\n",
        "\n",
        "from ngrokToken import ngrokToken\n",
        "\n",
        "#for the sake of privacy\n",
        "#the following credentials need to be stored in a text file called ngrokToken.py\n",
        "#in the format given below\n",
        "#in the Colab VM\n",
        "\n",
        "#otherwise, the values can be directly placed here\n",
        "\n",
        "#ngrokToken = '1kUOcwwwwwwwwRHsdVJRGMeTdddddddddddYbPZhxod'   # uncomment this line and place your own credentials here\n",
        "#token is available at https://dashboard.ngrok.com/get-started/setup\n",
        "\n",
        "\n",
        "#print(ngrokToken)\n",
        "#ngrokTokenCmd = './ngrok authtoken '+ngrokToken    # option 1\n",
        "#ngrokTokenCmd = 'ngrok authtoken '+ngrokToken    # option 2"
      ],
      "execution_count": 5,
      "outputs": []
    },
    {
      "cell_type": "markdown",
      "metadata": {
        "id": "WcEF5NW2yzR4"
      },
      "source": [
        "## Option 1 : Native NGROK"
      ]
    },
    {
      "cell_type": "code",
      "metadata": {
        "colab": {
          "base_uri": "https://localhost:8080/"
        },
        "id": "PmQf7FJO5uU0",
        "outputId": "8fbbbf0b-f45f-4383-affa-7336a6d9f13e"
      },
      "source": [
        "#https://ngrok.com/download\n",
        "!wget -q https://bin.equinox.io/c/4VmDzA7iaHb/ngrok-stable-linux-amd64.zip\n",
        "!unzip ngrok-stable-linux-amd64.zip"
      ],
      "execution_count": null,
      "outputs": [
        {
          "output_type": "stream",
          "name": "stdout",
          "text": [
            "Archive:  ngrok-stable-linux-amd64.zip\n",
            "  inflating: ngrok                   \n"
          ]
        }
      ]
    },
    {
      "cell_type": "code",
      "metadata": {
        "colab": {
          "base_uri": "https://localhost:8080/"
        },
        "id": "JXmdRhtc6NsI",
        "outputId": "7469b809-7d72-4496-ca10-84b753b46cfa"
      },
      "source": [
        "!apt install jq > /dev/null"
      ],
      "execution_count": 7,
      "outputs": [
        {
          "output_type": "stream",
          "name": "stdout",
          "text": [
            "\n",
            "WARNING: apt does not have a stable CLI interface. Use with caution in scripts.\n",
            "\n"
          ]
        }
      ]
    },
    {
      "cell_type": "code",
      "metadata": {
        "id": "OfMXQizu3p_4"
      },
      "source": [
        "ngrokTokenCmd = './ngrok authtoken '+ngrokToken    # option 1"
      ],
      "execution_count": null,
      "outputs": []
    },
    {
      "cell_type": "markdown",
      "metadata": {
        "id": "pNIk_Vnpy-FR"
      },
      "source": [
        "## Option 2 : Python Wrapper"
      ]
    },
    {
      "cell_type": "code",
      "metadata": {
        "id": "3h8-S1snzDUR",
        "outputId": "85341535-1c3f-48af-c871-728380c70b16",
        "colab": {
          "base_uri": "https://localhost:8080/"
        }
      },
      "source": [
        "!pip install pyngrok"
      ],
      "execution_count": 3,
      "outputs": [
        {
          "output_type": "stream",
          "name": "stdout",
          "text": [
            "Collecting pyngrok\n",
            "  Downloading pyngrok-5.1.0.tar.gz (745 kB)\n",
            "\u001b[K     |████████████████████████████████| 745 kB 2.1 MB/s \n",
            "\u001b[?25hRequirement already satisfied: PyYAML in /usr/local/lib/python3.7/dist-packages (from pyngrok) (3.13)\n",
            "Building wheels for collected packages: pyngrok\n",
            "  Building wheel for pyngrok (setup.py) ... \u001b[?25l\u001b[?25hdone\n",
            "  Created wheel for pyngrok: filename=pyngrok-5.1.0-py3-none-any.whl size=19006 sha256=9632391c215693e2fda972465feb1dd14c9dcfcfa8972e9875253b507e0c4c4e\n",
            "  Stored in directory: /root/.cache/pip/wheels/bf/e6/af/ccf6598ecefecd44104069371795cb9b3afbcd16987f6ccfb3\n",
            "Successfully built pyngrok\n",
            "Installing collected packages: pyngrok\n",
            "Successfully installed pyngrok-5.1.0\n"
          ]
        }
      ]
    },
    {
      "cell_type": "code",
      "metadata": {
        "id": "uUypVouY0f9U"
      },
      "source": [
        "from pyngrok import ngrok"
      ],
      "execution_count": 9,
      "outputs": []
    },
    {
      "cell_type": "code",
      "metadata": {
        "colab": {
          "base_uri": "https://localhost:8080/"
        },
        "id": "pZ5n350w6FTo",
        "outputId": "ebf6796d-edb7-4025-b61f-50cc194893d8"
      },
      "source": [
        "#!./ngrok authtoken '1kUOcM8Uzzzzzzzzzzzzzzzzzzzzzzzzzzzzzzzzzzzzzzzzzz'\n",
        "ngrokTokenCmd = 'ngrok authtoken '+ngrokToken    # option 2\n",
        "get_ipython().system_raw(ngrokTokenCmd)"
      ],
      "execution_count": 6,
      "outputs": [
        {
          "output_type": "stream",
          "name": "stdout",
          "text": [
            "Authtoken saved to configuration file: /root/.ngrok2/ngrok.yml\n"
          ]
        }
      ]
    },
    {
      "cell_type": "markdown",
      "metadata": {
        "id": "C7B_YWgNIheW"
      },
      "source": [
        "# Demo Application"
      ]
    },
    {
      "cell_type": "code",
      "metadata": {
        "id": "oy6I-5jMDicy"
      },
      "source": [
        "#get_ipython().system_raw('./ngrok http 8501 &')\n",
        "public_url = ngrok.connect(8501)"
      ],
      "execution_count": 12,
      "outputs": []
    },
    {
      "cell_type": "code",
      "metadata": {
        "colab": {
          "base_uri": "https://localhost:8080/"
        },
        "id": "TQtfmiA2EMDr",
        "outputId": "89be8c2b-e5d0-4c9f-dc4e-2da04e629f91"
      },
      "source": [
        "!curl -s http://localhost:4040/api/tunnels | jq .tunnels[0].public_url\n",
        "!curl -s http://localhost:4040/api/tunnels | jq .tunnels[0].config.addr"
      ],
      "execution_count": 13,
      "outputs": [
        {
          "output_type": "stream",
          "name": "stdout",
          "text": [
            "\u001b[0;32m\"https://89a2-34-125-43-156.ngrok.io\"\u001b[0m\n",
            "\u001b[0;32m\"http://localhost:8501\"\u001b[0m\n"
          ]
        }
      ]
    },
    {
      "cell_type": "code",
      "metadata": {
        "colab": {
          "base_uri": "https://localhost:8080/"
        },
        "id": "Rct7XA0H4tlJ",
        "outputId": "8a1315a3-665c-4794-c27c-3ec59ceb9f53"
      },
      "source": [
        "!streamlit hello"
      ],
      "execution_count": 14,
      "outputs": [
        {
          "output_type": "stream",
          "name": "stdout",
          "text": [
            "\u001b[0m\n",
            "\u001b[34m\u001b[1m  Welcome to Streamlit. Check out our demo in your browser.\u001b[0m\n",
            "\u001b[0m\n",
            "\u001b[34m  Network URL: \u001b[0m\u001b[1mhttp://172.28.0.2:8501\u001b[0m\n",
            "\u001b[34m  External URL: \u001b[0m\u001b[1mhttp://34.125.43.156:8501\u001b[0m\n",
            "\u001b[0m\n",
            "  Ready to create your own Python apps super quickly?\u001b[0m\n",
            "  Head over to \u001b[0m\u001b[1mhttps://docs.streamlit.io\u001b[0m\n",
            "\u001b[0m\n",
            "  May you create awesome apps!\u001b[0m\n",
            "\u001b[0m\n",
            "\u001b[0m\n",
            "\u001b[34m  Stopping...\u001b[0m\n"
          ]
        }
      ]
    },
    {
      "cell_type": "markdown",
      "metadata": {
        "id": "vXK0WQnKLuyK"
      },
      "source": [
        "# Quickstart APP"
      ]
    },
    {
      "cell_type": "code",
      "metadata": {
        "colab": {
          "base_uri": "https://localhost:8080/"
        },
        "id": "GHcM9CvPLuEs",
        "outputId": "caa429d4-0966-47d2-98ac-e4dc394e29aa"
      },
      "source": [
        "%%writefile quickstart.py\n",
        "# Imports\n",
        "# -----------------------------------------------------------\n",
        "import streamlit as st\n",
        "import pandas as pd\n",
        "# -----------------------------------------------------------\n",
        "\n",
        "# Helper functions\n",
        "# -----------------------------------------------------------\n",
        "# Load data from external source\n",
        "df = pd.read_csv(\n",
        "    \"https://raw.githubusercontent.com/ThuwarakeshM/PracticalML-KMeans-Election/master/voters_demo_sample.csv\"\n",
        ")\n",
        "# -----------------------------------------------------------\n",
        "\n",
        "# Sidebar\n",
        "# -----------------------------------------------------------\n",
        "\n",
        "# -----------------------------------------------------------\n",
        "\n",
        "\n",
        "# Main\n",
        "# -----------------------------------------------------------\n",
        "# Create a title for your app\n",
        "st.title(\"Interactive K-Means Clustering\")\n",
        "\n",
        "# A description\n",
        "st.write(\"Here is the dataset used in this analysis:\")\n",
        "\n",
        "# Display the dataframe\n",
        "st.write(df)\n",
        "# -----------------------------------------------------------"
      ],
      "execution_count": 15,
      "outputs": [
        {
          "output_type": "stream",
          "name": "stdout",
          "text": [
            "Writing quickstart.py\n"
          ]
        }
      ]
    },
    {
      "cell_type": "code",
      "metadata": {
        "id": "v9WRJfurMIdR"
      },
      "source": [
        "#get_ipython().system_raw('./ngrok http 8501 &')\n",
        "public_url = ngrok.connect(8501)"
      ],
      "execution_count": 16,
      "outputs": []
    },
    {
      "cell_type": "code",
      "metadata": {
        "colab": {
          "base_uri": "https://localhost:8080/"
        },
        "id": "yQkp8qIhM4Ar",
        "outputId": "cdb0361d-d8eb-41a4-cb7f-b13c010a420f"
      },
      "source": [
        "public_url\n",
        "!curl -s http://localhost:4040/api/tunnels | jq .tunnels[0].public_url\n",
        "!curl -s http://localhost:4040/api/tunnels | jq .tunnels[0].config.addr"
      ],
      "execution_count": 17,
      "outputs": [
        {
          "output_type": "stream",
          "name": "stdout",
          "text": [
            "\u001b[0;32m\"https://43af-34-125-43-156.ngrok.io\"\u001b[0m\n",
            "\u001b[0;32m\"http://localhost:8501\"\u001b[0m\n"
          ]
        }
      ]
    },
    {
      "cell_type": "code",
      "metadata": {
        "colab": {
          "base_uri": "https://localhost:8080/"
        },
        "id": "dMqm8KIBMwim",
        "outputId": "b9f10941-9577-4555-cf18-62b340c342c2"
      },
      "source": [
        "!streamlit run quickstart.py"
      ],
      "execution_count": 18,
      "outputs": [
        {
          "output_type": "stream",
          "name": "stdout",
          "text": [
            "\u001b[0m\n",
            "\u001b[34m\u001b[1m  You can now view your Streamlit app in your browser.\u001b[0m\n",
            "\u001b[0m\n",
            "\u001b[34m  Network URL: \u001b[0m\u001b[1mhttp://172.28.0.2:8501\u001b[0m\n",
            "\u001b[34m  External URL: \u001b[0m\u001b[1mhttp://34.125.43.156:8501\u001b[0m\n",
            "\u001b[0m\n",
            "\u001b[34m  Stopping...\u001b[0m\n"
          ]
        }
      ]
    },
    {
      "cell_type": "markdown",
      "metadata": {
        "id": "ivINqiUBNW1W"
      },
      "source": [
        "# Quickstart 2"
      ]
    },
    {
      "cell_type": "code",
      "metadata": {
        "colab": {
          "base_uri": "https://localhost:8080/"
        },
        "id": "bFPIDy9rNc11",
        "outputId": "11a4b049-8004-45ba-9fe9-ff5ecb4223db"
      },
      "source": [
        "%%writefile quickstart2.py\n",
        "# Imports\n",
        "# -----------------------------------------------------------\n",
        "import streamlit as st\n",
        "import pandas as pd\n",
        "# -----------------------------------------------------------\n",
        "\n",
        "# Helper functions\n",
        "# -----------------------------------------------------------\n",
        "# Load data from external source\n",
        "df = pd.read_csv(\n",
        "    \"https://raw.githubusercontent.com/ThuwarakeshM/PracticalML-KMeans-Election/master/voters_demo_sample.csv\"\n",
        ")\n",
        "# -----------------------------------------------------------\n",
        "\n",
        "# Sidebar\n",
        "# -----------------------------------------------------------\n",
        "\n",
        "# -----------------------------------------------------------\n",
        "\n",
        "\n",
        "# Main\n",
        "# -----------------------------------------------------------\n",
        "# Create a title for your app\n",
        "st.title(\"Interactive K-Means Clustering\")\n",
        "\n",
        "# A description\n",
        "st.write(\"Here is the dataset used in this analysis:\")\n",
        "\n",
        "# Display the dataframe\n",
        "df_display = st.checkbox(\"Display Raw Data\", value=True)\n",
        "\n",
        "if df_display:\n",
        "    st.write(df)"
      ],
      "execution_count": 19,
      "outputs": [
        {
          "output_type": "stream",
          "name": "stdout",
          "text": [
            "Writing quickstart2.py\n"
          ]
        }
      ]
    },
    {
      "cell_type": "code",
      "metadata": {
        "id": "eKGd-p2yORGX",
        "outputId": "96fb8c05-8c67-4bf1-b0ef-10f8b71c932d",
        "colab": {
          "base_uri": "https://localhost:8080/"
        }
      },
      "source": [
        "#get_ipython().system_raw('./ngrok http 8501 &')\n",
        "public_url = ngrok.connect(8501)\n",
        "public_url"
      ],
      "execution_count": 20,
      "outputs": [
        {
          "output_type": "execute_result",
          "data": {
            "text/plain": [
              "<NgrokTunnel: \"http://2df6-34-125-43-156.ngrok.io\" -> \"http://localhost:8501\">"
            ]
          },
          "metadata": {},
          "execution_count": 20
        }
      ]
    },
    {
      "cell_type": "code",
      "metadata": {
        "colab": {
          "base_uri": "https://localhost:8080/"
        },
        "id": "g9KBRqSgOVNX",
        "outputId": "2c8c77e4-e54d-4f7e-d527-23cd1a8a0e9a"
      },
      "source": [
        "!curl -s http://localhost:4040/api/tunnels | jq .tunnels[0].public_url\n",
        "!curl -s http://localhost:4040/api/tunnels | jq .tunnels[0].config.addr"
      ],
      "execution_count": 21,
      "outputs": [
        {
          "output_type": "stream",
          "name": "stdout",
          "text": [
            "\u001b[0;32m\"https://2df6-34-125-43-156.ngrok.io\"\u001b[0m\n",
            "\u001b[0;32m\"http://localhost:8501\"\u001b[0m\n"
          ]
        }
      ]
    },
    {
      "cell_type": "code",
      "metadata": {
        "colab": {
          "base_uri": "https://localhost:8080/"
        },
        "id": "uMPiizvTOYfH",
        "outputId": "cb892604-97ae-451a-e321-2d0663b63990"
      },
      "source": [
        "!streamlit run quickstart2.py"
      ],
      "execution_count": 22,
      "outputs": [
        {
          "output_type": "stream",
          "name": "stdout",
          "text": [
            "\u001b[0m\n",
            "\u001b[34m\u001b[1m  You can now view your Streamlit app in your browser.\u001b[0m\n",
            "\u001b[0m\n",
            "\u001b[34m  Network URL: \u001b[0m\u001b[1mhttp://172.28.0.2:8501\u001b[0m\n",
            "\u001b[34m  External URL: \u001b[0m\u001b[1mhttp://34.125.43.156:8501\u001b[0m\n",
            "\u001b[0m\n",
            "\u001b[34m  Stopping...\u001b[0m\n",
            "^C\n"
          ]
        }
      ]
    },
    {
      "cell_type": "markdown",
      "metadata": {
        "id": "1huj1MYePCD7"
      },
      "source": [
        "# Quickstart 3 "
      ]
    },
    {
      "cell_type": "code",
      "metadata": {
        "colab": {
          "base_uri": "https://localhost:8080/"
        },
        "id": "D58fWO3ZPGd2",
        "outputId": "0e5f52b8-9d1e-43c8-8234-b1bfd32ea87a"
      },
      "source": [
        "%%writefile quickstart3.py\n",
        "# Imports\n",
        "# -----------------------------------------------------------\n",
        "import streamlit as st\n",
        "import pandas as pd\n",
        "# -----------------------------------------------------------\n",
        "\n",
        "# Helper functions\n",
        "# -----------------------------------------------------------\n",
        "# Load data from external source\n",
        "df = pd.read_csv(\n",
        "    \"https://raw.githubusercontent.com/ThuwarakeshM/PracticalML-KMeans-Election/master/voters_demo_sample.csv\"\n",
        ")\n",
        "# -----------------------------------------------------------\n",
        "\n",
        "# Sidebar\n",
        "# -----------------------------------------------------------\n",
        "# -----------------------------------------------------------\n",
        "sidebar = st.sidebar\n",
        "df_display = sidebar.checkbox(\"Display Raw Data\", value=True)\n",
        "\n",
        "n_clusters = sidebar.slider(\n",
        "    \"Select Number of Clusters\",\n",
        "    min_value=2,\n",
        "    max_value=10,\n",
        ")\n",
        "# -----------------------------------------------------------\n",
        "\n",
        "\n",
        "# Main\n",
        "# -----------------------------------------------------------\n",
        "# Create a title for your app\n",
        "st.title(\"Interactive K-Means Clustering\")\n",
        "\n",
        "# A description\n",
        "st.write(\"Here is the dataset used in this analysis:\")\n",
        "\n",
        "# Display the dataframe\n",
        "#df_display = st.checkbox(\"Display Raw Data\", value=True)\n",
        "\n",
        "if df_display:\n",
        "    st.write(df)"
      ],
      "execution_count": 23,
      "outputs": [
        {
          "output_type": "stream",
          "name": "stdout",
          "text": [
            "Writing quickstart3.py\n"
          ]
        }
      ]
    },
    {
      "cell_type": "code",
      "metadata": {
        "id": "qGYg-1WpPTZr"
      },
      "source": [
        "#get_ipython().system_raw('./ngrok http 8501 &')\n",
        "public_url = ngrok.connect(8501)"
      ],
      "execution_count": 26,
      "outputs": []
    },
    {
      "cell_type": "code",
      "metadata": {
        "colab": {
          "base_uri": "https://localhost:8080/"
        },
        "id": "-YzvHwWfPW4n",
        "outputId": "0ec31feb-8813-4334-9b39-1af7db255be4"
      },
      "source": [
        "#!curl -s http://localhost:4040/api/tunnels | jq .tunnels[0].public_url\n",
        "#!curl -s http://localhost:4040/api/tunnels | jq .tunnels[0].config.addr\n",
        "public_url"
      ],
      "execution_count": 27,
      "outputs": [
        {
          "output_type": "execute_result",
          "data": {
            "text/plain": [
              "<NgrokTunnel: \"http://ea97-34-125-43-156.ngrok.io\" -> \"http://localhost:8501\">"
            ]
          },
          "metadata": {},
          "execution_count": 27
        }
      ]
    },
    {
      "cell_type": "code",
      "metadata": {
        "colab": {
          "base_uri": "https://localhost:8080/"
        },
        "id": "fceFIL-tPZz8",
        "outputId": "a0477e7b-a19b-49fe-9b64-d6cf0a52c43a"
      },
      "source": [
        "!streamlit run quickstart3.py"
      ],
      "execution_count": 28,
      "outputs": [
        {
          "output_type": "stream",
          "name": "stdout",
          "text": [
            "\u001b[0m\n",
            "\u001b[34m\u001b[1m  You can now view your Streamlit app in your browser.\u001b[0m\n",
            "\u001b[0m\n",
            "\u001b[34m  Network URL: \u001b[0m\u001b[1mhttp://172.28.0.2:8501\u001b[0m\n",
            "\u001b[34m  External URL: \u001b[0m\u001b[1mhttp://34.125.43.156:8501\u001b[0m\n",
            "\u001b[0m\n",
            "\u001b[34m  Stopping...\u001b[0m\n",
            "Traceback (most recent call last):\n",
            "  File \"/usr/local/bin/streamlit\", line 8, in <module>\n",
            "    sys.exit(main())\n",
            "  File \"/usr/local/lib/python3.7/dist-packages/click/core.py\", line 829, in __call__\n",
            "    return self.main(*args, **kwargs)\n",
            "  File \"/usr/local/lib/python3.7/dist-packages/click/core.py\", line 782, in main\n",
            "    rv = self.invoke(ctx)\n",
            "  File \"/usr/local/lib/python3.7/dist-packages/click/core.py\", line 1259, in invoke\n",
            "    return _process_result(sub_ctx.command.invoke(sub_ctx))\n",
            "  File \"/usr/local/lib/python3.7/dist-packages/click/core.py\", line 1066, in invoke\n",
            "    return ctx.invoke(self.callback, **ctx.params)\n",
            "  File \"/usr/local/lib/python3.7/dist-packages/click/core.py\", line 610, in invoke\n",
            "    return callback(*args, **kwargs)\n",
            "  File \"/usr/local/lib/python3.7/dist-packages/streamlit/cli.py\", line 191, in main_run\n",
            "    _main_run(target, args, flag_options=kwargs)\n",
            "  File \"/usr/local/lib/python3.7/dist-packages/streamlit/cli.py\", line 219, in _main_run\n",
            "    bootstrap.run(file, command_line, args, flag_options)\n",
            "  File \"/usr/local/lib/python3.7/dist-packages/streamlit/bootstrap.py\", line 363, in run\n",
            "    ioloop.start()\n",
            "  File \"/usr/local/lib/python3.7/dist-packages/tornado/platform/asyncio.py\", line 132, in start\n",
            "    self.asyncio_loop.run_forever()\n",
            "  File \"/usr/lib/python3.7/asyncio/base_events.py\", line 541, in run_forever\n",
            "    self._run_once()\n",
            "  File \"/usr/lib/python3.7/asyncio/base_events.py\", line 1750, in _run_once\n",
            "    event_list = self._selector.select(timeout)\n",
            "  File \"/usr/lib/python3.7/selectors.py\", line 468, in select\n",
            "    fd_event_list = self._selector.poll(timeout, max_ev)\n",
            "  File \"/usr/local/lib/python3.7/dist-packages/streamlit/bootstrap.py\", line 67, in signal_handler\n",
            "    Server.get_current().stop()\n",
            "  File \"/usr/local/lib/python3.7/dist-packages/streamlit/server/server.py\", line 600, in stop\n",
            "    click.secho(\"  Stopping...\", fg=\"blue\")\n",
            "  File \"/usr/local/lib/python3.7/dist-packages/click/termui.py\", line 548, in secho\n",
            "    return echo(message, file=file, nl=nl, err=err, color=color)\n",
            "  File \"/usr/local/lib/python3.7/dist-packages/click/utils.py\", line 272, in echo\n",
            "    file.write(message)\n",
            "  File \"/usr/local/lib/python3.7/dist-packages/streamlit/bootstrap.py\", line 67, in signal_handler\n",
            "    Server.get_current().stop()\n",
            "  File \"/usr/local/lib/python3.7/dist-packages/streamlit/server/server.py\", line 600, in stop\n",
            "    click.secho(\"  Stopping...\", fg=\"blue\")\n",
            "  File \"/usr/local/lib/python3.7/dist-packages/click/termui.py\", line 548, in secho\n",
            "    return echo(message, file=file, nl=nl, err=err, color=color)\n",
            "  File \"/usr/local/lib/python3.7/dist-packages/click/utils.py\", line 272, in echo\n",
            "    file.write(message)\n",
            "RuntimeError: reentrant call inside <_io.BufferedWriter name='<stdout>'>\n"
          ]
        }
      ]
    },
    {
      "cell_type": "markdown",
      "metadata": {
        "id": "vBWtZzhgQ_YI"
      },
      "source": [
        "# Quickstart 4"
      ]
    },
    {
      "cell_type": "code",
      "metadata": {
        "colab": {
          "base_uri": "https://localhost:8080/"
        },
        "id": "XzcF_2e_RDvA",
        "outputId": "6b833467-f11b-4bcd-ee37-4a44474e88ce"
      },
      "source": [
        "%%writefile quickstart4.py\n",
        "# Imports\n",
        "# -----------------------------------------------------------\n",
        "import streamlit as st\n",
        "import pandas as pd\n",
        "from sklearn.cluster import KMeans\n",
        "import matplotlib.pyplot as plt\n",
        "import seaborn as sns\n",
        "# -----------------------------------------------------------\n",
        "\n",
        "sns.set_theme()\n",
        "\n",
        "# Helper functions\n",
        "# -----------------------------------------------------------\n",
        "# Load data from external source\n",
        "df = pd.read_csv(\n",
        "    \"https://raw.githubusercontent.com/ThuwarakeshM/PracticalML-KMeans-Election/master/voters_demo_sample.csv\"\n",
        ")\n",
        "# -----------------------------------------------------------\n",
        "def run_kmeans(df, n_clusters=2):\n",
        "    kmeans = KMeans(n_clusters, random_state=0).fit(df[[\"Age\", \"Income\"]])\n",
        "\n",
        "    fig, ax = plt.subplots(figsize=(16, 9))\n",
        "\n",
        "    #Create scatterplot\n",
        "    ax = sns.scatterplot(\n",
        "        ax=ax,\n",
        "        x=df.Age,\n",
        "        y=df.Income,\n",
        "        hue=kmeans.labels_,\n",
        "        palette=sns.color_palette(\"colorblind\", n_colors=n_clusters),\n",
        "        legend=None,\n",
        "    )\n",
        "\n",
        "    return fig\n",
        "# -----------------------------------------------------------\n",
        "# Sidebar\n",
        "# -----------------------------------------------------------\n",
        "# -----------------------------------------------------------\n",
        "sidebar = st.sidebar\n",
        "df_display = sidebar.checkbox(\"Display Raw Data\", value=True)\n",
        "\n",
        "n_clusters = sidebar.slider(\n",
        "    \"Select Number of Clusters\",\n",
        "    min_value=2,\n",
        "    max_value=10,\n",
        ")\n",
        "# -----------------------------------------------------------\n",
        "\n",
        "\n",
        "# Main\n",
        "# -----------------------------------------------------------\n",
        "# Create a title for your app\n",
        "st.title(\"Interactive K-Means Clustering\")\n",
        "\n",
        "# A description\n",
        "st.write(\"Here is the dataset used in this analysis:\")\n",
        "\n",
        "# Display the dataframe\n",
        "#df_display = st.checkbox(\"Display Raw Data\", value=True)\n",
        "\n",
        "if df_display:\n",
        "    st.write(df)\n",
        "\n",
        "# Show cluster scatter plot\n",
        "st.write(run_kmeans(df, n_clusters=n_clusters))"
      ],
      "execution_count": 29,
      "outputs": [
        {
          "output_type": "stream",
          "name": "stdout",
          "text": [
            "Writing quickstart4.py\n"
          ]
        }
      ]
    },
    {
      "cell_type": "code",
      "metadata": {
        "id": "LTksDhu5R32f"
      },
      "source": [
        "#get_ipython().system_raw('./ngrok http 8501 &')\n",
        "public_url = ngrok.connect(8501)"
      ],
      "execution_count": 30,
      "outputs": []
    },
    {
      "cell_type": "code",
      "metadata": {
        "colab": {
          "base_uri": "https://localhost:8080/"
        },
        "id": "B_1yIe6_R8jT",
        "outputId": "8427b69d-5567-422d-c12c-c216ad6afc31"
      },
      "source": [
        "public_url\n",
        "#!curl -s http://localhost:4040/api/tunnels | jq .tunnels[0].public_url\n",
        "#!curl -s http://localhost:4040/api/tunnels | jq .tunnels[0].config.addr"
      ],
      "execution_count": 31,
      "outputs": [
        {
          "output_type": "execute_result",
          "data": {
            "text/plain": [
              "<NgrokTunnel: \"http://5576-34-125-43-156.ngrok.io\" -> \"http://localhost:8501\">"
            ]
          },
          "metadata": {},
          "execution_count": 31
        }
      ]
    },
    {
      "cell_type": "code",
      "metadata": {
        "colab": {
          "base_uri": "https://localhost:8080/"
        },
        "id": "S_8R6IkwSDij",
        "outputId": "a5c08087-1df2-42ed-83ee-62ecbe112487"
      },
      "source": [
        "!streamlit run quickstart4.py"
      ],
      "execution_count": 32,
      "outputs": [
        {
          "output_type": "stream",
          "name": "stdout",
          "text": [
            "\u001b[0m\n",
            "\u001b[34m\u001b[1m  You can now view your Streamlit app in your browser.\u001b[0m\n",
            "\u001b[0m\n",
            "\u001b[34m  Network URL: \u001b[0m\u001b[1mhttp://172.28.0.2:8501\u001b[0m\n",
            "\u001b[34m  External URL: \u001b[0m\u001b[1mhttp://34.125.43.156:8501\u001b[0m\n",
            "\u001b[0m\n",
            "2021-09-15 14:28:26.140 NumExpr defaulting to 2 threads.\n",
            "\u001b[34m  Stopping...\u001b[0m\n"
          ]
        }
      ]
    },
    {
      "cell_type": "markdown",
      "metadata": {
        "id": "AClF5qKZTqpB"
      },
      "source": [
        "#Quickstart 5"
      ]
    },
    {
      "cell_type": "code",
      "metadata": {
        "colab": {
          "base_uri": "https://localhost:8080/"
        },
        "id": "MxqlI39rTuNE",
        "outputId": "fa2f9746-557e-4cab-b647-134c5df7cf7f"
      },
      "source": [
        "%%writefile quickstart5.py\n",
        "# Imports\n",
        "# -----------------------------------------------------------\n",
        "import streamlit as st\n",
        "import pandas as pd\n",
        "from sklearn.cluster import KMeans\n",
        "import matplotlib.pyplot as plt\n",
        "import seaborn as sns\n",
        "# -----------------------------------------------------------\n",
        "\n",
        "sns.set_theme()\n",
        "\n",
        "# Helper functions\n",
        "# -----------------------------------------------------------\n",
        "# Load data from external source\n",
        "@st.cache\n",
        "def load_data():\n",
        "    df = pd.read_csv(\n",
        "        \"https://raw.githubusercontent.com/ThuwarakeshM/PracticalML-KMeans-Election/master/voters_demo_sample.csv\"\n",
        "    )\n",
        "    return df\n",
        "\n",
        "df = load_data()\n",
        "# -----------------------------------------------------------\n",
        "def run_kmeans(df, n_clusters=2):\n",
        "    kmeans = KMeans(n_clusters, random_state=0).fit(df[[\"Age\", \"Income\"]])\n",
        "\n",
        "    fig, ax = plt.subplots(figsize=(16, 9))\n",
        "\n",
        "    #Create scatterplot\n",
        "    ax = sns.scatterplot(\n",
        "        ax=ax,\n",
        "        x=df.Age,\n",
        "        y=df.Income,\n",
        "        hue=kmeans.labels_,\n",
        "        palette=sns.color_palette(\"colorblind\", n_colors=n_clusters),\n",
        "        legend=None,\n",
        "    )\n",
        "\n",
        "    return fig\n",
        "# -----------------------------------------------------------\n",
        "# Sidebar\n",
        "# -----------------------------------------------------------\n",
        "# -----------------------------------------------------------\n",
        "sidebar = st.sidebar\n",
        "df_display = sidebar.checkbox(\"Display Raw Data\", value=True)\n",
        "\n",
        "n_clusters = sidebar.slider(\n",
        "    \"Select Number of Clusters\",\n",
        "    min_value=2,\n",
        "    max_value=10,\n",
        ")\n",
        "# -----------------------------------------------------------\n",
        "\n",
        "\n",
        "# Main\n",
        "# -----------------------------------------------------------\n",
        "# Create a title for your app\n",
        "st.title(\"Interactive K-Means Clustering\")\n",
        "\n",
        "# A description\n",
        "st.write(\"Here is the dataset used in this analysis:\")\n",
        "\n",
        "# Display the dataframe\n",
        "#df_display = st.checkbox(\"Display Raw Data\", value=True)\n",
        "\n",
        "if df_display:\n",
        "    st.write(df)\n",
        "\n",
        "# Show cluster scatter plot\n",
        "st.write(run_kmeans(df, n_clusters=n_clusters))"
      ],
      "execution_count": 33,
      "outputs": [
        {
          "output_type": "stream",
          "name": "stdout",
          "text": [
            "Writing quickstart5.py\n"
          ]
        }
      ]
    },
    {
      "cell_type": "code",
      "metadata": {
        "id": "M-TU87gbVENs",
        "outputId": "0b6ddf1f-fc72-450c-c694-f9b319de3878",
        "colab": {
          "base_uri": "https://localhost:8080/"
        }
      },
      "source": [
        "#get_ipython().system_raw('./ngrok http 8501 &')\n",
        "public_url = ngrok.connect(8501)\n",
        "public_url"
      ],
      "execution_count": 34,
      "outputs": [
        {
          "output_type": "execute_result",
          "data": {
            "text/plain": [
              "<NgrokTunnel: \"http://6906-34-125-43-156.ngrok.io\" -> \"http://localhost:8501\">"
            ]
          },
          "metadata": {},
          "execution_count": 34
        }
      ]
    },
    {
      "cell_type": "code",
      "metadata": {
        "id": "30JkxKxQVJ8d"
      },
      "source": [
        "#!curl -s http://localhost:4040/api/tunnels | jq .tunnels[0].public_url\n",
        "#!curl -s http://localhost:4040/api/tunnels | jq .tunnels[0].config.addr"
      ],
      "execution_count": 35,
      "outputs": []
    },
    {
      "cell_type": "code",
      "metadata": {
        "colab": {
          "base_uri": "https://localhost:8080/"
        },
        "id": "mOn3XiclVNa0",
        "outputId": "b4074833-78b8-4ae4-c885-d24bd4adf898"
      },
      "source": [
        "!streamlit run quickstart5.py"
      ],
      "execution_count": 36,
      "outputs": [
        {
          "output_type": "stream",
          "name": "stdout",
          "text": [
            "\u001b[0m\n",
            "\u001b[34m\u001b[1m  You can now view your Streamlit app in your browser.\u001b[0m\n",
            "\u001b[0m\n",
            "\u001b[34m  Network URL: \u001b[0m\u001b[1mhttp://172.28.0.2:8501\u001b[0m\n",
            "\u001b[34m  External URL: \u001b[0m\u001b[1mhttp://34.125.43.156:8501\u001b[0m\n",
            "\u001b[0m\n",
            "2021-09-15 14:30:28.801 NumExpr defaulting to 2 threads.\n",
            "\u001b[34m  Stopping...\u001b[0m\n"
          ]
        }
      ]
    },
    {
      "cell_type": "markdown",
      "metadata": {
        "id": "KzJSScXWVrFn"
      },
      "source": [
        "#Chronobooks <br>\n",
        "![alt text](https://1.bp.blogspot.com/-lTiYBkU2qbU/X1er__fvnkI/AAAAAAAAjtE/GhDR3OEGJr4NG43fZPodrQD5kbxtnKebgCLcBGAsYHQ/s600/Footer2020-600x200.png)<hr>\n",
        "Chronotantra and Chronoyantra are two science fiction novels that explore the collapse of human civilisation on Earth and then its rebirth and reincarnation both on Earth as well as on the distant worlds of Mars, Titan and Enceladus. But is it the human civilisation that is being reborn? Or is it some other sentience that is revealing itself. \n",
        "If you have an interest in AI and found this material useful, you may consider buying these novels, in paperback or kindle, from [http://bit.ly/chronobooks](http://bit.ly/chronobooks)"
      ]
    }
  ]
}